{
 "cells": [
  {
   "cell_type": "markdown",
   "metadata": {},
   "source": [
    "# 演習5_クラスタリング(k-means)：自動車メーカーの評価"
   ]
  },
  {
   "cell_type": "code",
   "execution_count": null,
   "metadata": {
    "execution": {
     "iopub.execute_input": "2021-03-20T23:07:49.242663Z",
     "iopub.status.busy": "2021-03-20T23:07:49.236857Z",
     "iopub.status.idle": "2021-03-20T23:07:50.501548Z",
     "shell.execute_reply": "2021-03-20T23:07:50.500975Z",
     "shell.execute_reply.started": "2021-03-20T23:07:49.237887Z"
    }
   },
   "outputs": [],
   "source": [
    "### 必要なパッケージ（ライブラリ）の読み込み ###\n",
    "import pandas as pd             # データフレーム型変数を取り扱えるパッケージ\"pandas\"を読込み（以降\"pd\"と略記）\n",
    "import matplotlib.pyplot as plt # グラフ描画のパッケージ\"matplotlib\"を読込み（以降\"plt\"と略記）\n",
    "import seaborn as sns           # 上記matplotlibをベースにした高機能可視化モジュール\"saeborn\"を読込み（以降\"sns\"と略記）\n",
    "import numpy as np              # 数値演算のためのパッケージ\"numpy\"を読込み（以降\"np\"と略記）"
   ]
  },
  {
   "cell_type": "markdown",
   "metadata": {},
   "source": [
    "## データの理解（観察）"
   ]
  },
  {
   "cell_type": "markdown",
   "metadata": {},
   "source": [
    "### データの読み込み"
   ]
  },
  {
   "cell_type": "code",
   "execution_count": null,
   "metadata": {
    "execution": {
     "iopub.execute_input": "2021-03-20T23:07:50.955191Z",
     "iopub.status.busy": "2021-03-20T23:07:50.954690Z",
     "iopub.status.idle": "2021-03-20T23:07:51.167990Z",
     "shell.execute_reply": "2021-03-20T23:07:51.167614Z",
     "shell.execute_reply.started": "2021-03-20T23:07:50.955114Z"
    }
   },
   "outputs": [],
   "source": [
    "# データの読み込み\n",
    "df = pd.read_excel('ファイル名入力（Tabキーによる文字補完を活用）')\n",
    "\n",
    "# ※ \"演習05_\" まで入力し、TABキーで補完するのが効率的"
   ]
  },
  {
   "cell_type": "code",
   "execution_count": null,
   "metadata": {
    "scrolled": true
   },
   "outputs": [],
   "source": [
    "# データが正しく読み込まれた確認\n",
    "df"
   ]
  },
  {
   "cell_type": "markdown",
   "metadata": {},
   "source": [
    "### 参考：描画設定\n",
    "※重なりなどの描画崩れや、文字化けなど、描画がうまくいかない場合"
   ]
  },
  {
   "cell_type": "code",
   "execution_count": null,
   "metadata": {
    "execution": {
     "iopub.execute_input": "2021-03-20T23:08:25.212133Z",
     "iopub.status.busy": "2021-03-20T23:08:25.211754Z",
     "iopub.status.idle": "2021-03-20T23:08:25.221874Z",
     "shell.execute_reply": "2021-03-20T23:08:25.220885Z",
     "shell.execute_reply.started": "2021-03-20T23:08:25.212095Z"
    }
   },
   "outputs": [],
   "source": [
    "### 以下、デザイン設定 ###\n",
    "# plt.rcParams['figure.figsize'] = 10, 5             # グラフのサイズ指定\n",
    "plt.rcParams['font.sans-serif'] = ['Hiragino Maru Gothic Pro', 'Yu Gothic', 'Meirio', 'Takao',\n",
    "                                   'IPAexGothic', 'IPAPGothic', 'VL PGothic', 'Noto Sans CJK JP']\n",
    "                                                   # 文字化け対策にフォント指定\n",
    "plt.rcParams['font.size'] = 16                     # フォントサイズ一括指定\n",
    "plt.tight_layout()                                 # グラフ同士が重ならないようにする\n",
    "# plt.grid(True)                                   # グリッド表示ON\n",
    "plt.show()                                         # 各種設定の反映"
   ]
  },
  {
   "cell_type": "markdown",
   "metadata": {},
   "source": [
    "### 散布図行列\n",
    "※実行に時間がかかるため要注意"
   ]
  },
  {
   "cell_type": "code",
   "execution_count": null,
   "metadata": {
    "scrolled": true
   },
   "outputs": [],
   "source": [
    "# 散布図行列による傾向確認\n",
    "sns.pairplot(df.drop(columns=['自動車メーカー'])) #識別番号は可視化から除外\n",
    "\n",
    "### 文字化け対策にフォント指定 ### ※後段の「描画設定」セル実行でもOK\n",
    "# sns.set(font='Yu Mincho') # for Win\n",
    "# sns.set(font='Hiragino Maru Gothic Pro') # for Mac\n",
    "##############################\n",
    "\n",
    "plt.show()"
   ]
  },
  {
   "cell_type": "markdown",
   "metadata": {},
   "source": [
    "### 相関行列の確認"
   ]
  },
  {
   "cell_type": "code",
   "execution_count": null,
   "metadata": {
    "execution": {
     "iopub.execute_input": "2021-04-20T19:03:42.604856Z",
     "iopub.status.busy": "2021-04-20T19:03:42.584795Z",
     "iopub.status.idle": "2021-04-20T19:03:43.191938Z",
     "shell.execute_reply": "2021-04-20T19:03:43.190460Z",
     "shell.execute_reply.started": "2021-04-20T19:03:42.595327Z"
    }
   },
   "outputs": [],
   "source": [
    "### 相関行列による変数間の関係性確認 ###\n",
    "df.corr(numeric_only=True)  # 相関行列の算出\n",
    "\n",
    "# pandasのv2.0.0以降、数値以外のデータが入っているとエラーになるため、\n",
    "# 数値データのみに絞り込むオプション numeric_only=True を指定する"
   ]
  },
  {
   "cell_type": "code",
   "execution_count": null,
   "metadata": {},
   "outputs": [],
   "source": [
    "### 相関行列のお化粧（ヒートマップ） ###\n",
    "\n",
    "colormap = plt.cm.RdBu_r                                   # カラーマップの設定 (RdBu:赤〜青 ⇔ RdBu_r:青〜赤)\n",
    "\n",
    "plt.rcParams['figure.figsize'] = 10, 5                    # Figureサイズの指定\n",
    "\n",
    "# # 相関行列の右上半分を隠したい場合は、次の2行のコメントを解除する\n",
    "# mask = np.zeros_like(df.corr(), dtype=np.bool)\n",
    "# mask[np.triu_indices_from(mask)] = True\n",
    "\n",
    "sns.heatmap(df.corr(numeric_only=True),linewidths=0.1, linecolor='white',   # 相関行列df.corr()を引数としヒートマップ作成\t\n",
    "            vmax=1.0, vmin=-1.0, cmap=colormap, annot=True )\n",
    "\n",
    "            # linewidths/linecolor: 格子線の太さ/色\n",
    "            # cmap:                 カラーマップの指定\n",
    "            # vmax/vmin:            最大値/最小値\n",
    "            # annot:                各要素への数値表示\n",
    "            # mask:                 可視化から除外する対象（例：mask=mask）\n",
    "            "
   ]
  },
  {
   "cell_type": "markdown",
   "metadata": {},
   "source": [
    "## データの準備（加工）"
   ]
  },
  {
   "cell_type": "markdown",
   "metadata": {},
   "source": [
    "### 欠損値の補完"
   ]
  },
  {
   "cell_type": "code",
   "execution_count": null,
   "metadata": {},
   "outputs": [],
   "source": [
    "### 欠損値の確認 ###\n",
    "df.isnull().sum()"
   ]
  },
  {
   "cell_type": "markdown",
   "metadata": {},
   "source": [
    "### ダミー変数化\n",
    "※今回はカテゴリー値がないので不要"
   ]
  },
  {
   "cell_type": "markdown",
   "metadata": {},
   "source": [
    "## モデルの構築"
   ]
  },
  {
   "cell_type": "markdown",
   "metadata": {},
   "source": [
    "### k-meansクラスタリングモデルの構築"
   ]
  },
  {
   "cell_type": "code",
   "execution_count": null,
   "metadata": {
    "execution": {
     "iopub.execute_input": "2021-03-20T23:08:02.924961Z",
     "iopub.status.busy": "2021-03-20T23:08:02.924568Z",
     "iopub.status.idle": "2021-03-20T23:08:03.309532Z",
     "shell.execute_reply": "2021-03-20T23:08:03.309174Z",
     "shell.execute_reply.started": "2021-03-20T23:08:02.924924Z"
    }
   },
   "outputs": [],
   "source": [
    "from sklearn.cluster import KMeans # 機械学習パッケージに含まれたKMeansモジュール\"KMeans\"を読込\n",
    "\n",
    "# 説明変数のセット\n",
    "X = df.drop(columns=['自動車メーカー'])  #「自動車メーカー」のカラムを除外した全変数を説明変数にセット\n",
    "\n",
    "# もしくは、下記のように明示的に説明変数を指定しても可\n",
    "# X = df[ ['センスがよい', '格調高い', '若々しい', '信頼感のある', '親しみやすい', '先進的な',\n",
    "#        '技術が優れている', '独創的な', 'スポーティーな', '安心感のある'] ]\n",
    "#\n",
    "# X = df.loc[:,'センスがよい':'安心感のある']\n",
    "\n",
    "\n",
    "# クラスタ数の設定\n",
    "n = 3\n",
    "\n",
    "# クラスタリング\n",
    "model = KMeans( n_clusters=n, random_state=0 )  #クラスタリングの実行準備\n",
    "                                                # オプションの説明：\n",
    "                                                # n_clustersでクラスタ数指定\n",
    "                                                # random_state=数値固定 でモデルの再現性を保持（乱数のシードを固定）\n",
    "                                                # init='k-means++' or 'random' で初期クラスタ中心の配置方法を指定。defaultは'k-means++'\n",
    "model.fit(X) #Xを説明変数としてクラスタリング実行"
   ]
  },
  {
   "cell_type": "markdown",
   "metadata": {},
   "source": [
    "### 結果の出力"
   ]
  },
  {
   "cell_type": "code",
   "execution_count": null,
   "metadata": {
    "execution": {
     "iopub.execute_input": "2021-03-20T23:08:08.703132Z",
     "iopub.status.busy": "2021-03-20T23:08:08.702107Z",
     "iopub.status.idle": "2021-03-20T23:08:08.713639Z",
     "shell.execute_reply": "2021-03-20T23:08:08.712440Z",
     "shell.execute_reply.started": "2021-03-20T23:08:08.703039Z"
    }
   },
   "outputs": [],
   "source": [
    "### 所属クラスタ、重心座標の出力 ###\n",
    "print(model.labels_) # 各データ点が所属するクラスタ\n",
    "print(model.cluster_centers_) # 各クラスタの重心座標"
   ]
  },
  {
   "cell_type": "markdown",
   "metadata": {},
   "source": [
    "### 元データへのクラスタ番号紐付け"
   ]
  },
  {
   "cell_type": "code",
   "execution_count": null,
   "metadata": {
    "execution": {
     "iopub.execute_input": "2021-03-20T23:08:11.115349Z",
     "iopub.status.busy": "2021-03-20T23:08:11.114947Z",
     "iopub.status.idle": "2021-03-20T23:08:11.122875Z",
     "shell.execute_reply": "2021-03-20T23:08:11.121264Z",
     "shell.execute_reply.started": "2021-03-20T23:08:11.115306Z"
    }
   },
   "outputs": [],
   "source": [
    "### 元のdataframeにクラスタ番号を追加 ###\n",
    "df['cluster'] = model.labels_"
   ]
  },
  {
   "cell_type": "code",
   "execution_count": null,
   "metadata": {
    "scrolled": true
   },
   "outputs": [],
   "source": [
    "df #紐付け結果確認"
   ]
  },
  {
   "cell_type": "code",
   "execution_count": null,
   "metadata": {},
   "outputs": [],
   "source": [
    "### 各クラスタに所属するデータ件数確認 ###\n",
    "df['cluster'].value_counts()"
   ]
  },
  {
   "cell_type": "markdown",
   "metadata": {},
   "source": [
    "## モデルの評価：クラスタリング結果の可視化"
   ]
  },
  {
   "cell_type": "markdown",
   "metadata": {},
   "source": [
    "### クラスタごとの分布確認（箱ひげ図）"
   ]
  },
  {
   "cell_type": "code",
   "execution_count": null,
   "metadata": {
    "execution": {
     "iopub.execute_input": "2021-03-20T23:08:28.710219Z",
     "iopub.status.busy": "2021-03-20T23:08:28.709413Z",
     "iopub.status.idle": "2021-03-20T23:08:29.565257Z",
     "shell.execute_reply": "2021-03-20T23:08:29.564822Z",
     "shell.execute_reply.started": "2021-03-20T23:08:28.710174Z"
    }
   },
   "outputs": [],
   "source": [
    "# 複数を並べて表示するために、subplotを定義\n",
    "fig, axes = plt.subplots(3, 4, figsize=(20,10))\n",
    "\n",
    "# 数値データ（アンケートデータ）のみ抽出（自動車メーカー名とクラスタ番号を除外）\n",
    "df_num = df.drop(columns=['自動車メーカー','cluster'])\n",
    "\n",
    "# カラムごとにループを回して、クラスタごとの箱ひげ図を描画\n",
    "for i, col in enumerate( df_num.columns ):\n",
    "    j, k = divmod(i, 4) #描くグラフ位置を指定（横方向のグラフ個数=4で割った商と余り）\n",
    "    sns.boxplot(x='cluster', y=col, data=df, ax=axes[j,k]) #該当するカラムの箱ひげ図を指定の位置に描画\n",
    "    \n",
    "#　グラフが重ならないように調整\n",
    "plt.tight_layout()"
   ]
  },
  {
   "cell_type": "markdown",
   "metadata": {},
   "source": [
    "### 特定の軸での散布図確認"
   ]
  },
  {
   "cell_type": "code",
   "execution_count": null,
   "metadata": {
    "execution": {
     "iopub.execute_input": "2021-03-20T23:12:11.622237Z",
     "iopub.status.busy": "2021-03-20T23:12:11.621861Z",
     "iopub.status.idle": "2021-03-20T23:12:23.701377Z",
     "shell.execute_reply": "2021-03-20T23:12:23.700955Z",
     "shell.execute_reply.started": "2021-03-20T23:12:11.622177Z"
    },
    "scrolled": true
   },
   "outputs": [],
   "source": [
    "### 散布図行列でクラスタごとに色分けして可視化 ###\n",
    "sns.pairplot( df.drop(columns=['自動車メーカー']), hue='cluster')\n",
    "# ※実行に時間がかかるため、注意"
   ]
  },
  {
   "cell_type": "code",
   "execution_count": null,
   "metadata": {
    "execution": {
     "iopub.execute_input": "2021-03-20T23:12:06.830298Z",
     "iopub.status.busy": "2021-03-20T23:12:06.830187Z",
     "iopub.status.idle": "2021-03-20T23:12:06.832283Z",
     "shell.execute_reply": "2021-03-20T23:12:06.831934Z",
     "shell.execute_reply.started": "2021-03-20T23:12:06.830284Z"
    }
   },
   "outputs": [],
   "source": [
    "plt.rcParams['figure.figsize'] = 10, 7           # グラフのサイズを大きくする\n",
    "plt.show()"
   ]
  },
  {
   "cell_type": "code",
   "execution_count": null,
   "metadata": {
    "execution": {
     "iopub.execute_input": "2021-03-20T23:12:06.833419Z",
     "iopub.status.busy": "2021-03-20T23:12:06.833292Z",
     "iopub.status.idle": "2021-03-20T23:12:07.026583Z",
     "shell.execute_reply": "2021-03-20T23:12:07.026128Z",
     "shell.execute_reply.started": "2021-03-20T23:12:06.833404Z"
    }
   },
   "outputs": [],
   "source": [
    "### 特定の2変数で、クラスタごとに色分けして可視化＋クラスタ重心の可視化 ###\n",
    "\n",
    "# 特定の2変数を選択\n",
    "xcol = '親しみやすい'\n",
    "ycol = '格調高い'\n",
    "\n",
    "# 特定の2変数でクラスタごとに色分け可視化\n",
    "sns.scatterplot( data=df, x=xcol, y=ycol, hue='cluster', palette=sns.color_palette(n_colors=3)  )\n",
    "    #hue: 色分け対象\n",
    "    #palette: 色パターン\n",
    "    #クラスタごとにマーカー形状も変えたい場合は、style=df['cluster'] をオプションに加える\n",
    "\n",
    "# クラスタ重心 (mode.cluster_centers_) の可視化\n",
    "# ※model.cluster_centers_[:,0]で0番目の説明変数の重心座標\n",
    "sns.scatterplot( x=model.cluster_centers_[:,1], y=model.cluster_centers_[:,2], marker='*', s=300, color='purple' ) \n",
    "\n",
    "# 散布図上に、自動車メーカーの名前をプロット\n",
    "for i, company in enumerate(df['自動車メーカー']):\n",
    "    plt.annotate(company, (df[xcol].values[i], df[ycol].values[i]) )"
   ]
  },
  {
   "cell_type": "code",
   "execution_count": null,
   "metadata": {},
   "outputs": [],
   "source": [
    "### 特定の3変数で、クラスタごとに色分けして可視化（3次元プロット）」 ###\n",
    "### ※環境によっては、うまく表示されない可能性あり ###\n",
    "\n",
    "from mpl_toolkits.mplot3d.axes3d import Axes3D  #3次元プロットするためのモジュール\n",
    "\n",
    "#  特定の3変数を選択\n",
    "xcol = '親しみやすい'\n",
    "ycol = '格調高い'\n",
    "zcol = '先進的な'\n",
    "\n",
    "# グラフを手動で回転させるための設定\n",
    "%matplotlib notebook\n",
    "\n",
    "# 3次元グラフの枠を作る\n",
    "fig = plt.figure()    #枠作成\n",
    "ax = Axes3D(fig)      #3次元の軸を用意\n",
    "\n",
    "# データをプロット\n",
    "colors = {0:'blue', 1:'Orange', 2:'green'}\n",
    "ax.scatter( data=df, xs=xcol, ys=ycol, zs=zcol, s=50, c=df['cluster'].apply(lambda x: colors[x]) )\n",
    "  # c=df['cluster']でクラスターごとに色を変更\n",
    "  # s=50でプロットサイズ指定\n",
    "  # alpha=1 をオプションに入れると透過性無し\n",
    "    \n",
    "# 軸ラベルの表示\n",
    "ax.set_xlabel( xcol )\n",
    "ax.set_ylabel( ycol )\n",
    "ax.set_zlabel( zcol )\n",
    "\n",
    "#fig.colorbar(p) # カラーバーを表示\n",
    "\n",
    "plt.show()"
   ]
  },
  {
   "cell_type": "code",
   "execution_count": null,
   "metadata": {},
   "outputs": [],
   "source": [
    "# グラフをインライン表示に戻す（3次元プロット後は、必ず実行しておくこと！）\n",
    "# ※\"%matplotlib notebook\"の表示設定のままだと、3Dグラフ以外はうまく表示されないので元に戻す\n",
    "\n",
    "%matplotlib inline\n"
   ]
  },
  {
   "cell_type": "markdown",
   "metadata": {},
   "source": [
    "### 最適なクラスタ数の確認（Elbow法）"
   ]
  },
  {
   "cell_type": "code",
   "execution_count": null,
   "metadata": {},
   "outputs": [],
   "source": [
    "SSE = []                      #クラスタ評価関数（クラスタ内誤差平方和: SSE）を格納するリストを準備\n",
    "\n",
    "for i in range(1,7):          #クラスタ数を1から6まで振って順次k-meansを実行：range(start, stop)で start ≦ i < stop の連番を生成\n",
    "    model = KMeans(n_clusters=i, random_state=0) #クラスタリングの実行準備\n",
    "    model.fit(X)                                 #Xを説明変数としてk-meansクラスタリングの計算を実行\n",
    "    SSE.append(model.inertia_)                   #各クラスタ内のクラスタ内誤差平方和を取得し、リストに格納 ※inertiaは慣性という意味\n",
    "                                                 #（各データが所属クラスタの中心からどれだけ離れているか）\n",
    "plt.plot(range(1,7), SSE, marker='o')\n",
    "plt.xlabel('Number of clusters')\n",
    "plt.ylabel('SSE (Sum of Squared Errors)')\n",
    "plt.show()"
   ]
  }
 ],
 "metadata": {
  "kernelspec": {
   "display_name": "Python 3 (ipykernel)",
   "language": "python",
   "name": "python3"
  },
  "language_info": {
   "codemirror_mode": {
    "name": "ipython",
    "version": 3
   },
   "file_extension": ".py",
   "mimetype": "text/x-python",
   "name": "python",
   "nbconvert_exporter": "python",
   "pygments_lexer": "ipython3",
   "version": "3.11.3"
  },
  "toc": {
   "base_numbering": 1,
   "nav_menu": {},
   "number_sections": true,
   "sideBar": true,
   "skip_h1_title": false,
   "title_cell": "Table of Contents",
   "title_sidebar": "Contents",
   "toc_cell": false,
   "toc_position": {},
   "toc_section_display": true,
   "toc_window_display": false
  },
  "varInspector": {
   "cols": {
    "lenName": 16,
    "lenType": 16,
    "lenVar": 40
   },
   "kernels_config": {
    "python": {
     "delete_cmd_postfix": "",
     "delete_cmd_prefix": "del ",
     "library": "var_list.py",
     "varRefreshCmd": "print(var_dic_list())"
    },
    "r": {
     "delete_cmd_postfix": ") ",
     "delete_cmd_prefix": "rm(",
     "library": "var_list.r",
     "varRefreshCmd": "cat(var_dic_list()) "
    }
   },
   "types_to_exclude": [
    "module",
    "function",
    "builtin_function_or_method",
    "instance",
    "_Feature"
   ],
   "window_display": false
  }
 },
 "nbformat": 4,
 "nbformat_minor": 4
}

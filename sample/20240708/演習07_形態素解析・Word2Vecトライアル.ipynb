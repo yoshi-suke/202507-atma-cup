{
 "cells": [
  {
   "cell_type": "markdown",
   "metadata": {},
   "source": [
    "# 事前準備：パッケージ読み込み、各種設定"
   ]
  },
  {
   "cell_type": "markdown",
   "metadata": {},
   "source": [
    "## パッケージ読み込み"
   ]
  },
  {
   "cell_type": "code",
   "execution_count": null,
   "metadata": {},
   "outputs": [],
   "source": [
    "### 必要なパッケージ（ライブラリ）の読み込み ###\n",
    "import pandas as pd             # データフレーム型変数を取り扱えるパッケージ\"pandas\"を読込み（以降\"pd\"と略記）\n",
    "import matplotlib.pyplot as plt # グラフ描画のパッケージ\"matplotlib\"を読込み（以降\"plt\"と略記）\n",
    "import seaborn as sns           # 上記matplotlibをベースにした高機能可視化モジュール\"saeborn\"を読込み（以降\"sns\"と略記）\n",
    "import numpy as np              # 数値演算のためのパッケージ\"numpy\"を読込み（以降\"np\"と略記）"
   ]
  },
  {
   "cell_type": "markdown",
   "metadata": {
    "heading_collapsed": true
   },
   "source": [
    "## 文字化け対策"
   ]
  },
  {
   "cell_type": "code",
   "execution_count": null,
   "metadata": {
    "hidden": true
   },
   "outputs": [],
   "source": [
    "### 文字化け対策用のコード ###\n",
    "# 自身のPC環境に合わせて、該当する方のみ残す（もう片方はコメントアウトする）\n",
    "\n",
    "# for Win\n",
    "plt.rcParams['font.sans-serif'] = ['Yu Gothic'] #もしくは、['Yu Mincho’]\n",
    "\n",
    "# for Mac\n",
    "# plt.rcParams['font.sans-serif'] = ['Hiragino Maru Gothic Pro']"
   ]
  },
  {
   "cell_type": "markdown",
   "metadata": {
    "heading_collapsed": true
   },
   "source": [
    "## グラフの細かい設定（お好みで）"
   ]
  },
  {
   "cell_type": "code",
   "execution_count": null,
   "metadata": {
    "hidden": true
   },
   "outputs": [],
   "source": [
    "### その他細かいデザイン設定 ###\n",
    "\n",
    "# 出力されるグラフ画像の解像度を上げる\n",
    "%config InlineBackend.figure_formats = {'png', 'retina'}\n",
    "\n",
    "# グラフのサイズ指定\n",
    "# plt.rcParams['figure.figsize'] = 10, 5\n",
    "\n",
    "# # 実行環境に依らず、フォント設定を横断的に設定したい場合\n",
    "# plt.rcParams['font.sans-serif'] = ['Hiragino Maru Gothic Pro', 'Yu Gothic', 'Meirio', 'Takao',\n",
    "#                                    'IPAexGothic', 'IPAPGothic', 'VL PGothic', 'Noto Sans CJK JP']\n",
    "\n",
    "# フォントサイズ一括指定\n",
    "plt.rcParams['font.size'] = 14\n",
    "\n",
    "# グラフ同士が重ならないようにする\n",
    "plt.tight_layout()\n",
    "\n",
    "# グリッド表示ON\n",
    "# plt.grid(True)\n",
    "\n",
    "# 各種設定の反映\n",
    "plt.show()"
   ]
  },
  {
   "cell_type": "markdown",
   "metadata": {},
   "source": [
    "# 演習7-1：形態素解析（インストールが簡単なjanome）"
   ]
  },
  {
   "cell_type": "markdown",
   "metadata": {},
   "source": [
    "## Anaconda Promptでのインストールコマンド"
   ]
  },
  {
   "cell_type": "code",
   "execution_count": null,
   "metadata": {},
   "outputs": [],
   "source": [
    "### Anaconda Promptでのお手軽形態素解析パッケージ \"janome\" インストール ###\n",
    "# （※Macの場合はターミナル上からでOK）\n",
    "\n",
    "# 下記コマンドをコピペして使用\n",
    "# conda install -c conda-forge janome\n",
    "\n",
    "# ※どうしても上記でエラーが出てうまくいかない場合は、 pip install janome を用いる\n",
    "#.  ただし、conda install と pip install は相性が悪い部分もあり、公式でも非推奨"
   ]
  },
  {
   "cell_type": "markdown",
   "metadata": {},
   "source": [
    "## 形態素解析お試し"
   ]
  },
  {
   "cell_type": "code",
   "execution_count": null,
   "metadata": {},
   "outputs": [],
   "source": [
    "### 形態素解析のテスト ###\n",
    "from janome.tokenizer import Tokenizer\n",
    " \n",
    "t = Tokenizer()\n",
    "tokens = t.tokenize('すもももももももものうち')\n",
    " \n",
    "for token in tokens:\n",
    "    print(token)"
   ]
  },
  {
   "cell_type": "markdown",
   "metadata": {},
   "source": [
    "## サンプルテキスト"
   ]
  },
  {
   "cell_type": "code",
   "execution_count": null,
   "metadata": {},
   "outputs": [],
   "source": [
    "text = \"\"\"岸田総理大臣は、テレビ会議形式で行われたAPEC＝アジア太平洋経済協力会議の関連会合に参加し、\n",
    "成長に向けた大胆な投資や改革と分配による所得の増加により日本経済を新たな成長軌道に乗せ、\n",
    "アジア太平洋地域の成長に貢献していくと強調しました。\"\"\""
   ]
  },
  {
   "cell_type": "code",
   "execution_count": null,
   "metadata": {},
   "outputs": [],
   "source": [
    "GalText1 = \"黒岳の赤色がエグイ!!紅葉が卍　超絶見ごろなう\\\n",
    "大雪山系黒岳では標高1300m付近の紅葉がありよりのありとなっております。\\\n",
    "さりげに旭岳でもカエデやナナカマドなどの赤色が鬼色づき、過去10年の中で最もエモいということです。\\\n",
    "とりま、山は大勢のパリピですでにバイブスも上がっており、今週末もワンチャン混雑するとみられます。\"\n",
    "\n",
    "GalText2 = \"「今日この課題〆切なの忘れてたー…」\\\n",
    "「ちゃけばヤバくね？ショッキングピーポーマックスなんですけど。テン下げ↓」\\\n",
    "「完全なえぽよピーナッツだわ。」\""
   ]
  },
  {
   "cell_type": "code",
   "execution_count": null,
   "metadata": {},
   "outputs": [],
   "source": [
    "### 形態素解析のテスト ###\n",
    "from janome.tokenizer import Tokenizer\n",
    " \n",
    "t = Tokenizer()\n",
    "tokens = t.tokenize(text)\n",
    " \n",
    "for token in tokens:\n",
    "    print(token)"
   ]
  },
  {
   "cell_type": "markdown",
   "metadata": {},
   "source": [
    "# 演習7-2：単語のベクトル化 (Word2Vecモデル)"
   ]
  },
  {
   "cell_type": "markdown",
   "metadata": {},
   "source": [
    "## Anaconda Promptでのインストールコマンド"
   ]
  },
  {
   "cell_type": "code",
   "execution_count": null,
   "metadata": {},
   "outputs": [],
   "source": [
    "### Anaconda Promptでのベクトル化(Word2Vecモデル)パッケージ 'gensim'のインストール ###\n",
    "# （※Macの場合はターミナル上からでOK）\n",
    "\n",
    "# 下記コマンドをコピペして使用\n",
    "# conda install -c conda-forge gensim\n",
    "\n",
    "# ※どうしても上記でエラーが出てうまくいかない場合は、 pip install gensim を用いる\n",
    "#.  ただし、conda install と pip install は相性が悪い部分もあり、公式でも非推奨"
   ]
  },
  {
   "cell_type": "markdown",
   "metadata": {},
   "source": [
    "## ライブラリの読み込み"
   ]
  },
  {
   "cell_type": "code",
   "execution_count": null,
   "metadata": {
    "scrolled": true
   },
   "outputs": [],
   "source": [
    "from gensim.models import word2vec"
   ]
  },
  {
   "cell_type": "markdown",
   "metadata": {},
   "source": [
    "## Word2Vecモデル (Wikipediaから作成) の読み込み"
   ]
  },
  {
   "cell_type": "code",
   "execution_count": null,
   "metadata": {},
   "outputs": [],
   "source": [
    "model = word2vec.Word2Vec.load('wiki.model')\n",
    "\n",
    "### modelファイルをこのjupyter notebookプログラム (.ipynb) と同じフォルダ内に配置する\n",
    "# wiki.model\n",
    "# wiki.model.trainables.syn1neg.npy\n",
    "# wiki.model.wv.vectors.npy"
   ]
  },
  {
   "cell_type": "markdown",
   "metadata": {},
   "source": [
    "## 単語ベクトルを用いた計算"
   ]
  },
  {
   "cell_type": "markdown",
   "metadata": {},
   "source": [
    "### 類似ベクトルのランキング"
   ]
  },
  {
   "cell_type": "code",
   "execution_count": null,
   "metadata": {},
   "outputs": [],
   "source": [
    "model.wv.most_similar(positive = ['データ'], topn=20)"
   ]
  },
  {
   "cell_type": "markdown",
   "metadata": {},
   "source": [
    "### 単語同士の引き算"
   ]
  },
  {
   "cell_type": "code",
   "execution_count": null,
   "metadata": {},
   "outputs": [],
   "source": [
    "model.wv.most_similar(positive=['女', '国王'], negative=['男'], topn=20)  #女＋国王-男\n",
    "\n",
    "# positive=['足し算したい単語']\n",
    "# negative=['引き算したい単語']\n",
    "# topn=表示したい単語数"
   ]
  },
  {
   "cell_type": "markdown",
   "metadata": {},
   "source": [
    "### 単語間の類似度算出"
   ]
  },
  {
   "cell_type": "code",
   "execution_count": null,
   "metadata": {},
   "outputs": [],
   "source": [
    "model.wv.similarity('大学', '高校')"
   ]
  },
  {
   "cell_type": "markdown",
   "metadata": {
    "heading_collapsed": true
   },
   "source": [
    "# 参考：形態素解析MeCab"
   ]
  },
  {
   "cell_type": "markdown",
   "metadata": {
    "hidden": true
   },
   "source": [
    "## MeCabインストール方法"
   ]
  },
  {
   "cell_type": "code",
   "execution_count": null,
   "metadata": {
    "hidden": true
   },
   "outputs": [],
   "source": [
    "### Macの場合のインストール方法\n",
    "\n",
    "# 1. (対象者のみ) Homebrewをインストール ※時間かかる\n",
    "#    Homebrewが入っていない場合は、ターミナル上で下記を実行\n",
    "#       /usr/bin/ruby -e \"$(curl -fsSL https://raw.githubusercontent.com/Homebrew/install/master/install)\"\n",
    "#   参考: https://brew.sh/index_ja\n",
    "\n",
    "# 2. MeCab (形態素解析ツール) のインストール ※時間かかる\n",
    "#    ターミナル上で下記を実行\n",
    "#       brew install mecab\n",
    "#       brew install mecab-ipadic\n",
    "\n",
    "# 3. PythonからMeCabを呼び出せるように設定\n",
    "#    ターミナル上で下記を実行\n",
    "#       pip install mecab-python3\n",
    "#\n",
    "# 4. Jupyter Notebook再起動"
   ]
  },
  {
   "cell_type": "code",
   "execution_count": null,
   "metadata": {
    "hidden": true
   },
   "outputs": [],
   "source": [
    "### Windowsの場合のインストール方法\n",
    "# 1. Mecabのインストール\n",
    "#    https://github.com/ikegami-yukino/mecab/releases/tag/v0.996\n",
    "#    pathを通す設定あり。やや上級者向け。共用PCではやらない方が良い\n",
    "#    参考: https://qiita.com/wanko5296/items/eeb7865ee71a7b9f1a3a\n",
    "# 2. PythonからMeCabを呼び出せるように設定\n",
    "#    以下のコードをJupyter Notebook上で実行\n",
    "#\n",
    "# import sys\n",
    "# !{sys.executable} -m pip install mecab-python3 --user"
   ]
  },
  {
   "cell_type": "markdown",
   "metadata": {
    "hidden": true
   },
   "source": [
    "## MeCabお試し"
   ]
  },
  {
   "cell_type": "code",
   "execution_count": null,
   "metadata": {
    "hidden": true
   },
   "outputs": [],
   "source": [
    "import MeCab\n",
    "\n",
    "#Taggerの引数に-dオプションとmecab-ipadic-neologdの場所を指定する\n",
    "#場所の確認： echo `mecab-config --dicdir`\"/mecab-ipadic-neologd\"\n",
    "m_wakati =      MeCab.Tagger('-Owakati')\n",
    "m_pos =         MeCab.Tagger()\n",
    "\n",
    "#MeCab出力オプションd\n",
    "# -Owakati：分かち書きのみ\n",
    "# -Oyomi：ヨミ読み\n",
    "# -Ochasen：ChaSen互換\n",
    "# -Odump"
   ]
  },
  {
   "cell_type": "code",
   "execution_count": null,
   "metadata": {
    "hidden": true
   },
   "outputs": [],
   "source": [
    "w1 = m_wakati.parse(text)\n",
    "w2 = m_pos.parse(text)\n",
    "\n",
    "print('[分かち書き]\\n'+w1+'\\n' + '[品詞など詳細情報]\\n'+w2)"
   ]
  },
  {
   "cell_type": "code",
   "execution_count": null,
   "metadata": {
    "hidden": true
   },
   "outputs": [],
   "source": [
    "m_wakati.parse(GalText2)"
   ]
  }
 ],
 "metadata": {
  "kernelspec": {
   "display_name": "Python 3 (ipykernel)",
   "language": "python",
   "name": "python3"
  },
  "language_info": {
   "codemirror_mode": {
    "name": "ipython",
    "version": 3
   },
   "file_extension": ".py",
   "mimetype": "text/x-python",
   "name": "python",
   "nbconvert_exporter": "python",
   "pygments_lexer": "ipython3",
   "version": "3.11.3"
  },
  "toc": {
   "base_numbering": 1,
   "nav_menu": {},
   "number_sections": true,
   "sideBar": true,
   "skip_h1_title": false,
   "title_cell": "Table of Contents",
   "title_sidebar": "Contents",
   "toc_cell": false,
   "toc_position": {},
   "toc_section_display": true,
   "toc_window_display": false
  },
  "varInspector": {
   "cols": {
    "lenName": 16,
    "lenType": 16,
    "lenVar": 40
   },
   "kernels_config": {
    "python": {
     "delete_cmd_postfix": "",
     "delete_cmd_prefix": "del ",
     "library": "var_list.py",
     "varRefreshCmd": "print(var_dic_list())"
    },
    "r": {
     "delete_cmd_postfix": ") ",
     "delete_cmd_prefix": "rm(",
     "library": "var_list.r",
     "varRefreshCmd": "cat(var_dic_list()) "
    }
   },
   "types_to_exclude": [
    "module",
    "function",
    "builtin_function_or_method",
    "instance",
    "_Feature"
   ],
   "window_display": false
  }
 },
 "nbformat": 4,
 "nbformat_minor": 4
}

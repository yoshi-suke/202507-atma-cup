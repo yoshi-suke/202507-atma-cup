{
 "cells": [
  {
   "cell_type": "code",
   "execution_count": null,
   "metadata": {},
   "outputs": [],
   "source": [
    "### 通常は、よく使う下記のライブラリを最初に読み込んでおくと便利 ###\n",
    "# ### 必要なパッケージ（ライブラリ）の読み込み ###\n",
    "# import pandas as pd             # データフレーム型変数を取り扱えるパッケージ\"pandas\"を読込み（以降\"pd\"と略記）\n",
    "# import matplotlib.pyplot as plt # グラフ描画のパッケージ\"matplotlib\"を読込み（以降\"plt\"と略記）\n",
    "# import seaborn as sns           # 上記matplotlibをベースにした高機能可視化モジュール\"saeborn\"を読込み（以降\"sns\"と略記）\n",
    "# import numpy as np              # 数値演算のためのパッケージ\"numpy\"を読込み（以降\"np\"と略記）"
   ]
  },
  {
   "cell_type": "markdown",
   "metadata": {},
   "source": [
    "# データの読込・閲覧"
   ]
  },
  {
   "cell_type": "markdown",
   "metadata": {},
   "source": [
    "## 準備（必要なパッケージ、データの読込）"
   ]
  },
  {
   "cell_type": "code",
   "execution_count": null,
   "metadata": {},
   "outputs": [],
   "source": [
    "import pandas as pd              # データフレーム型変数を取り扱えるパッケージpandasを読込\n",
    "df = pd.read_excel('ファイル名入力（Tabキーによる文字補完を活用）') #データ読込\n",
    "\n",
    "# ※ \"演習01_\" まで入力し、TABキーで補完するのが効率的"
   ]
  },
  {
   "cell_type": "markdown",
   "metadata": {},
   "source": [
    "## データ閲覧"
   ]
  },
  {
   "cell_type": "code",
   "execution_count": null,
   "metadata": {},
   "outputs": [],
   "source": [
    "df"
   ]
  },
  {
   "cell_type": "code",
   "execution_count": null,
   "metadata": {},
   "outputs": [],
   "source": [
    "df.head(3)"
   ]
  },
  {
   "cell_type": "markdown",
   "metadata": {},
   "source": [
    "## 行数・列数の出力"
   ]
  },
  {
   "cell_type": "code",
   "execution_count": null,
   "metadata": {},
   "outputs": [],
   "source": [
    "df.shape"
   ]
  },
  {
   "cell_type": "markdown",
   "metadata": {},
   "source": [
    "## 要約統計量の出力"
   ]
  },
  {
   "cell_type": "code",
   "execution_count": null,
   "metadata": {},
   "outputs": [],
   "source": [
    "df.describe()"
   ]
  },
  {
   "cell_type": "code",
   "execution_count": null,
   "metadata": {},
   "outputs": [],
   "source": [
    "### 参考：カテゴリー値の場合 ###\n",
    "df.describe(include='O')   #'Object'型の頭文字'O'"
   ]
  },
  {
   "cell_type": "markdown",
   "metadata": {},
   "source": [
    "## 相関行列"
   ]
  },
  {
   "cell_type": "code",
   "execution_count": null,
   "metadata": {},
   "outputs": [],
   "source": [
    "### 相関行列 ###\n",
    "df.corr(numeric_only=True) \n",
    "\n",
    "# pandasの仕様変更(おそらくv2.0.0以降）により、numeric_only=Trueの指定が必須化\n",
    "# 指定しないと、文字列を含む列がある場合、\"could not convert string to float....\" というエラーが発生\n",
    "# （従来は、当該引数を指定しなくても、自動的に文字列を含む列は除外されていた）\n",
    "# \n",
    "# 参考 pandasのversion確認方法：print(pd.__version__)"
   ]
  },
  {
   "cell_type": "code",
   "execution_count": null,
   "metadata": {},
   "outputs": [],
   "source": [
    "### 相関行列のお化粧（ヒートマップ） ###\n",
    "\n",
    "import matplotlib.pyplot as plt # グラフ描画のパッケージ\"matplotlib\"を読込み（以降\"plt\"と略記）\n",
    "import seaborn as sns           # 上記matplotlibをベースにした高機能可視化モジュール\"saeborn\"を読込み（以降\"sns\"と略記）\n",
    "\n",
    "# カラーマップの設定 (RdBu:赤〜青 ⇔ RdBu_r:青〜赤)\n",
    "colormap = plt.cm.RdBu_r\n",
    "\n",
    "# Figureサイズの指定\n",
    "plt.rcParams['figure.figsize'] = 10, 5\n",
    "\n",
    "# 相関行列の右上半分を隠したい場合は、次の2行のコメントを解除し、sns.heatmapのオプションに mask=mask を追加\n",
    "# mask = np.zeros_like(df.corr(), dtype=np.bool)\n",
    "# mask[np.triu_indices_from(mask)] = True\n",
    "\n",
    "sns.heatmap(df.corr(numeric_only=True), linewidths=0.1, linecolor='white',   # 相関行列df.corr()を引数としヒートマップ作成\n",
    "            vmax=1.0, vmin=-1.0, cmap=colormap, annot=True, annot_kws={'fontsize':8}, fmt='.2f')\n",
    "\n",
    "            # linewidths/linecolor: 格子線の太さ/色\n",
    "            # cmap:                 カラーマップの指定\n",
    "            # vmax/vmin:            最大値/最小値\n",
    "            # annot:                各要素への数値表示\n",
    "            # annot_kws={'fontsize':8}: 各要素内に表示する数値の文字サイズを指定\n",
    "            # fmt='.2f':            各要素内に表示する数値の小数点桁数を指定（'.2f'で小数第二位まで）\n",
    "            # mask:                 可視化から除外する対象（例：mask=mask）\n",
    "            "
   ]
  },
  {
   "cell_type": "markdown",
   "metadata": {},
   "source": [
    "## クロス集計（カテゴリー値に有効）\n",
    "クロス集計・・・2つの変数を「クロス」させて（掛け合わせて）、カテゴリー値の出現値（クラス）ごとの傾向を確認する方法  \n",
    "`pd.crosstab(行方向に配置する変数, 列方向に配置する変数)`"
   ]
  },
  {
   "cell_type": "code",
   "execution_count": null,
   "metadata": {},
   "outputs": [],
   "source": [
    "### クロス集計 ###\n",
    "# チケットクラスごとの生存者数を確認\n",
    "pd.crosstab(df['Pclass'], df['Survived'])  #pd.crosstab(行方向に配置する変数, 列方向に配置する変数)"
   ]
  },
  {
   "cell_type": "code",
   "execution_count": null,
   "metadata": {},
   "outputs": [],
   "source": [
    "### クロス集計 <値正規化バージョン> ###\n",
    "# チケットクラスごとの生存率を確認\n",
    "pd.crosstab(df['Pclass'], df['Survived'], normalize='index')  #normalize='index'で行ごとの割合で集計される"
   ]
  },
  {
   "cell_type": "code",
   "execution_count": null,
   "metadata": {},
   "outputs": [],
   "source": [
    "### クロス集計 <応用編> ###\n",
    "# チケットクラス、生存ごとの平均年齢\n",
    "pd.crosstab(df['Pclass'], df['Survived'], values=df['Age'], aggfunc='mean')  #values, aggfuncを指定すれば、他列の集計値を出力可能"
   ]
  },
  {
   "cell_type": "markdown",
   "metadata": {},
   "source": [
    "### 参考：クロス集計表で値の大小に応じて色をつける方法"
   ]
  },
  {
   "cell_type": "code",
   "execution_count": null,
   "metadata": {},
   "outputs": [],
   "source": [
    "# 一旦、クロス集計結果を別のデータフレームに格納\n",
    "df_cross = pd.crosstab(df['Pclass'], df['Survived'], normalize='index') \n",
    "\n",
    "# データフレームのスタイル機能を活用し、行ごとの値の大小に応じてグラデーション\n",
    "df_cross.style.background_gradient(axis=0, cmap='Reds')\n",
    "     # axis: 大小を判断する範囲を指定（axis=Noneで全体、axis=0で行ごと、axis=1で列ごと）\n",
    "     # cmap: カラーマップの指定"
   ]
  },
  {
   "cell_type": "markdown",
   "metadata": {},
   "source": [
    "参考：カラーマップリスト\n",
    "https://matplotlib.org/3.1.0/tutorials/colors/colormaps.html"
   ]
  },
  {
   "cell_type": "markdown",
   "metadata": {},
   "source": [
    "## 欠損値の確認"
   ]
  },
  {
   "cell_type": "code",
   "execution_count": null,
   "metadata": {},
   "outputs": [],
   "source": [
    "df.isnull().sum()"
   ]
  },
  {
   "cell_type": "markdown",
   "metadata": {},
   "source": [
    "## 欠損値の処理 → 後段の分析時に対応"
   ]
  },
  {
   "cell_type": "code",
   "execution_count": null,
   "metadata": {},
   "outputs": [],
   "source": [
    "# ### 欠損値を中央値で置換 ###\n",
    "# df['Age'] = df['Age'].fillna(df['Age'].median())  #連続値は中央値／平均値\n",
    "# df['Embarked'] = df['Embarked'].fillna('S')       #カテゴリー値は最頻値\n",
    "\n",
    "# Cabinはひとまず除外して分析するため、一旦放置"
   ]
  },
  {
   "cell_type": "code",
   "execution_count": null,
   "metadata": {},
   "outputs": [],
   "source": [
    "# # 欠損値処理後の確認\n",
    "# df.isnull().sum()"
   ]
  },
  {
   "cell_type": "markdown",
   "metadata": {},
   "source": [
    "# グラフによる可視化① - ヒストグラム"
   ]
  },
  {
   "cell_type": "markdown",
   "metadata": {},
   "source": [
    "## 準備（必要なパッケージ、データの読込）"
   ]
  },
  {
   "cell_type": "code",
   "execution_count": null,
   "metadata": {},
   "outputs": [],
   "source": [
    "import matplotlib.pyplot as plt  # グラフ描画パッケージmatplotlib内の、描画設定を行うpyplotモジュールを読込\t\n",
    "import seaborn as sns            # matplotlibをベースにした高機能可視化モジュールsaebornを読込\t"
   ]
  },
  {
   "cell_type": "markdown",
   "metadata": {},
   "source": [
    "## 単一ヒストグラム"
   ]
  },
  {
   "cell_type": "code",
   "execution_count": null,
   "metadata": {},
   "outputs": [],
   "source": [
    "sns.histplot( df['Fare'], kde=False, bins=10 )"
   ]
  },
  {
   "cell_type": "markdown",
   "metadata": {},
   "source": [
    "## 複数のヒストグラム一括描画"
   ]
  },
  {
   "cell_type": "code",
   "execution_count": null,
   "metadata": {},
   "outputs": [],
   "source": [
    "# pandasパッケージのプロット機能活用\n",
    "df.hist()\n",
    "\n",
    "plt.tight_layout()                                 # グラフ同士が重ならないようにするオプション"
   ]
  },
  {
   "cell_type": "markdown",
   "metadata": {},
   "source": [
    "## 参考：描画設定\n",
    "※重なりなどの描画崩れや、文字化けなど、描画がうまくいかない場合"
   ]
  },
  {
   "cell_type": "code",
   "execution_count": null,
   "metadata": {},
   "outputs": [],
   "source": [
    "### 以下、デザイン設定 ###\n",
    "plt.rcParams['figure.figsize'] = 10, 5             # グラフのサイズ指定\n",
    "plt.rcParams['font.sans-serif'] = ['Hiragino Maru Gothic Pro', 'Yu Gothic', 'Meirio', 'Takao',\n",
    "                                   'IPAexGothic', 'IPAPGothic', 'VL PGothic', 'Noto Sans CJK JP']\n",
    "                                                   # 文字化け対策にフォント指定\n",
    "plt.rcParams['font.size'] = 16                     # フォントサイズ一括指定\n",
    "plt.tight_layout()                                 # グラフ同士が重ならないようにする\n",
    "# plt.grid(True)                                   # グリッド表示ON\n",
    "plt.show()                                         # 各種設定の反映"
   ]
  },
  {
   "cell_type": "markdown",
   "metadata": {},
   "source": [
    "# グラフによる可視化② - 散布図・箱ひげ図"
   ]
  },
  {
   "cell_type": "markdown",
   "metadata": {},
   "source": [
    "## 散布図（単一）"
   ]
  },
  {
   "cell_type": "code",
   "execution_count": null,
   "metadata": {},
   "outputs": [],
   "source": [
    "### 散布図（単一） ###\t\n",
    "sns.jointplot(data=df, x='Age', y='Fare')  # dfの「Age」と「Fare」のデータ列の散布図(jointplot)を描画"
   ]
  },
  {
   "cell_type": "markdown",
   "metadata": {},
   "source": [
    "## 散布図（複数）→ 「散布図行列」"
   ]
  },
  {
   "cell_type": "code",
   "execution_count": null,
   "metadata": {
    "scrolled": true
   },
   "outputs": [],
   "source": [
    "# 非常に時間がかかるので注意\n",
    "sns.pairplot(df)"
   ]
  },
  {
   "cell_type": "markdown",
   "metadata": {},
   "source": [
    "## 生存フラグで色分けした散布図"
   ]
  },
  {
   "cell_type": "code",
   "execution_count": null,
   "metadata": {},
   "outputs": [],
   "source": [
    "# 非常に時間がかかるので注意\n",
    "sns.pairplot(df, hue= 'Survived' )"
   ]
  },
  {
   "cell_type": "markdown",
   "metadata": {},
   "source": [
    "## 箱ひげ図"
   ]
  },
  {
   "cell_type": "code",
   "execution_count": null,
   "metadata": {},
   "outputs": [],
   "source": [
    "# pandasパッケージのプロット機能活用\n",
    "df.boxplot()"
   ]
  },
  {
   "cell_type": "code",
   "execution_count": null,
   "metadata": {},
   "outputs": [],
   "source": []
  }
 ],
 "metadata": {
  "kernelspec": {
   "display_name": "Python 3 (ipykernel)",
   "language": "python",
   "name": "python3"
  },
  "language_info": {
   "codemirror_mode": {
    "name": "ipython",
    "version": 3
   },
   "file_extension": ".py",
   "mimetype": "text/x-python",
   "name": "python",
   "nbconvert_exporter": "python",
   "pygments_lexer": "ipython3",
   "version": "3.11.3"
  },
  "toc": {
   "base_numbering": 1,
   "nav_menu": {},
   "number_sections": true,
   "sideBar": true,
   "skip_h1_title": false,
   "title_cell": "Table of Contents",
   "title_sidebar": "Contents",
   "toc_cell": false,
   "toc_position": {},
   "toc_section_display": true,
   "toc_window_display": false
  },
  "varInspector": {
   "cols": {
    "lenName": 16,
    "lenType": 16,
    "lenVar": 40
   },
   "kernels_config": {
    "python": {
     "delete_cmd_postfix": "",
     "delete_cmd_prefix": "del ",
     "library": "var_list.py",
     "varRefreshCmd": "print(var_dic_list())"
    },
    "r": {
     "delete_cmd_postfix": ") ",
     "delete_cmd_prefix": "rm(",
     "library": "var_list.r",
     "varRefreshCmd": "cat(var_dic_list()) "
    }
   },
   "types_to_exclude": [
    "module",
    "function",
    "builtin_function_or_method",
    "instance",
    "_Feature"
   ],
   "window_display": false
  }
 },
 "nbformat": 4,
 "nbformat_minor": 4
}

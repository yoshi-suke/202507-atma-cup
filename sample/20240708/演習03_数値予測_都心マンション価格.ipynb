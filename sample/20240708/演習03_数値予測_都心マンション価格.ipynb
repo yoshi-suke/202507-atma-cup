{
 "cells": [
  {
   "cell_type": "markdown",
   "metadata": {},
   "source": [
    "# 演習3-1 単回帰分析（都心マンション価格）"
   ]
  },
  {
   "cell_type": "code",
   "execution_count": null,
   "metadata": {
    "execution": {
     "iopub.execute_input": "2021-05-20T04:37:52.119845Z",
     "iopub.status.busy": "2021-05-20T04:37:52.119430Z",
     "iopub.status.idle": "2021-05-20T04:37:53.293981Z",
     "shell.execute_reply": "2021-05-20T04:37:53.293560Z",
     "shell.execute_reply.started": "2021-05-20T04:37:52.119739Z"
    }
   },
   "outputs": [],
   "source": [
    "### 必要なパッケージ（ライブラリ）の読み込み ###\n",
    "import pandas as pd             # データフレーム型変数を取り扱えるパッケージ\"pandas\"を読込み（以降\"pd\"と略記）\n",
    "import matplotlib.pyplot as plt # グラフ描画のパッケージ\"matplotlib\"を読込み（以降\"plt\"と略記）\n",
    "import seaborn as sns           # 上記matplotlibをベースにした高機能可視化モジュール\"saeborn\"を読込み（以降\"sns\"と略記）\n",
    "import numpy as np              # 数値演算のためのパッケージ\"numpy\"を読込み（以降\"np\"と略記）"
   ]
  },
  {
   "cell_type": "markdown",
   "metadata": {},
   "source": [
    "## データの理解（観察）"
   ]
  },
  {
   "cell_type": "markdown",
   "metadata": {},
   "source": [
    "### データ読み込み"
   ]
  },
  {
   "cell_type": "code",
   "execution_count": null,
   "metadata": {
    "execution": {
     "iopub.execute_input": "2021-05-20T04:37:53.294887Z",
     "iopub.status.busy": "2021-05-20T04:37:53.294774Z",
     "iopub.status.idle": "2021-05-20T04:37:53.511804Z",
     "shell.execute_reply": "2021-05-20T04:37:53.510895Z",
     "shell.execute_reply.started": "2021-05-20T04:37:53.294872Z"
    }
   },
   "outputs": [],
   "source": [
    "### データの読み込み ###\n",
    "df = pd.read_excel('ファイル名入力（Tabキーによる文字補完を活用）') # 都内のある区で取引された中古マンション価格データ"
   ]
  },
  {
   "cell_type": "markdown",
   "metadata": {},
   "source": [
    "### データ概観把握"
   ]
  },
  {
   "cell_type": "code",
   "execution_count": null,
   "metadata": {
    "scrolled": true
   },
   "outputs": [],
   "source": [
    "### データそのもの ###\n",
    "df"
   ]
  },
  {
   "cell_type": "code",
   "execution_count": null,
   "metadata": {
    "scrolled": true
   },
   "outputs": [],
   "source": [
    "### 要約統計量 ###\n",
    "df.describe()"
   ]
  },
  {
   "cell_type": "code",
   "execution_count": null,
   "metadata": {},
   "outputs": [],
   "source": [
    "### 欠測値確認 ###\n",
    "df.isnull().sum()      # 欠損値件数の出力 ※df.isnull()で各セルのデータが欠損値かどうかを判定"
   ]
  },
  {
   "cell_type": "markdown",
   "metadata": {},
   "source": [
    "### データ可視化（グラフ）"
   ]
  },
  {
   "cell_type": "markdown",
   "metadata": {},
   "source": [
    "#### ヒストグラム"
   ]
  },
  {
   "cell_type": "code",
   "execution_count": null,
   "metadata": {
    "execution": {
     "iopub.execute_input": "2021-05-20T04:38:20.701431Z",
     "iopub.status.busy": "2021-05-20T04:38:20.701045Z",
     "iopub.status.idle": "2021-05-20T04:38:21.100099Z",
     "shell.execute_reply": "2021-05-20T04:38:21.099700Z",
     "shell.execute_reply.started": "2021-05-20T04:38:20.701391Z"
    },
    "scrolled": true
   },
   "outputs": [],
   "source": [
    "df.hist()"
   ]
  },
  {
   "cell_type": "markdown",
   "metadata": {},
   "source": [
    "#### 散布図"
   ]
  },
  {
   "cell_type": "code",
   "execution_count": null,
   "metadata": {},
   "outputs": [],
   "source": [
    "sns.jointplot(data=df, x='Age', y='Price')"
   ]
  },
  {
   "cell_type": "markdown",
   "metadata": {},
   "source": [
    "#### 散布図行列"
   ]
  },
  {
   "cell_type": "code",
   "execution_count": null,
   "metadata": {
    "execution": {
     "iopub.execute_input": "2021-05-20T04:38:26.114027Z",
     "iopub.status.busy": "2021-05-20T04:38:26.113633Z",
     "iopub.status.idle": "2021-05-20T04:38:28.932504Z",
     "shell.execute_reply": "2021-05-20T04:38:28.932119Z",
     "shell.execute_reply.started": "2021-05-20T04:38:26.113982Z"
    }
   },
   "outputs": [],
   "source": [
    "### 散布図行列による傾向確認 ###\n",
    "sns.pairplot(df)\n",
    "\n",
    "# 各カラム名の説明\n",
    "# ID:      マンションごとの識別番号\n",
    "# Price:   マンション価格（単位：\n",
    "# Minutes:  駅徒歩分数\n",
    "# Age:     築年数\n",
    "# Area:    占有面積\n",
    "# One room: ワンルームかどうかのフラグ（1:ワンルーム、0:その他間取り）"
   ]
  },
  {
   "cell_type": "markdown",
   "metadata": {},
   "source": [
    "### 参考：描画設定\n",
    "※重なりなどの描画崩れや、文字化けなど、描画がうまくいかない場合"
   ]
  },
  {
   "cell_type": "code",
   "execution_count": null,
   "metadata": {
    "execution": {
     "iopub.execute_input": "2021-05-20T04:38:18.517839Z",
     "iopub.status.busy": "2021-05-20T04:38:18.517411Z",
     "iopub.status.idle": "2021-05-20T04:38:18.530577Z",
     "shell.execute_reply": "2021-05-20T04:38:18.529716Z",
     "shell.execute_reply.started": "2021-05-20T04:38:18.517797Z"
    }
   },
   "outputs": [],
   "source": [
    "### 以下、デザイン設定 ###\n",
    "plt.rcParams['figure.figsize'] = 10, 5             # グラフのサイズ指定\n",
    "plt.rcParams['font.sans-serif'] = ['Hiragino Maru Gothic Pro', 'Yu Gothic', 'Meirio', 'Takao',\n",
    "                                   'IPAexGothic', 'IPAPGothic', 'VL PGothic', 'Noto Sans CJK JP']\n",
    "                                                   # 文字化け対策にフォント指定\n",
    "plt.rcParams['font.size'] = 16                     # フォントサイズ一括指定\n",
    "plt.tight_layout()                                 # グラフ同士が重ならないようにする\n",
    "# plt.grid(True)                                   # グリッド表示ON\n",
    "plt.show()                                         # 各種設定の反映"
   ]
  },
  {
   "cell_type": "markdown",
   "metadata": {},
   "source": [
    "### 相関行列"
   ]
  },
  {
   "cell_type": "code",
   "execution_count": null,
   "metadata": {},
   "outputs": [],
   "source": [
    "### 相関行列による変数間の関係性確認 ###\n",
    "df.corr()  # 相関行列の算出\n",
    "\n",
    "# pandasのv2.0.0以降、数値以外のデータが入っているとエラーになるため、\n",
    "# 数値以外を含む場合、数値データのみに絞り込むオプション numeric_only=True を指定する\n",
    "# （今回のデータは数値のみなので、オプション無しでもエラーなく実行できる）"
   ]
  },
  {
   "cell_type": "code",
   "execution_count": null,
   "metadata": {},
   "outputs": [],
   "source": [
    "### 相関行列のお化粧（ヒートマップ） ###\n",
    "\n",
    "colormap = plt.cm.RdBu_r                                   # カラーマップの設定 (RdBu:赤〜青 ⇔ RdBu_r:青〜赤)\n",
    "\n",
    "plt.rcParams['figure.figsize'] = 10, 5                    # Figureサイズの指定\n",
    "\n",
    "# # 相関行列の右上半分を隠したい場合は、次の2行のコメントを解除する\n",
    "# mask = np.zeros_like(df.corr(), dtype=np.bool)\n",
    "# mask[np.triu_indices_from(mask)] = True\n",
    "\n",
    "sns.heatmap(df.corr(),linewidths=0.1, linecolor='white',   # 相関行列df.corr()を引数としヒートマップ作成\t\n",
    "            vmax=1.0, vmin=-1.0, cmap=colormap, annot=True )\n",
    "\n",
    "            # linewidths/linecolor: 格子線の太さ/色\n",
    "            # cmap:                 カラーマップの指定\n",
    "            # vmax/vmin:            最大値/最小値\n",
    "            # annot:                各要素への数値表示\n",
    "            # mask:                 可視化から除外する対象（例：mask=mask）\n",
    "            "
   ]
  },
  {
   "cell_type": "markdown",
   "metadata": {},
   "source": [
    "## データの準備（加工）"
   ]
  },
  {
   "cell_type": "code",
   "execution_count": null,
   "metadata": {},
   "outputs": [],
   "source": [
    "### N/A ###"
   ]
  },
  {
   "cell_type": "markdown",
   "metadata": {},
   "source": [
    "## モデルの構築"
   ]
  },
  {
   "cell_type": "code",
   "execution_count": null,
   "metadata": {},
   "outputs": [],
   "source": [
    "### 単回帰分析 ###\n",
    "from sklearn import linear_model # 機械学習パッケージに含まれた回帰分析モジュール\"linear_model\"を読込\n",
    "\n",
    "# 説明変数のセット\n",
    "X = df[ ['Area'] ]\n",
    "\n",
    "# 目的変数のセット\n",
    "Y = df['Price']\n",
    "\n",
    "# 単回帰モデルを作成\n",
    "model = linear_model.LinearRegression()  # インスタンス化（関数を使える状態にする）\n",
    "model.fit(X, Y)                          # モデル構築（フィッティング）\n",
    "\n",
    "# 偏回帰係数の出力\n",
    "display( pd.DataFrame({\"Variables\":X.columns, \"Coefficients\":model.coef_}) )\n",
    "\n",
    "# 切片の出力\n",
    "print( '切片:', model.intercept_ )\n",
    "\n",
    "# 決定係数の出力\n",
    "print( '決定係数:', model.score(X, Y) )"
   ]
  },
  {
   "cell_type": "markdown",
   "metadata": {},
   "source": [
    "## モデルの評価"
   ]
  },
  {
   "cell_type": "code",
   "execution_count": null,
   "metadata": {},
   "outputs": [],
   "source": [
    "### モデルの可視化 ###\n",
    "\n",
    "# 元データを散布図でプロット\n",
    "plt.scatter(X, Y)\n",
    "\n",
    "# 回帰直線をプロット\n",
    "Y_pred = model.predict(X)             # Xをモデル式に代入して予測結果を算出\n",
    "plt.plot(X['Area'], Y_pred, color='orange') # Xと予測結果Y_predをプロット\n",
    "\n",
    "# プロット結果を表示\n",
    "plt.show() \n"
   ]
  },
  {
   "cell_type": "code",
   "execution_count": null,
   "metadata": {},
   "outputs": [],
   "source": [
    "### 残差プロットの表示 ###\n",
    "\n",
    "# 残差をプロット\n",
    "plt.scatter(X, Y-Y_pred) # 残差（モデル予測結果Y_predと実測値Yとの差分）をプロット\n",
    "\n",
    "# 補助線（残差=0）を引く\n",
    "plt.hlines( y=0, xmin = 0, xmax = 300, color = 'black') # 見やすくするために、y=0の横一直線を太く表示\n",
    "\n",
    "# グラフタイトルなどの設定（無くてもOK）\n",
    "plt.title('残差プロット')                            # 図のタイトル\n",
    "plt.xlabel('占有面積')                               # x軸のラベル\n",
    "plt.ylabel('残差')                                   # y軸のラベル\n",
    "plt.grid()                                           # グリッド線を表示\n",
    "\n",
    "# プロット結果を表示\n",
    "plt.show()"
   ]
  },
  {
   "cell_type": "markdown",
   "metadata": {},
   "source": [
    "## データの準備（再）"
   ]
  },
  {
   "cell_type": "markdown",
   "metadata": {},
   "source": [
    "### 外れ値を除去したい場合"
   ]
  },
  {
   "cell_type": "code",
   "execution_count": null,
   "metadata": {},
   "outputs": [],
   "source": [
    "### 箱ひげ図による外れ値の存在確認 ###\n",
    "df.boxplot()"
   ]
  },
  {
   "cell_type": "code",
   "execution_count": null,
   "metadata": {},
   "outputs": [],
   "source": [
    "### 外れ値のチェック ###\n",
    "df[ df['Price']>=17500 ]   # df[ 条件式 ] で条件式にマッチするレコードのみ抽出"
   ]
  },
  {
   "cell_type": "code",
   "execution_count": null,
   "metadata": {},
   "outputs": [],
   "source": [
    "### 外れ値の除外方法 ###\n",
    "df = df.drop(index=127) # df.drop(index=xxx) で、インデックス番号に合致するレコードを除外"
   ]
  },
  {
   "cell_type": "code",
   "execution_count": null,
   "metadata": {},
   "outputs": [],
   "source": [
    "### 箱ひげ図による外れ値の除外結果確認 ###\n",
    "df.boxplot()"
   ]
  },
  {
   "cell_type": "markdown",
   "metadata": {},
   "source": [
    "## モデルの構築（再）"
   ]
  },
  {
   "cell_type": "code",
   "execution_count": null,
   "metadata": {},
   "outputs": [],
   "source": [
    "### 単回帰分析 ###\n",
    "from sklearn import linear_model # 機械学習パッケージに含まれた回帰分析モジュール\"linear_model\"を読込\n",
    "\n",
    "# 説明変数のセット\n",
    "X = df[ ['Area'] ]\n",
    "\n",
    "# 目的変数のセット\n",
    "Y = df['Price']\n",
    "\n",
    "# 単回帰モデルを作成\n",
    "model = linear_model.LinearRegression()  # インスタンス化（関数を使える状態にする）\n",
    "model.fit(X, Y)                          # モデル構築（フィッティング）\n",
    "\n",
    "# 偏回帰係数の出力\n",
    "display( pd.DataFrame({\"Variables\":X.columns, \"Coefficients\":model.coef_}) )\n",
    "\n",
    "# 切片の出力\n",
    "print( '切片:', model.intercept_ )\n",
    "\n",
    "# 決定係数の出力\n",
    "print( '決定係数:', model.score(X, Y) )"
   ]
  },
  {
   "cell_type": "markdown",
   "metadata": {},
   "source": [
    "## モデルの評価（再）"
   ]
  },
  {
   "cell_type": "code",
   "execution_count": null,
   "metadata": {},
   "outputs": [],
   "source": [
    "### モデルの可視化 ###\n",
    "\n",
    "# 元データを散布図でプロット\n",
    "plt.scatter(X, Y)\n",
    "\n",
    "# 回帰直線をプロット\n",
    "Y_pred = model.predict(X)             # Xをモデル式に代入して予測結果を算出\n",
    "plt.plot(X['Area'], Y_pred, color='orange') # Xと予測結果Y_predをプロット\n",
    "\n",
    "# プロット結果を表示\n",
    "plt.show() \n"
   ]
  },
  {
   "cell_type": "code",
   "execution_count": null,
   "metadata": {},
   "outputs": [],
   "source": [
    "### 残差プロットの表示 ###\n",
    "\n",
    "# 残差をプロット\n",
    "plt.scatter(X, Y-Y_pred) # 残差（モデル予測結果Y_predと実測値Yとの差分）をプロット\n",
    "\n",
    "# 補助線（残差=0）を引く\n",
    "plt.hlines( y=0, xmin = 0, xmax = 150, color = 'black') # 見やすくするために、y=0の横一直線を太く表示\n",
    "\n",
    "# グラフタイトルなどの設定（無くてもOK）\n",
    "plt.title('残差プロット')                            # 図のタイトル\n",
    "plt.xlabel('占有面積')                               # x軸のラベル\n",
    "plt.ylabel('残差')                                   # y軸のラベル\n",
    "plt.grid()                                           # グリッド線を表示\n",
    "\n",
    "# プロット結果を表示\n",
    "plt.show()"
   ]
  },
  {
   "cell_type": "markdown",
   "metadata": {},
   "source": [
    "# 演習3-2 重回帰分析"
   ]
  },
  {
   "cell_type": "markdown",
   "metadata": {},
   "source": [
    "## モデルの構築"
   ]
  },
  {
   "cell_type": "code",
   "execution_count": null,
   "metadata": {},
   "outputs": [],
   "source": [
    "### 重回帰分析 ###\n",
    "from sklearn import linear_model # 機械学習パッケージに含まれた回帰分析モジュール\"linear_model\"を読込\n",
    "\n",
    "# 説明変数のセット\n",
    "X = df[ ['Minutes', 'Age', 'Area', 'One room'] ]\n",
    "\n",
    "# 目的変数のセット\n",
    "Y = df['Price']\n",
    "\n",
    "# 重回帰モデルを作成\t\n",
    "model = linear_model.LinearRegression()  # インスタンス化（関数を使える状態にする）\n",
    "model.fit(X, Y)      # モデル構築（フィッティング）\n",
    "\n",
    "# 偏回帰係数の出力\n",
    "display( pd.DataFrame({\"Variables\":X.columns, \"Coefficients\":model.coef_}) )\n",
    "\n",
    "# 切片の出力\n",
    "print('切片:', model.intercept_)\n",
    "\n",
    "# 決定係数の出力\n",
    "print('決定係数:', model.score(X, Y))"
   ]
  },
  {
   "cell_type": "markdown",
   "metadata": {},
   "source": [
    "## モデルの評価"
   ]
  },
  {
   "cell_type": "code",
   "execution_count": null,
   "metadata": {},
   "outputs": [],
   "source": [
    "### モデルの可視化 ###\n",
    "\n",
    "# Xをモデル式に代入して予測結果を算出\n",
    "Y_pred = model.predict(X)\n",
    "\n",
    "# 「徒歩分数」の実測値と予測結果をプロット\n",
    "plt.subplot(2, 2, 1)                               # plt.subplot(行数, 列数, 何番目のプロットか)で複数グラフを同時に描画可能\n",
    "dataname = 'Minutes'\n",
    "plt.scatter(X[dataname], Y)\n",
    "# 回帰直線をプロット\n",
    "plt.scatter(X[dataname], Y_pred, color = 'orange') # Xと予測結果Y_predをプロット\n",
    "plt.xlabel(dataname)                               # X軸ラベル\n",
    "\n",
    "\n",
    "# 「築年数」の実測値と予測結果をプロット\n",
    "plt.subplot(2, 2, 2)                               # plt.subplot(行数, 列数, 何番目のプロットか)で複数グラフを同時に描画可能\n",
    "dataname = 'Age'\n",
    "plt.scatter(X[dataname], Y)\n",
    "# 回帰直線をプロット\n",
    "plt.scatter(X[dataname], Y_pred, color = 'orange') # Xと予測結果Y_predをプロット\n",
    "plt.xlabel(dataname)                               # X軸ラベル\n",
    "\n",
    "\n",
    "# 「占有面積」の実測値と予測結果をプロット\n",
    "plt.subplot(2, 2, 3)                               # plt.subplot(行数, 列数, 何番目のプロットか)で複数グラフを同時に描画可能\n",
    "dataname = 'Area'\n",
    "plt.scatter(X[dataname], Y)\n",
    "# 回帰直線をプロット\n",
    "plt.scatter(X[dataname], Y_pred, color = 'orange') # Xと予測結果Y_predをプロット\n",
    "plt.xlabel(dataname)                               # X軸ラベル\n",
    "\n",
    "\n",
    "# 「ワンルーム」の実測値と予測結果をプロット\n",
    "plt.subplot(2, 2, 4)                               # plt.subplot(行数, 列数, 何番目のプロットか)で複数グラフを同時に描画可能\n",
    "dataname = 'One room'\n",
    "plt.scatter(X[dataname], Y)\n",
    "# 回帰直線をプロット\n",
    "plt.scatter(X[dataname], Y_pred, color = 'orange') # Xと予測結果Y_predをプロット\n",
    "plt.xlabel(dataname)                               # X軸ラベル\n",
    "\n",
    "\n",
    "# グラフ同士が重ならないように設定\n",
    "plt.tight_layout()                                 \n",
    "    \n",
    "# プロット結果を表示\n",
    "plt.show() \n"
   ]
  },
  {
   "cell_type": "markdown",
   "metadata": {},
   "source": [
    "# 演習3-3 標準化（Zスコア）した重回帰分析"
   ]
  },
  {
   "cell_type": "code",
   "execution_count": null,
   "metadata": {},
   "outputs": [],
   "source": [
    "from sklearn import preprocessing      # 機械学習パッケージscikit-learnから、データ前処理モジュールの読込"
   ]
  },
  {
   "cell_type": "markdown",
   "metadata": {},
   "source": [
    "## データの準備"
   ]
  },
  {
   "cell_type": "code",
   "execution_count": null,
   "metadata": {},
   "outputs": [],
   "source": [
    "### 標準化 ###\n",
    "# 説明変数の標準化（Zスコア）\n",
    "X_standard = preprocessing.scale(X)\n",
    "\n",
    "# 目的変数の標準化（Zスコア）\n",
    "Y_standard = preprocessing.scale(Y)"
   ]
  },
  {
   "cell_type": "markdown",
   "metadata": {},
   "source": [
    "## モデルの構築"
   ]
  },
  {
   "cell_type": "code",
   "execution_count": null,
   "metadata": {},
   "outputs": [],
   "source": [
    "### モデル構築（フィッティング） ###\n",
    "model.fit(X_standard, Y_standard)\n",
    "\n",
    "# 偏回帰係数の出力\n",
    "display( pd.DataFrame({\"Variables\":X.columns, \"Coefficients\":model.coef_}) )\n",
    "\n",
    "# 切片の出力\n",
    "print('切片:', model.intercept_)\n",
    "\n",
    "# 決定係数の出力\n",
    "print('決定係数:', model.score(X_standard, Y_standard))"
   ]
  },
  {
   "cell_type": "markdown",
   "metadata": {},
   "source": [
    "## 参考：モデルのチューニング（説明変数の除外）"
   ]
  },
  {
   "cell_type": "code",
   "execution_count": null,
   "metadata": {},
   "outputs": [],
   "source": [
    "### 「ワンルーム」の除外 ###\n",
    "X = X[ ['Minutes', 'Age', 'Area'] ]"
   ]
  },
  {
   "cell_type": "code",
   "execution_count": null,
   "metadata": {},
   "outputs": [],
   "source": [
    "### 標準化 ###\n",
    "# 説明変数の標準化（Zスコア）\n",
    "X_standard = preprocessing.scale(X)\n",
    "\n",
    "# 目的変数の標準化（Zスコア）\n",
    "Y_standard = preprocessing.scale(Y)"
   ]
  },
  {
   "cell_type": "code",
   "execution_count": null,
   "metadata": {},
   "outputs": [],
   "source": [
    "### モデル構築（フィッティング） ###\n",
    "model.fit(X_standard, Y_standard)\n",
    "\n",
    "# 偏回帰係数の出力\n",
    "display( pd.DataFrame({\"Variables\":X.columns, \"Coefficients\":model.coef_}) )\n",
    "\n",
    "# 切片の出力\n",
    "print('切片:', model.intercept_)\n",
    "\n",
    "# 決定係数の出力\n",
    "print('決定係数:', model.score(X_standard, Y_standard))"
   ]
  },
  {
   "cell_type": "markdown",
   "metadata": {},
   "source": [
    "# 演習3-4 ニューラルネットワークによる数値予測"
   ]
  },
  {
   "cell_type": "markdown",
   "metadata": {},
   "source": [
    "## データの準備"
   ]
  },
  {
   "cell_type": "code",
   "execution_count": null,
   "metadata": {},
   "outputs": [],
   "source": [
    "# 説明変数の再セット\n",
    "X = df[ ['Minutes', 'Age', 'Area', 'One room'] ]\n",
    "\n",
    "# 目的変数の再セット\n",
    "Y = df['Price']"
   ]
  },
  {
   "cell_type": "code",
   "execution_count": null,
   "metadata": {},
   "outputs": [],
   "source": [
    "### 標準化 ###\n",
    "# 説明変数の標準化（Zスコア）\n",
    "X_standard = preprocessing.scale(X)\n",
    "\n",
    "# 目的変数の標準化（Zスコア）\n",
    "Y_standard = preprocessing.scale(Y)"
   ]
  },
  {
   "cell_type": "markdown",
   "metadata": {},
   "source": [
    "## モデルの構築"
   ]
  },
  {
   "cell_type": "code",
   "execution_count": null,
   "metadata": {},
   "outputs": [],
   "source": [
    "# ニューラルネットワークのライブラリ読み込み\n",
    "from sklearn.neural_network import MLPRegressor #scikit-learnパッケージ内の ニューラルネットワークのモジュールより、\n",
    "                                                #多層パーセプトロン (MLP) 回帰のクラスを読込\n",
    "\n",
    "# ニューラルネットワークモデル構築\n",
    "model = MLPRegressor( random_state=0, hidden_layer_sizes=(100,))   #インスタンス化（関数を使える状態にする）\n",
    "            #パラメータの説明：\n",
    "            # random_state: 乱数のシード値。指定することで再現性を担保\n",
    "            # hidden_layer_sizes=(100,) は隠れ層1、ノード数100を意味する\n",
    "\n",
    "model.fit(X_standard, Y_standard)  #モデル構築（フィッティング）"
   ]
  },
  {
   "cell_type": "markdown",
   "metadata": {},
   "source": [
    "## モデルの評価"
   ]
  },
  {
   "cell_type": "code",
   "execution_count": null,
   "metadata": {},
   "outputs": [],
   "source": [
    "# モデル予測値の出力\n",
    "Y_pred = model.predict(X_standard)\n",
    "\n",
    "# 精度の出力\n",
    "model.score(X_standard, Y_standard)"
   ]
  },
  {
   "cell_type": "code",
   "execution_count": null,
   "metadata": {},
   "outputs": [],
   "source": [
    "#参考：各種パラメータのデフォルト値\n",
    "# MLPRegressor(activation='relu', alpha=0.0001, batch_size='auto', beta_1=0.9,\n",
    "#        beta_2=0.999, early_stopping=False, epsilon=1e-08,\n",
    "#        hidden_layer_sizes=(100,), learning_rate='constant',\n",
    "#        learning_rate_init=0.001, max_iter=200, momentum=0.9,\n",
    "#        nesterovs_momentum=True, power_t=0.5, random_state=None,\n",
    "#        shuffle=True, solver='adam', tol=0.0001, validation_fraction=0.1,\n",
    "#        verbose=False, warm_start=False)"
   ]
  },
  {
   "cell_type": "markdown",
   "metadata": {},
   "source": [
    "# 参考：分布の対数変換"
   ]
  },
  {
   "cell_type": "code",
   "execution_count": null,
   "metadata": {
    "execution": {
     "iopub.execute_input": "2021-05-20T04:42:35.994540Z",
     "iopub.status.busy": "2021-05-20T04:42:35.994141Z",
     "iopub.status.idle": "2021-05-20T04:42:36.118328Z",
     "shell.execute_reply": "2021-05-20T04:42:36.116566Z",
     "shell.execute_reply.started": "2021-05-20T04:42:35.994502Z"
    }
   },
   "outputs": [],
   "source": [
    "# 対数変換した上でヒストグラム表示\n",
    "df['Price'].apply(np.log).hist() \n",
    "        # np.logで対数変換\n",
    "        #  ※データに0を含む場合はエラーが出るので、事前に0の除外が必要\n",
    "        #     e.g. df[ df['Age']!=0 ]['Age']  \n",
    "        # df[特定カラム].apply(xxx)で網羅的に各レコードに適用\n"
   ]
  }
 ],
 "metadata": {
  "kernelspec": {
   "display_name": "Python 3 (ipykernel)",
   "language": "python",
   "name": "python3"
  },
  "language_info": {
   "codemirror_mode": {
    "name": "ipython",
    "version": 3
   },
   "file_extension": ".py",
   "mimetype": "text/x-python",
   "name": "python",
   "nbconvert_exporter": "python",
   "pygments_lexer": "ipython3",
   "version": "3.11.3"
  },
  "toc": {
   "base_numbering": 1,
   "nav_menu": {},
   "number_sections": true,
   "sideBar": true,
   "skip_h1_title": false,
   "title_cell": "Table of Contents",
   "title_sidebar": "Contents",
   "toc_cell": false,
   "toc_position": {},
   "toc_section_display": true,
   "toc_window_display": false
  },
  "varInspector": {
   "cols": {
    "lenName": 16,
    "lenType": 16,
    "lenVar": 40
   },
   "kernels_config": {
    "python": {
     "delete_cmd_postfix": "",
     "delete_cmd_prefix": "del ",
     "library": "var_list.py",
     "varRefreshCmd": "print(var_dic_list())"
    },
    "r": {
     "delete_cmd_postfix": ") ",
     "delete_cmd_prefix": "rm(",
     "library": "var_list.r",
     "varRefreshCmd": "cat(var_dic_list()) "
    }
   },
   "types_to_exclude": [
    "module",
    "function",
    "builtin_function_or_method",
    "instance",
    "_Feature"
   ],
   "window_display": false
  }
 },
 "nbformat": 4,
 "nbformat_minor": 4
}

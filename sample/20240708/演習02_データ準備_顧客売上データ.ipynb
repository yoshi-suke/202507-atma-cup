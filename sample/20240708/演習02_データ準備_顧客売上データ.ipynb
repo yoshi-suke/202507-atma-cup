{
 "cells": [
  {
   "cell_type": "markdown",
   "metadata": {},
   "source": [
    "# 演習2-1 カテゴリー値化（年齢→年代）"
   ]
  },
  {
   "cell_type": "code",
   "execution_count": null,
   "metadata": {},
   "outputs": [],
   "source": [
    "# コメントアウト\n",
    "import pandas as pd"
   ]
  },
  {
   "cell_type": "code",
   "execution_count": null,
   "metadata": {},
   "outputs": [],
   "source": [
    "### パッケージ・データの読込 ###\n",
    "import pandas as pd                                    # データフレーム型変数を取り扱えるパッケージpandasを読込\n",
    "df_customer = pd.read_excel('ファイル名入力（Tabキーによる文字補完を活用）') # 顧客マスタデータ読込"
   ]
  },
  {
   "cell_type": "code",
   "execution_count": null,
   "metadata": {},
   "outputs": [],
   "source": [
    "### 年齢のカテゴリー値化（年代に変換） ###\n",
    "df_customer['年齢セグメント'] = pd.cut(df_customer['年齢'], [10,20,30,40,50,60,70],\n",
    "                                       labels=['10代','20代','30代','40代','50代','60代'],\n",
    "                                       right=False\n",
    "                                       ) #カッコ内では改行OK"
   ]
  },
  {
   "cell_type": "code",
   "execution_count": null,
   "metadata": {},
   "outputs": [],
   "source": [
    "df_customer"
   ]
  },
  {
   "cell_type": "markdown",
   "metadata": {},
   "source": [
    "# 演習2-1 ダミー変数化（男性→0, 女性→1）"
   ]
  },
  {
   "cell_type": "code",
   "execution_count": null,
   "metadata": {},
   "outputs": [],
   "source": [
    "### 性別のダミー変数化（男性→0, 女性→1に変換） ###\n",
    "df_customer['性別ダミー'] = df_customer['性別'].replace({'男性':0, '女性':1})"
   ]
  },
  {
   "cell_type": "code",
   "execution_count": null,
   "metadata": {},
   "outputs": [],
   "source": [
    "df_customer"
   ]
  },
  {
   "cell_type": "markdown",
   "metadata": {},
   "source": [
    "# 演習2-2 データ結合"
   ]
  },
  {
   "cell_type": "markdown",
   "metadata": {},
   "source": [
    "## 結合データの読込・確認"
   ]
  },
  {
   "cell_type": "code",
   "execution_count": null,
   "metadata": {},
   "outputs": [],
   "source": [
    "### パッケージ・データの読込 ###\n",
    "import pandas as pd                                    # データフレーム型変数を取り扱えるパッケージpandasを読込\n",
    "df_order =    pd.read_excel('ファイル名入力（Tabキーによる文字補完を活用）')   # 注文明細トランザクションデータ読込"
   ]
  },
  {
   "cell_type": "code",
   "execution_count": null,
   "metadata": {},
   "outputs": [],
   "source": [
    "df_customer"
   ]
  },
  {
   "cell_type": "code",
   "execution_count": null,
   "metadata": {},
   "outputs": [],
   "source": [
    "df_order"
   ]
  },
  {
   "cell_type": "markdown",
   "metadata": {},
   "source": [
    "## 内部結合"
   ]
  },
  {
   "cell_type": "code",
   "execution_count": null,
   "metadata": {
    "code_folding": []
   },
   "outputs": [],
   "source": [
    "# 内部結合\n",
    "df_inner =    pd.merge(df_order, df_customer, on='顧客ID', how='inner')\n",
    "df_inner"
   ]
  },
  {
   "cell_type": "code",
   "execution_count": null,
   "metadata": {},
   "outputs": [],
   "source": [
    "df_inner.shape"
   ]
  },
  {
   "cell_type": "markdown",
   "metadata": {},
   "source": [
    "## 完全外部結合"
   ]
  },
  {
   "cell_type": "code",
   "execution_count": null,
   "metadata": {},
   "outputs": [],
   "source": [
    "# 完全外部結合\n",
    "df_outer =    pd.merge(df_order, df_customer, on='顧客ID', how='outer')\n",
    "df_outer"
   ]
  },
  {
   "cell_type": "markdown",
   "metadata": {},
   "source": [
    "## 左外部結合"
   ]
  },
  {
   "cell_type": "code",
   "execution_count": null,
   "metadata": {},
   "outputs": [],
   "source": [
    "# 左外部結合\n",
    "df_left =    pd.merge(df_order, df_customer, on='顧客ID', how='left')\n",
    "df_left"
   ]
  },
  {
   "cell_type": "markdown",
   "metadata": {},
   "source": [
    "## データのExcel保存"
   ]
  },
  {
   "cell_type": "code",
   "execution_count": null,
   "metadata": {
    "code_folding": []
   },
   "outputs": [],
   "source": [
    "### データのエクスポート ###\n",
    "df_left.to_excel('顧客-注文明細_結合済.xlsx')"
   ]
  },
  {
   "cell_type": "markdown",
   "metadata": {},
   "source": [
    "## 参考：主キーのチェック"
   ]
  },
  {
   "cell_type": "code",
   "execution_count": null,
   "metadata": {},
   "outputs": [],
   "source": [
    "### 主キーチェック ###\n",
    "df_customer.iloc[:, 0:4].nunique()"
   ]
  },
  {
   "cell_type": "code",
   "execution_count": null,
   "metadata": {},
   "outputs": [],
   "source": [
    "len( df_customer.groupby('顧客ID') )"
   ]
  },
  {
   "cell_type": "code",
   "execution_count": null,
   "metadata": {},
   "outputs": [],
   "source": [
    "len( df_customer )"
   ]
  },
  {
   "cell_type": "code",
   "execution_count": null,
   "metadata": {},
   "outputs": [],
   "source": [
    "len( df_order.groupby(['顧客ID','Date','商品ID']) )  "
   ]
  },
  {
   "cell_type": "markdown",
   "metadata": {},
   "source": [
    "# 参考：レコード落ちの確認・逆順結合"
   ]
  },
  {
   "cell_type": "code",
   "execution_count": null,
   "metadata": {},
   "outputs": [],
   "source": [
    "### 内部結合で落ちたレコードを確認 ###\n",
    "\n",
    "# df_leftは左外部結合なので、売上明細トランザクションデータが全て含まれているが、\n",
    "# 顧客マスタ側に存在しない顧客IDについては、「名前」や「性別」などの結合データが欠損（pythonではNaN）しているはずである\n",
    "\n",
    "df_left[ df_left['名前'].isnull() ]  # df_left['名前'].isnull() で「名前」列の欠損有無を調査（返り値はTrue/False）\n",
    "                                     # df_left[ df_left['名前'].isnull() ] で \"True\" のものだけを抽出"
   ]
  },
  {
   "cell_type": "code",
   "execution_count": null,
   "metadata": {},
   "outputs": [],
   "source": [
    "### 逆順結合 ###\n",
    "\n",
    "# 内部結合\n",
    "df_inner_inv =    pd.merge(df_customer, df_order, on='顧客ID', how='inner')\n",
    "df_inner_inv"
   ]
  },
  {
   "cell_type": "code",
   "execution_count": null,
   "metadata": {},
   "outputs": [],
   "source": [
    "# 完全外部結合\n",
    "df_outer_inv =    pd.merge(df_customer, df_order, on='顧客ID', how='outer')\n",
    "df_outer_inv"
   ]
  },
  {
   "cell_type": "code",
   "execution_count": null,
   "metadata": {},
   "outputs": [],
   "source": [
    "# 左外部結合\n",
    "df_left_inv =    pd.merge(df_customer, df_order, on='顧客ID', how='left')\n",
    "df_left_inv"
   ]
  }
 ],
 "metadata": {
  "kernelspec": {
   "display_name": "Python 3 (ipykernel)",
   "language": "python",
   "name": "python3"
  },
  "language_info": {
   "codemirror_mode": {
    "name": "ipython",
    "version": 3
   },
   "file_extension": ".py",
   "mimetype": "text/x-python",
   "name": "python",
   "nbconvert_exporter": "python",
   "pygments_lexer": "ipython3",
   "version": "3.11.3"
  },
  "toc": {
   "base_numbering": 1,
   "nav_menu": {},
   "number_sections": true,
   "sideBar": true,
   "skip_h1_title": false,
   "title_cell": "Table of Contents",
   "title_sidebar": "Contents",
   "toc_cell": false,
   "toc_position": {},
   "toc_section_display": true,
   "toc_window_display": false
  },
  "varInspector": {
   "cols": {
    "lenName": 16,
    "lenType": 16,
    "lenVar": 40
   },
   "kernels_config": {
    "python": {
     "delete_cmd_postfix": "",
     "delete_cmd_prefix": "del ",
     "library": "var_list.py",
     "varRefreshCmd": "print(var_dic_list())"
    },
    "r": {
     "delete_cmd_postfix": ") ",
     "delete_cmd_prefix": "rm(",
     "library": "var_list.r",
     "varRefreshCmd": "cat(var_dic_list()) "
    }
   },
   "types_to_exclude": [
    "module",
    "function",
    "builtin_function_or_method",
    "instance",
    "_Feature"
   ],
   "window_display": false
  }
 },
 "nbformat": 4,
 "nbformat_minor": 4
}

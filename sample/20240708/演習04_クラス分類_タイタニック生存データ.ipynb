{
 "cells": [
  {
   "cell_type": "markdown",
   "metadata": {},
   "source": [
    "# データの読込・閲覧"
   ]
  },
  {
   "cell_type": "markdown",
   "metadata": {},
   "source": [
    "## 準備（必要なパッケージ、データの読込）"
   ]
  },
  {
   "cell_type": "code",
   "execution_count": null,
   "metadata": {},
   "outputs": [],
   "source": [
    "### 必要なパッケージ（ライブラリ）の読み込み ###\n",
    "import pandas as pd             # データフレーム型変数を取り扱えるパッケージ\"pandas\"を読込み（以降\"pd\"と略記）\n",
    "import matplotlib.pyplot as plt # グラフ描画のパッケージ\"matplotlib\"を読込み（以降\"plt\"と略記）\n",
    "import seaborn as sns           # 上記matplotlibをベースにした高機能可視化モジュール\"saeborn\"を読込み（以降\"sns\"と略記）\n",
    "import numpy as np              # 数値演算のためのパッケージ\"numpy\"を読込み（以降\"np\"と略記）"
   ]
  },
  {
   "cell_type": "code",
   "execution_count": null,
   "metadata": {
    "execution": {
     "iopub.execute_input": "2021-05-25T08:49:10.569296Z",
     "iopub.status.busy": "2021-05-25T08:49:10.568864Z",
     "iopub.status.idle": "2021-05-25T08:49:10.581253Z",
     "shell.execute_reply": "2021-05-25T08:49:10.579903Z",
     "shell.execute_reply.started": "2021-05-25T08:49:10.569256Z"
    }
   },
   "outputs": [],
   "source": [
    "# データの読み込み\n",
    "df = pd.read_excel('ファイル名入力（Tabキーによる文字補完を活用）')\n",
    "\n",
    "# ※ \"演習01_\" まで入力し、TABキーで補完するのが効率的"
   ]
  },
  {
   "cell_type": "markdown",
   "metadata": {},
   "source": [
    "## データ閲覧"
   ]
  },
  {
   "cell_type": "code",
   "execution_count": null,
   "metadata": {
    "execution": {
     "iopub.execute_input": "2021-05-25T08:49:10.925368Z",
     "iopub.status.busy": "2021-05-25T08:49:10.924970Z",
     "iopub.status.idle": "2021-05-25T08:49:10.937604Z",
     "shell.execute_reply": "2021-05-25T08:49:10.936315Z",
     "shell.execute_reply.started": "2021-05-25T08:49:10.925331Z"
    }
   },
   "outputs": [],
   "source": [
    "df"
   ]
  },
  {
   "cell_type": "code",
   "execution_count": null,
   "metadata": {},
   "outputs": [],
   "source": [
    "df.head(3)"
   ]
  },
  {
   "cell_type": "markdown",
   "metadata": {},
   "source": [
    "## 行数・列数の出力"
   ]
  },
  {
   "cell_type": "code",
   "execution_count": null,
   "metadata": {},
   "outputs": [],
   "source": [
    "df.shape"
   ]
  },
  {
   "cell_type": "markdown",
   "metadata": {
    "heading_collapsed": true
   },
   "source": [
    "# (復習)データの確認・各種統計量の観察"
   ]
  },
  {
   "cell_type": "markdown",
   "metadata": {
    "hidden": true
   },
   "source": [
    "## 要約統計量の出力"
   ]
  },
  {
   "cell_type": "code",
   "execution_count": null,
   "metadata": {
    "hidden": true
   },
   "outputs": [],
   "source": [
    "df.describe()"
   ]
  },
  {
   "cell_type": "code",
   "execution_count": null,
   "metadata": {
    "hidden": true
   },
   "outputs": [],
   "source": [
    "### 参考：カテゴリー値の場合 ###\n",
    "df.describe(include='O')   #'Object'型の頭文字'O'"
   ]
  },
  {
   "cell_type": "markdown",
   "metadata": {
    "hidden": true
   },
   "source": [
    "## 相関行列"
   ]
  },
  {
   "cell_type": "code",
   "execution_count": null,
   "metadata": {
    "hidden": true
   },
   "outputs": [],
   "source": [
    "### 相関行列 ###\n",
    "df.corr(numeric_only=True) \n",
    "\n",
    "# pandasの仕様変更(おそらくv2.0.0以降）により、numeric_only=Trueの指定が必須化\n",
    "# 指定しないと、文字列を含む列がある場合、\"could not convert string to float....\" というエラーが発生\n",
    "# （従来は、当該引数を指定しなくても、自動的に文字列を含む列は除外されていた）\n",
    "# \n",
    "# 参考 pandasのversion確認方法：print(pd.__version__)"
   ]
  },
  {
   "cell_type": "code",
   "execution_count": null,
   "metadata": {
    "hidden": true
   },
   "outputs": [],
   "source": [
    "### 相関行列のお化粧（ヒートマップ） ###\n",
    "\n",
    "import matplotlib.pyplot as plt # グラフ描画のパッケージ\"matplotlib\"を読込み（以降\"plt\"と略記）\n",
    "import seaborn as sns           # 上記matplotlibをベースにした高機能可視化モジュール\"saeborn\"を読込み（以降\"sns\"と略記）\n",
    "\n",
    "# カラーマップの設定 (RdBu:赤〜青 ⇔ RdBu_r:青〜赤)\n",
    "colormap = plt.cm.RdBu_r\n",
    "\n",
    "# Figureサイズの指定\n",
    "plt.rcParams['figure.figsize'] = 10, 5\n",
    "\n",
    "# 相関行列の右上半分を隠したい場合は、次の2行のコメントを解除し、sns.heatmapのオプションに mask=mask を追加\n",
    "# mask = np.zeros_like(df.corr(), dtype=np.bool)\n",
    "# mask[np.triu_indices_from(mask)] = True\n",
    "\n",
    "sns.heatmap(df.corr(numeric_only=True), linewidths=0.1, linecolor='white',   # 相関行列df.corr()を引数としヒートマップ作成\n",
    "            vmax=1.0, vmin=-1.0, cmap=colormap, annot=True, annot_kws={'fontsize':8}, fmt='.2f')\n",
    "\n",
    "            # linewidths/linecolor: 格子線の太さ/色\n",
    "            # cmap:                 カラーマップの指定\n",
    "            # vmax/vmin:            最大値/最小値\n",
    "            # annot:                各要素への数値表示\n",
    "            # annot_kws={'fontsize':8}: 各要素内に表示する数値の文字サイズを指定\n",
    "            # fmt='.2f':            各要素内に表示する数値の小数点桁数を指定（'.2f'で小数第二位まで）\n",
    "            # mask:                 可視化から除外する対象（例：mask=mask）\n",
    "            "
   ]
  },
  {
   "cell_type": "markdown",
   "metadata": {
    "hidden": true
   },
   "source": [
    "## クロス集計（カテゴリー値に有効）\n",
    "クロス集計・・・2つの変数を「クロス」させて（掛け合わせて）、カテゴリー値の出現値（クラス）ごとの傾向を確認する方法  \n",
    "`pd.crosstab(行方向に配置する変数, 列方向に配置する変数)`"
   ]
  },
  {
   "cell_type": "code",
   "execution_count": null,
   "metadata": {
    "hidden": true
   },
   "outputs": [],
   "source": [
    "### クロス集計 ###\n",
    "# チケットクラスごとの生存者数を確認\n",
    "pd.crosstab(df['Pclass'], df['Survived'])  #pd.crosstab(行方向に配置する変数, 列方向に配置する変数)"
   ]
  },
  {
   "cell_type": "code",
   "execution_count": null,
   "metadata": {
    "hidden": true
   },
   "outputs": [],
   "source": [
    "### クロス集計 <値正規化バージョン> ###\n",
    "# チケットクラスごとの生存率を確認\n",
    "pd.crosstab(df['Pclass'], df['Survived'], normalize='index')  #normalize='index'で行ごとの割合で集計される"
   ]
  },
  {
   "cell_type": "code",
   "execution_count": null,
   "metadata": {
    "hidden": true
   },
   "outputs": [],
   "source": [
    "### クロス集計 <応用編> ###\n",
    "# チケットクラス、生存ごとの平均年齢\n",
    "pd.crosstab(df['Pclass'], df['Survived'], values=df['Age'], aggfunc='mean')  #values, aggfuncを指定すれば、他列の集計値を出力可能"
   ]
  },
  {
   "cell_type": "markdown",
   "metadata": {
    "hidden": true
   },
   "source": [
    "### 参考：クロス集計表で値の大小に応じて色をつける方法"
   ]
  },
  {
   "cell_type": "code",
   "execution_count": null,
   "metadata": {
    "hidden": true
   },
   "outputs": [],
   "source": [
    "# 一旦、クロス集計結果を別のデータフレームに格納\n",
    "df_cross = pd.crosstab(df['Pclass'], df['Survived'], normalize='index') \n",
    "\n",
    "# データフレームのスタイル機能を活用し、行ごとの値の大小に応じてグラデーション\n",
    "df_cross.style.background_gradient(axis=0, cmap='Reds')\n",
    "     # axis: 大小を判断する範囲を指定（axis=Noneで全体、axis=0で行ごと、axis=1で列ごと）\n",
    "     # cmap: カラーマップの指定"
   ]
  },
  {
   "cell_type": "markdown",
   "metadata": {
    "hidden": true
   },
   "source": [
    "参考：カラーマップリスト\n",
    "https://matplotlib.org/3.1.0/tutorials/colors/colormaps.html"
   ]
  },
  {
   "cell_type": "markdown",
   "metadata": {
    "hidden": true
   },
   "source": [
    "## 欠損値の確認"
   ]
  },
  {
   "cell_type": "code",
   "execution_count": null,
   "metadata": {
    "hidden": true
   },
   "outputs": [],
   "source": [
    "df.isnull().sum()"
   ]
  },
  {
   "cell_type": "markdown",
   "metadata": {
    "hidden": true
   },
   "source": [
    "## 欠損値の処理 → 後段の分析時に対応"
   ]
  },
  {
   "cell_type": "code",
   "execution_count": null,
   "metadata": {
    "hidden": true
   },
   "outputs": [],
   "source": [
    "# ### 欠損値を中央値で置換 ###\n",
    "# df['Age'] = df['Age'].fillna(df['Age'].median())  #連続値は中央値／平均値\n",
    "# df['Embarked'] = df['Embarked'].fillna('S')       #カテゴリー値は最頻値\n",
    "\n",
    "# Cabinはひとまず除外して分析するため、一旦放置"
   ]
  },
  {
   "cell_type": "code",
   "execution_count": null,
   "metadata": {
    "hidden": true
   },
   "outputs": [],
   "source": [
    "# # 欠損値処理後の確認\n",
    "# df.isnull().sum()"
   ]
  },
  {
   "cell_type": "markdown",
   "metadata": {
    "heading_collapsed": true
   },
   "source": [
    "# (復習)グラフによる可視化① - ヒストグラム"
   ]
  },
  {
   "cell_type": "markdown",
   "metadata": {
    "hidden": true
   },
   "source": [
    "## 単一ヒストグラム"
   ]
  },
  {
   "cell_type": "code",
   "execution_count": null,
   "metadata": {
    "hidden": true
   },
   "outputs": [],
   "source": [
    "sns.histplot( df['Fare'], kde=False, bins=10 )"
   ]
  },
  {
   "cell_type": "markdown",
   "metadata": {
    "hidden": true
   },
   "source": [
    "## 複数のヒストグラム一括描画"
   ]
  },
  {
   "cell_type": "code",
   "execution_count": null,
   "metadata": {
    "hidden": true
   },
   "outputs": [],
   "source": [
    "# pandasパッケージのプロット機能活用\n",
    "df.hist()\n",
    "\n",
    "plt.tight_layout()                                 # グラフ同士が重ならないようにするオプション"
   ]
  },
  {
   "cell_type": "markdown",
   "metadata": {
    "hidden": true
   },
   "source": [
    "## 参考：描画設定\n",
    "※重なりなどの描画崩れや、文字化けなど、描画がうまくいかない場合"
   ]
  },
  {
   "cell_type": "code",
   "execution_count": null,
   "metadata": {
    "hidden": true
   },
   "outputs": [],
   "source": [
    "### 以下、デザイン設定 ###\n",
    "plt.rcParams['figure.figsize'] = 10, 5             # グラフのサイズ指定\n",
    "plt.rcParams['font.sans-serif'] = ['Hiragino Maru Gothic Pro', 'Yu Gothic', 'Meirio', 'Takao',\n",
    "                                   'IPAexGothic', 'IPAPGothic', 'VL PGothic', 'Noto Sans CJK JP']\n",
    "                                                   # 文字化け対策にフォント指定\n",
    "plt.rcParams['font.size'] = 16                     # フォントサイズ一括指定\n",
    "plt.tight_layout()                                 # グラフ同士が重ならないようにする\n",
    "# plt.grid(True)                                   # グリッド表示ON\n",
    "plt.show()                                         # 各種設定の反映"
   ]
  },
  {
   "cell_type": "markdown",
   "metadata": {
    "heading_collapsed": true
   },
   "source": [
    "# (復習)グラフによる可視化② - 散布図・箱ひげ図"
   ]
  },
  {
   "cell_type": "markdown",
   "metadata": {
    "hidden": true
   },
   "source": [
    "## 散布図（単一）"
   ]
  },
  {
   "cell_type": "code",
   "execution_count": null,
   "metadata": {
    "hidden": true,
    "scrolled": true
   },
   "outputs": [],
   "source": [
    "### 散布図（単一） ###\t\n",
    "sns.jointplot(data=df, x='Age', y='Fare')  # dfの「Age」と「Fare」のデータ列の散布図(jointplot)を描画"
   ]
  },
  {
   "cell_type": "markdown",
   "metadata": {
    "hidden": true
   },
   "source": [
    "## 散布図（複数）→ 「散布図行列」"
   ]
  },
  {
   "cell_type": "code",
   "execution_count": null,
   "metadata": {
    "hidden": true,
    "scrolled": true
   },
   "outputs": [],
   "source": [
    "# 非常に時間がかかるので注意\n",
    "sns.pairplot(df)"
   ]
  },
  {
   "cell_type": "markdown",
   "metadata": {
    "hidden": true
   },
   "source": [
    "## 生存フラグで色分けした散布図"
   ]
  },
  {
   "cell_type": "code",
   "execution_count": null,
   "metadata": {
    "hidden": true
   },
   "outputs": [],
   "source": [
    "# 非常に時間がかかるので注意\n",
    "sns.pairplot(df, hue= 'Survived' )"
   ]
  },
  {
   "cell_type": "markdown",
   "metadata": {
    "hidden": true
   },
   "source": [
    "## 箱ひげ図"
   ]
  },
  {
   "cell_type": "code",
   "execution_count": null,
   "metadata": {
    "hidden": true
   },
   "outputs": [],
   "source": [
    "# pandasパッケージのプロット機能活用\n",
    "df.boxplot()"
   ]
  },
  {
   "cell_type": "markdown",
   "metadata": {},
   "source": [
    "# 演習4-1 ロジスティック回帰"
   ]
  },
  {
   "cell_type": "markdown",
   "metadata": {},
   "source": [
    "## データの準備（加工）"
   ]
  },
  {
   "cell_type": "markdown",
   "metadata": {},
   "source": [
    "### 欠損値の補完"
   ]
  },
  {
   "cell_type": "code",
   "execution_count": null,
   "metadata": {},
   "outputs": [],
   "source": [
    "### 欠損値の確認 ###\n",
    "df.isnull().sum()"
   ]
  },
  {
   "cell_type": "code",
   "execution_count": null,
   "metadata": {},
   "outputs": [],
   "source": [
    "### 欠損値の補完 ###\n",
    "df['Age'] =      df['Age'].fillna(df['Age'].median()) # 連続数は中央値／平均値\n",
    "df['Embarked'] = df['Embarked'].fillna( 'S' )         # カテゴリー値は最頻値 → Emberkedの最頻値'S' を代入\n",
    "                                                      # （関数で与えたい場合には、df['Embarked'].mode()[0] ）"
   ]
  },
  {
   "cell_type": "code",
   "execution_count": null,
   "metadata": {},
   "outputs": [],
   "source": [
    "df.isnull().sum()"
   ]
  },
  {
   "cell_type": "markdown",
   "metadata": {},
   "source": [
    "### ダミー変数化"
   ]
  },
  {
   "cell_type": "code",
   "execution_count": null,
   "metadata": {},
   "outputs": [],
   "source": [
    "### 「Sex」の「male／female」をダミー変数化（0/1） ###\n",
    "df['Sex'] = df['Sex'].replace( {'male':0, 'female':1} ) # Noはただの識別番号のため可視化から除外\n",
    "\n",
    "### 「Embarked」の「C/Q/S」をダミー変数化（0/1/2） ###\n",
    "df['Embarked'] = df['Embarked'].replace( {'C':0, 'Q':1, 'S':2} ) # Noはただの識別番号のため可視化から除外"
   ]
  },
  {
   "cell_type": "code",
   "execution_count": null,
   "metadata": {
    "scrolled": true
   },
   "outputs": [],
   "source": [
    "df"
   ]
  },
  {
   "cell_type": "markdown",
   "metadata": {},
   "source": [
    "## モデルの構築"
   ]
  },
  {
   "cell_type": "code",
   "execution_count": null,
   "metadata": {},
   "outputs": [],
   "source": [
    "### ロジスティック回帰分析 ###\n",
    "from sklearn import linear_model # 機械学習パッケージに含まれた回帰分析モジュール\"linear_model\"を読込\n",
    "\n",
    "# 説明変数のセット\n",
    "X = df[ ['Pclass', 'Sex', 'Age', 'SibSp', 'Parch', 'Fare', 'Embarked'] ]\n",
    "\n",
    "# 目的変数のセット\n",
    "Y = df['Survived']\n",
    "\n",
    "# ロジスティック回帰モデルを作成\n",
    "model = linear_model.LogisticRegression()  # インスタンス化（関数を使える状態にする）\n",
    "model.fit(X, Y)                            # モデル構築（フィッティング）\n",
    "\n",
    "# 偏回帰係数の出力\n",
    "display( pd.DataFrame({\"Variables\":X.columns, \"Coefficients\":model.coef_.reshape(-1,)}) )\n",
    "#もしくは\n",
    "#display( pd.concat( [pd.DataFrame(X.columns, columns=['Variables']), pd.DataFrame(model.coef_.T, columns=['Coefficients'])], axis=1) )\n",
    "\n",
    "# 切片の出力\n",
    "print( '切片:', model.intercept_ )\n",
    "\n",
    "# 正解率の出力（全データのうち、正解した件数の割合）\n",
    "print( '正解率:', model.score(X, Y) )"
   ]
  },
  {
   "cell_type": "markdown",
   "metadata": {},
   "source": [
    "## モデルの評価"
   ]
  },
  {
   "cell_type": "markdown",
   "metadata": {},
   "source": [
    "### 予測結果の確認"
   ]
  },
  {
   "cell_type": "code",
   "execution_count": null,
   "metadata": {
    "scrolled": true
   },
   "outputs": [],
   "source": [
    "### 実測値と予測結果の比較 ###\n",
    "\n",
    "Y_pred = model.predict(X)  # モデルに説明変数を入力して、予測結果を出力\n",
    "results = pd.DataFrame( {'実測値':Y, '予測値':Y_pred}, columns=['実測値', '予測値'] ) # データフレームに実測値、予測結果を格納\n",
    "\n",
    "display( results ) # 画面出力"
   ]
  },
  {
   "cell_type": "code",
   "execution_count": null,
   "metadata": {
    "scrolled": true
   },
   "outputs": [],
   "source": [
    "### 予測結果の確率を出力 ###\n",
    "\n",
    "probs = model.predict_proba(X) # モデル.predict_proba(説明変数) で モデルに説明変数を入力したときの予測「確率」を抽出\n",
    "probs = pd.DataFrame(probs)    # データフレーム型に変換\n",
    "display( probs ) # 画面出力"
   ]
  },
  {
   "cell_type": "code",
   "execution_count": null,
   "metadata": {
    "scrolled": true
   },
   "outputs": [],
   "source": [
    "### 予測結果と確率の確認 ###\n",
    "results['確率(Prob)'] = probs[1]     # 参考データとしてresultsのデータフレームにくっつける\n",
    "\n",
    "display(results)"
   ]
  },
  {
   "cell_type": "markdown",
   "metadata": {},
   "source": [
    "### 精度指標の確認"
   ]
  },
  {
   "cell_type": "code",
   "execution_count": null,
   "metadata": {},
   "outputs": [],
   "source": [
    "## 混同行列、各種精度指標の可視化 ###\n",
    "\n",
    "#ライブラリ読込：モデル評価のためのライブラリ\n",
    "from sklearn.metrics import confusion_matrix, accuracy_score, precision_score, recall_score, f1_score\n",
    "\n",
    "#各種 精度指標の出力\n",
    "print('混同行列 (confusion matrix) = \\n', confusion_matrix(y_true= Y, y_pred= Y_pred, labels=[1,0]))\n",
    "print('正解率 (accuracy) = ', accuracy_score(y_true= Y, y_pred= Y_pred))\n",
    "print('適合率 (precision) = ', precision_score(y_true= Y, y_pred= Y_pred, pos_label=1))\n",
    "print('再現率 (recall) = ', recall_score(y_true= Y, y_pred= Y_pred, pos_label=1))\n",
    "print('F値 (f1 score) = ', f1_score(y_true= Y, y_pred= Y_pred, pos_label=1))\n"
   ]
  },
  {
   "cell_type": "markdown",
   "metadata": {},
   "source": [
    "# 演習4-2 決定木分析"
   ]
  },
  {
   "cell_type": "markdown",
   "metadata": {},
   "source": [
    "## 参考：決定木可視化ツールインストール関連"
   ]
  },
  {
   "cell_type": "markdown",
   "metadata": {},
   "source": [
    "### Anaconda Promptでのインストールコマンド"
   ]
  },
  {
   "cell_type": "code",
   "execution_count": null,
   "metadata": {},
   "outputs": [],
   "source": [
    "### Anaconda Promptでの決定木可視化パッケージ \"dtreeviz\" インストール ###\n",
    "# （※Macの場合はターミナル上からでOK）\n",
    "\n",
    "# 下記コマンドをコピペして使用\n",
    "# conda install -c conda-forge dtreeviz\n",
    "\n",
    "# ※どうしても上記でエラーが出てうまくいかない場合は、 pip install dtreeviz を用いる\n",
    "#.  ただし、conda install と pip install は相性が悪い部分もあり、公式でも非推奨"
   ]
  },
  {
   "cell_type": "markdown",
   "metadata": {},
   "source": [
    "### アップデート\n",
    "※最新バージョンでは無い場合"
   ]
  },
  {
   "cell_type": "code",
   "execution_count": null,
   "metadata": {},
   "outputs": [],
   "source": [
    "# dtreeviz アップデートコマンド（Anaconda Prompt経由）\n",
    "# conda update -c conda-forge dtreeviz"
   ]
  },
  {
   "cell_type": "markdown",
   "metadata": {},
   "source": [
    "### dtreevizのバージョン確認"
   ]
  },
  {
   "cell_type": "code",
   "execution_count": null,
   "metadata": {
    "execution": {
     "iopub.execute_input": "2023-04-17T07:08:35.041546Z",
     "iopub.status.busy": "2023-04-17T07:08:35.041024Z",
     "iopub.status.idle": "2023-04-17T07:08:35.045448Z",
     "shell.execute_reply": "2023-04-17T07:08:35.044766Z",
     "shell.execute_reply.started": "2023-04-17T07:08:35.041513Z"
    },
    "tags": []
   },
   "outputs": [],
   "source": [
    "import dtreeviz\n",
    "print(dtreeviz.__version__)\n",
    "\n",
    "# 2023/04/18時点の最新版は 2.2.1"
   ]
  },
  {
   "cell_type": "markdown",
   "metadata": {},
   "source": [
    "### ツール動作確認コード"
   ]
  },
  {
   "cell_type": "code",
   "execution_count": null,
   "metadata": {},
   "outputs": [],
   "source": [
    "from sklearn.datasets import load_iris\n",
    "from sklearn.tree import DecisionTreeClassifier\n",
    "\n",
    "import dtreeviz\n",
    "\n",
    "iris = load_iris()\n",
    "X = iris.data\n",
    "y = iris.target\n",
    "\n",
    "clf = DecisionTreeClassifier(max_depth=4)\n",
    "clf.fit(X, y)\n",
    "\n",
    "viz_model = dtreeviz.model(clf,\n",
    "                           X_train=X, y_train=y,\n",
    "                           feature_names=iris.feature_names,\n",
    "                           target_name='iris',\n",
    "                           class_names=iris.target_names)\n",
    "\n",
    "# v = viz_model.view()     # render as SVG into internal object \n",
    "# v.show()                 # pop up window\n",
    "# v.save(\"/tmp/iris.svg\")  # optionally save as svg\n",
    "\n",
    "viz_model.view()       # in notebook, displays inline"
   ]
  },
  {
   "cell_type": "markdown",
   "metadata": {},
   "source": [
    "## モデルの構築"
   ]
  },
  {
   "cell_type": "markdown",
   "metadata": {},
   "source": [
    "### 決定木分析モデルの構築"
   ]
  },
  {
   "cell_type": "code",
   "execution_count": null,
   "metadata": {},
   "outputs": [],
   "source": [
    "### 決定木分析 ###\n",
    "from sklearn import tree     # 機械学習パッケージに含まれた決定木分析モジュール\"tree\"を読込\n",
    "\n",
    "# 説明変数のセット\n",
    "X = df[ ['Pclass', 'Sex', 'Age', 'SibSp', 'Parch', 'Fare', 'Embarked'] ]\n",
    "\n",
    "# 目的変数のセット\n",
    "Y = df['Survived']\n",
    "\n",
    "# 決定木モデルを作成\n",
    "model = tree.DecisionTreeClassifier(max_depth=3, criterion = 'gini', random_state=0)  # インスタンス化（関数を使える状態にする）\n",
    "    # 各種設定パラメータの説明\n",
    "    # tree.DecisionTreeRegressor(max_depth=3) とすれば、回帰木\n",
    "    # max_depth: ツリーの最大深さ\n",
    "    # criterion: データの分割指標を \"gini\"（ジニ係数） or \"entropy\" （情報エントロピー）で指定\n",
    "    # random_state: 乱数のシード値。指定することで再分析時の再現性を担保\n",
    "\n",
    "    \n",
    "model.fit(X, Y)                            # モデル構築（フィッティング）\n"
   ]
  },
  {
   "cell_type": "markdown",
   "metadata": {},
   "source": [
    "### 決定木分析モデルの可視化"
   ]
  },
  {
   "cell_type": "code",
   "execution_count": null,
   "metadata": {},
   "outputs": [],
   "source": [
    "### スマート可視化ツール \"dtreeviz\" を使った可視化 ###\n",
    "\n",
    "import dtreeviz # 決定木可視化ライブラリを読み込み\n",
    "\n",
    "viz_model = dtreeviz.model(model,\n",
    "               X,                                 # 説明変数\n",
    "               Y,                                 # 目的変数\n",
    "               feature_names = X.columns,         # 決定木の分割条件に記載する説明変数名称\n",
    "               target_name = 'Survive',           # 凡例に記載する目的変数名称\n",
    "               class_names = ['0:No', '1:Yes'],   # 凡例に記載するクラス名称\n",
    "              ) \n",
    "\n",
    "# 読み込んだ決定木モデルを描画\n",
    "viz_model.view(\n",
    "                fontname = 'Yu Gothic',              # 文字化け防止のためのフォント設定（Windows）\n",
    "#                 fontname='Hiragino Maru Gothic Pro', # for Mac\n",
    "                label_fontsize = 18,                 # 説明変数の文字サイズ\n",
    "                ticks_fontsize = 14,                 # 目盛り数字の文字サイズ\n",
    "                title = '決定木分析結果',               # グラフタイトル\n",
    "                title_fontsize = 20,                 # グラフタイトルの文字サイズ\n",
    "                scale = 1.2                          # 拡大率（描画サイズを拡大・縮小）\n",
    "              )\n"
   ]
  },
  {
   "cell_type": "code",
   "execution_count": null,
   "metadata": {},
   "outputs": [],
   "source": [
    "### dtreevizを使わない可視化方法 ###\n",
    "\n",
    "# 描画サイズの指定\n",
    "fig, ax = plt.subplots( figsize=(40,40) )\n",
    "\n",
    "tree.plot_tree(model,                                #描画対象の決定木モデル\n",
    "               feature_names = X.columns.to_list(),  #決定木の分割条件に記載する説明変数名称\n",
    "               class_names =  ['0:No', '1:Yes'],     #凡例に記載する目的変数名称\n",
    "               fontsize = 12,                        #フォントサイズの調整\n",
    "               filled=True,                          #各ノードの色付け有無\n",
    "               rounded=True,                         #各ノードの形状（角丸四角とするか）\n",
    "               proportion=True                       #比率を出力するか\n",
    "              ) "
   ]
  },
  {
   "cell_type": "markdown",
   "metadata": {},
   "source": [
    "### 変数重要度一覧の出力"
   ]
  },
  {
   "cell_type": "code",
   "execution_count": null,
   "metadata": {},
   "outputs": [],
   "source": [
    "### 変数重要度一覧 ###\n",
    "features = X.columns                      # 変数名を取得\n",
    "importances = model.feature_importances_  # モデルから各変数の重要度を取得\n",
    "indices = np.argsort(importances)         # 並び順を定義（大きい順序）\n",
    "\n",
    "# グラフ描画\n",
    "plt.figure(figsize=(6,6)) # グラフサイズの指定\n",
    "plt.barh(range(len(indices)), importances[indices], color='b', align='center') # 横棒グラフ\n",
    "plt.yticks(range(len(indices)), features[indices]) # 変数名を描画\n",
    "plt.show()"
   ]
  },
  {
   "cell_type": "markdown",
   "metadata": {},
   "source": [
    "## モデルの評価"
   ]
  },
  {
   "cell_type": "markdown",
   "metadata": {},
   "source": [
    "### 精度指標の確認"
   ]
  },
  {
   "cell_type": "code",
   "execution_count": null,
   "metadata": {},
   "outputs": [],
   "source": [
    "## 混同行列、各種精度指標の可視化 ###\n",
    "\n",
    "#モデルによる予測結果の取得\n",
    "Y_pred = model.predict(X)\n",
    "\n",
    "#ライブラリ読込：モデル評価のためのライブラリ\n",
    "from sklearn.metrics import confusion_matrix, accuracy_score, precision_score, recall_score, f1_score\n",
    "\n",
    "#各種 精度指標の出力\n",
    "print('混同行列 (confusion matrix) = \\n', confusion_matrix(y_true= Y, y_pred= Y_pred, labels=[1,0]))\n",
    "print('正解率 (accuracy) = ', accuracy_score(y_true= Y, y_pred= Y_pred))\n",
    "print('適合率 (precision) = ', precision_score(y_true= Y, y_pred= Y_pred, pos_label=1))\n",
    "print('再現率 (recall) = ', recall_score(y_true= Y, y_pred= Y_pred, pos_label=1))\n",
    "print('F値 (f1 score) = ', f1_score(y_true= Y, y_pred= Y_pred, pos_label=1))\n"
   ]
  },
  {
   "cell_type": "markdown",
   "metadata": {
    "heading_collapsed": true
   },
   "source": [
    "### 参考：決定境界（分割境界）の可視化"
   ]
  },
  {
   "cell_type": "code",
   "execution_count": null,
   "metadata": {
    "hidden": true,
    "scrolled": true
   },
   "outputs": [],
   "source": [
    "### まずは、変数重要度1位、2位の変数で散布図を描画（目的変数で色分け）\n",
    "sns.scatterplot(x='Sex', y='Pclass', data=df, hue='Survived')\n",
    "\n",
    "# もしくは：1位、2位の変数の自動抽出\n",
    "# sns.scatterplot(x=features[indices[-1]], y=features[indices[-2]], data=df, hue='Survived')\n",
    "# df[-1]でdfの最終行、df[-2]でdfの最後から2行目"
   ]
  },
  {
   "cell_type": "code",
   "execution_count": null,
   "metadata": {
    "hidden": true
   },
   "outputs": [],
   "source": [
    "### 分割領域ごとに色を塗る関数 （決定境界の可視化）###\n",
    "# (参考：https://tropicbird.hatenablog.com/entry/2019/09/06/154841)\n",
    "    \n",
    "def visualize_classifier(X, y, ax=None, cmap='rainbow'):\n",
    "    ax=ax or plt.gca()\n",
    "\n",
    "    # 学習データをプロット\n",
    "    ax.scatter(X.iloc[:,0], X.iloc[:,1], c=y, s=10, cmap=cmap, clim=(y.min(),y.max()), zorder=3)\n",
    "    #ax.axis('tight')\n",
    "    #ax.axis('off')  # 軸ラベルやグリッド線を隠したい場合\n",
    "    xlim = ax.get_xlim()\n",
    "    ylim = ax.get_ylim()\n",
    "\n",
    "    # グラフの体裁\n",
    "    ax.set_xlabel(X.columns[0]) # X軸ラベル\n",
    "    ax.set_ylabel(X.columns[1]) # Y軸ラベル\n",
    "    ax.legend()                 # 凡例\n",
    "    \n",
    "    # 色を塗るためのメッシュデータ（説明変数）を準備\n",
    "    xx,yy = np.meshgrid(np.linspace(*xlim,num=200), np.linspace(*ylim,num=200))\n",
    "\n",
    "    # モデル構築\n",
    "    model_min = tree.DecisionTreeClassifier(max_depth=3, criterion = 'gini', random_state=0)  # インスタンス化（関数を使える状態にする）\n",
    "    model_min.fit(X, y)\n",
    "\n",
    "    # メッシュデータを入力した予測結果を出力\n",
    "    Z = model_min.predict( np.c_[xx.ravel(),yy.ravel()] ).reshape(xx.shape)\n",
    "\n",
    "    # 分割領域を色分けして表示\n",
    "    n_classes = len(np.unique(y))\n",
    "\n",
    "    contours = ax.contourf(xx,yy,Z,alpha=0.3,\n",
    "                        levels=np.arange(n_classes+1)-0.5,\n",
    "                        cmap=cmap, clim=(y.min(),y.max()),\n",
    "                        zorder=1)\n",
    "    ax.set(xlim=xlim, ylim=ylim)\n",
    "    "
   ]
  },
  {
   "cell_type": "code",
   "execution_count": null,
   "metadata": {
    "hidden": true
   },
   "outputs": [],
   "source": [
    "### 分割条件を色分け可視化\n",
    "visualize_classifier(X[ ['Sex', 'Pclass'] ], Y)"
   ]
  },
  {
   "cell_type": "markdown",
   "metadata": {},
   "source": [
    "# 演習4-3 非線形カーネルサポートベクターマシン"
   ]
  },
  {
   "cell_type": "markdown",
   "metadata": {},
   "source": [
    "## モデルの構築"
   ]
  },
  {
   "cell_type": "code",
   "execution_count": null,
   "metadata": {},
   "outputs": [],
   "source": [
    "# 非線形カーネルサポートベクターマシンによるクラス分類\n",
    "\n",
    "## モデルの構築# 非線形カーネルサポートベクタマシンのライブラリ読み込み\n",
    "from sklearn.svm import SVC  #scikit-learnパッケージ内の サポートベクタマシンモジュールより、\n",
    "                             #サポートベクタマシンクラス分類のクラス (Support Vector Classifier) を読み込み\n",
    "    \n",
    "### 説明変数・目的変数は決定木モデルと同一のため、コメントアウト ###\n",
    "# 説明変数のセット\n",
    "# X = df[ ['Pclass', 'Sex', 'Age', 'SibSp', 'Parch', 'Fare', 'Embarked'] ]\n",
    "\n",
    "# 目的変数のセット\n",
    "# Y = df['Survived']\n",
    "\n",
    "# サポートベクタマシンモデル構築\n",
    "model = SVC()    #インスタンス化（関数を使える状態にする）\n",
    "            #パラメータの説明：\n",
    "            # kernel: 非線形変換させるカーネル関数の指定 (kernel ='rbf' / 'linear' / 'poly' / 'sigmoid' / 'precomputed')\n",
    "            #         何も指定しなければ、デフォルト値の 'rbf'（放射基底関数: Radial Basis Function）\n",
    "            \n",
    "model.fit(X, Y)  # サポートベクタマシン実行"
   ]
  },
  {
   "cell_type": "markdown",
   "metadata": {},
   "source": [
    "## モデルの評価"
   ]
  },
  {
   "cell_type": "code",
   "execution_count": null,
   "metadata": {},
   "outputs": [],
   "source": [
    "# モデル予測値の出力\n",
    "Y_pred = model.predict(X)"
   ]
  },
  {
   "cell_type": "code",
   "execution_count": null,
   "metadata": {},
   "outputs": [],
   "source": [
    "## 混同行列、各種精度指標の可視化 ###\n",
    "\n",
    "#ライブラリ読込：モデル評価のためのライブラリ\n",
    "from sklearn.metrics import confusion_matrix, accuracy_score, precision_score, recall_score, f1_score\n",
    "\n",
    "#各種 精度指標の出力\n",
    "print('混同行列 (confusion matrix) = \\n', confusion_matrix(y_true= Y, y_pred= Y_pred, labels=[1,0]))\n",
    "print('正解率 (accuracy) = ', accuracy_score(y_true= Y, y_pred= Y_pred))\n",
    "print('適合率 (precision) = ', precision_score(y_true= Y, y_pred= Y_pred, pos_label=1))\n",
    "print('再現率 (recall) = ', recall_score(y_true= Y, y_pred= Y_pred, pos_label=1))\n",
    "print('F値 (f1 score) = ', f1_score(y_true= Y, y_pred= Y_pred, pos_label=1))\n"
   ]
  }
 ],
 "metadata": {
  "kernelspec": {
   "display_name": "Python 3 (ipykernel)",
   "language": "python",
   "name": "python3"
  },
  "language_info": {
   "codemirror_mode": {
    "name": "ipython",
    "version": 3
   },
   "file_extension": ".py",
   "mimetype": "text/x-python",
   "name": "python",
   "nbconvert_exporter": "python",
   "pygments_lexer": "ipython3",
   "version": "3.8.16"
  },
  "toc": {
   "base_numbering": 1,
   "nav_menu": {},
   "number_sections": true,
   "sideBar": true,
   "skip_h1_title": false,
   "title_cell": "Table of Contents",
   "title_sidebar": "Contents",
   "toc_cell": false,
   "toc_position": {},
   "toc_section_display": true,
   "toc_window_display": false
  },
  "varInspector": {
   "cols": {
    "lenName": 16,
    "lenType": 16,
    "lenVar": 40
   },
   "kernels_config": {
    "python": {
     "delete_cmd_postfix": "",
     "delete_cmd_prefix": "del ",
     "library": "var_list.py",
     "varRefreshCmd": "print(var_dic_list())"
    },
    "r": {
     "delete_cmd_postfix": ") ",
     "delete_cmd_prefix": "rm(",
     "library": "var_list.r",
     "varRefreshCmd": "cat(var_dic_list()) "
    }
   },
   "types_to_exclude": [
    "module",
    "function",
    "builtin_function_or_method",
    "instance",
    "_Feature"
   ],
   "window_display": false
  }
 },
 "nbformat": 4,
 "nbformat_minor": 4
}

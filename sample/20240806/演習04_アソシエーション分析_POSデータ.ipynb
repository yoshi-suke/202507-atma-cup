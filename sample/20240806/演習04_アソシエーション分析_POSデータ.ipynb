{
 "cells": [
  {
   "cell_type": "markdown",
   "metadata": {},
   "source": [
    "# 必要なパッケージ・データの読み込み"
   ]
  },
  {
   "cell_type": "markdown",
   "metadata": {},
   "source": [
    "## 準備：必要なパッケージの読込"
   ]
  },
  {
   "cell_type": "code",
   "execution_count": null,
   "metadata": {},
   "outputs": [],
   "source": [
    "### 必要なパッケージ（ライブラリ）の読み込み ###\n",
    "import pandas as pd             # データフレーム型変数を取り扱えるパッケージ\"pandas\"を読込み（以降\"pd\"と略記）\n",
    "import matplotlib.pyplot as plt # グラフ描画のパッケージ\"matplotlib\"を読込み（以降\"plt\"と略記）\n",
    "import seaborn as sns           # 上記matplotlibをベースにした高機能可視化モジュール\"saeborn\"を読込み（以降\"sns\"と略記）\n",
    "import numpy as np              # 数値演算のためのパッケージ\"numpy\"を読込み（以降\"np\"と略記）"
   ]
  },
  {
   "cell_type": "markdown",
   "metadata": {},
   "source": [
    "## データの理解（観察）"
   ]
  },
  {
   "cell_type": "markdown",
   "metadata": {},
   "source": [
    "### データ読込"
   ]
  },
  {
   "cell_type": "code",
   "execution_count": null,
   "metadata": {},
   "outputs": [],
   "source": [
    "### データの読み込み ###\n",
    "df = pd.read_excel('ファイル名入力（Tabキーによる文字補完を活用）')\n",
    "\n",
    "# 読み込むファイル名：演習04_POSデータ.xlsx\n",
    "# ※ \"演習03_\" まで入力し、TABキーで補完するのが効率的"
   ]
  },
  {
   "cell_type": "code",
   "execution_count": null,
   "metadata": {
    "scrolled": true
   },
   "outputs": [],
   "source": [
    "df  # 顧客ごと（0~4）に何を購入したかが列方向に格納（e.g. 0番の顧客は、パンと牛乳を同時購入）"
   ]
  },
  {
   "cell_type": "markdown",
   "metadata": {},
   "source": [
    "### グラフによる可視化"
   ]
  },
  {
   "cell_type": "code",
   "execution_count": null,
   "metadata": {},
   "outputs": [],
   "source": [
    "### ヒストグラムによる傾向確認 ###\n",
    "\n",
    "df.stack().hist()\n",
    "        # df.stack() で、複数列のデータを1列に集約（縦方向に連結）\n",
    "        # df.hist() で、簡易的なヒストグラム描画\n",
    "\n",
    "# 日本語文字化け対策\n",
    "plt.rcParams['font.sans-serif'] = ['Hiragino Maru Gothic Pro', 'Yu Gothic', 'Meirio', 'Takao',\n",
    "                                   'IPAexGothic', 'IPAPGothic', 'VL PGothic', 'Noto Sans CJK JP']\n",
    "# グラフ描画\n",
    "plt.show()"
   ]
  },
  {
   "cell_type": "markdown",
   "metadata": {},
   "source": [
    "### 参考：描画設定\n",
    "※重なりなどの描画崩れや、文字化けなど、描画がうまくいかない場合"
   ]
  },
  {
   "cell_type": "code",
   "execution_count": null,
   "metadata": {},
   "outputs": [],
   "source": [
    "### 以下、描画の細かいデザイン設定 ###\n",
    "\n",
    "# 出力されるグラフ画像の解像度を上げる\n",
    "%config InlineBackend.figure_formats = {'png', 'retina'}\n",
    "\n",
    "# グラフのサイズ指定\n",
    "# plt.rcParams['figure.figsize'] = 10, 5\n",
    "\n",
    "# 文字化け対策にフォント指定（Win/Macなどの環境に依らず、横断的に設定）\n",
    "plt.rcParams['font.sans-serif'] = ['Hiragino Maru Gothic Pro', 'Yu Gothic', 'Meirio', 'Takao',\n",
    "                                   'IPAexGothic', 'IPAPGothic', 'VL PGothic', 'Noto Sans CJK JP']\n",
    "\n",
    "# フォントサイズ一括指定\n",
    "# plt.rcParams['font.size'] = 14"
   ]
  },
  {
   "cell_type": "markdown",
   "metadata": {},
   "source": [
    "## 参考：Anaconda Promptでのアソシエーション分析パッケージインストール\n",
    "※インストール済みの方は対応不要"
   ]
  },
  {
   "cell_type": "code",
   "execution_count": null,
   "metadata": {},
   "outputs": [],
   "source": [
    "### Anaconda Promptでのアソシエーション分析パッケージ \"mlxtend\" インストール ###\n",
    "# （※Macの場合はターミナル上からでOK）\n",
    "\n",
    "# 下記コマンドをコピペして使用\n",
    "# conda install -c conda-forge mlxtend\n",
    "\n",
    "# ※どうしても上記でエラーが出てうまくいかない場合は、 pip install mlxtend を用いる\n",
    "#.  ただし、conda install と pip install は相性が悪い部分もあり、公式でも非推奨"
   ]
  },
  {
   "cell_type": "markdown",
   "metadata": {},
   "source": [
    "## データの準備（加工）"
   ]
  },
  {
   "cell_type": "markdown",
   "metadata": {
    "heading_collapsed": true
   },
   "source": [
    "### 欠損値処理"
   ]
  },
  {
   "cell_type": "markdown",
   "metadata": {
    "heading_collapsed": true,
    "hidden": true
   },
   "source": [
    "#### 欠損値の確認"
   ]
  },
  {
   "cell_type": "code",
   "execution_count": null,
   "metadata": {
    "hidden": true
   },
   "outputs": [],
   "source": [
    "### 欠損値の確認 ###\n",
    "df.isnull().sum()"
   ]
  },
  {
   "cell_type": "markdown",
   "metadata": {
    "heading_collapsed": true,
    "hidden": true
   },
   "source": [
    "#### 欠損値の補完"
   ]
  },
  {
   "cell_type": "code",
   "execution_count": null,
   "metadata": {
    "hidden": true
   },
   "outputs": [],
   "source": [
    "# 特になし"
   ]
  },
  {
   "cell_type": "markdown",
   "metadata": {
    "heading_collapsed": true,
    "hidden": true
   },
   "source": [
    "#### 欠損値の再確認"
   ]
  },
  {
   "cell_type": "code",
   "execution_count": null,
   "metadata": {
    "hidden": true
   },
   "outputs": [],
   "source": [
    "# 特になし"
   ]
  },
  {
   "cell_type": "markdown",
   "metadata": {},
   "source": [
    "### One-Hotベクトル表現への変換"
   ]
  },
  {
   "cell_type": "code",
   "execution_count": null,
   "metadata": {},
   "outputs": [],
   "source": [
    "### アソシエーション分析の入力データフォーマットである \"One-Hotベクトル\"表記※ に変換\n",
    "# ※行方向に顧客、列方向にアイテム、各セルには出現頻度が格納\n",
    "# （変換プロセスは後述を参照）\n",
    "\n",
    "df_onehot = df.stack().str.get_dummies().groupby(level=0).sum()\n",
    "display(df_onehot)"
   ]
  },
  {
   "cell_type": "markdown",
   "metadata": {
    "heading_collapsed": true,
    "jp-MarkdownHeadingCollapsed": true
   },
   "source": [
    "### （参考）One-Hotベクトルへの変換プロセス確認"
   ]
  },
  {
   "cell_type": "markdown",
   "metadata": {
    "hidden": true
   },
   "source": [
    "#### データの「縦持ち」"
   ]
  },
  {
   "cell_type": "code",
   "execution_count": null,
   "metadata": {
    "hidden": true
   },
   "outputs": [],
   "source": [
    "### dfのデータを列ごとに切り出して、縦方向に連結（1列に集約） ###\n",
    "df.stack()"
   ]
  },
  {
   "cell_type": "markdown",
   "metadata": {
    "hidden": true
   },
   "source": [
    "#### 頻度集計"
   ]
  },
  {
   "cell_type": "code",
   "execution_count": null,
   "metadata": {
    "hidden": true
   },
   "outputs": [],
   "source": [
    "### 集約列に含まれる各要素（単語）をカラム名として抽出し、###\n",
    "### 各要素の出現頻度をマトリックス形式で集計              ###\n",
    "df.stack().str.get_dummies()"
   ]
  },
  {
   "cell_type": "markdown",
   "metadata": {
    "hidden": true
   },
   "source": [
    "#### One-Hotベクトル表現"
   ]
  },
  {
   "cell_type": "code",
   "execution_count": null,
   "metadata": {
    "hidden": true
   },
   "outputs": [],
   "source": [
    "df"
   ]
  },
  {
   "cell_type": "code",
   "execution_count": null,
   "metadata": {
    "hidden": true
   },
   "outputs": [],
   "source": [
    "### 顧客ごと（元の1レコードごと）に頻度集計をとる ###\n",
    "df.stack().str.get_dummies().groupby(level=0).sum()\n",
    "# groupby()は集計関数\n",
    "# オプション level=0 で、複数のインデックスのうち一番外側のインデックスラベルを用いて集計\n",
    "# sum()でその合計を取得"
   ]
  },
  {
   "cell_type": "markdown",
   "metadata": {},
   "source": [
    "## モデルの構築"
   ]
  },
  {
   "cell_type": "markdown",
   "metadata": {},
   "source": [
    "### 必要なパッケージなどのインポート"
   ]
  },
  {
   "cell_type": "code",
   "execution_count": null,
   "metadata": {},
   "outputs": [],
   "source": [
    "### アソシエーション分析に必要なaprioriクラスをインポート ### \n",
    "from mlxtend.frequent_patterns import apriori"
   ]
  },
  {
   "cell_type": "markdown",
   "metadata": {},
   "source": [
    "### モデル構築"
   ]
  },
  {
   "cell_type": "code",
   "execution_count": null,
   "metadata": {
    "scrolled": true
   },
   "outputs": [],
   "source": [
    "### アソシエーション分析モデル構築（アプリオリ実行）###\n",
    "frequent_itemsets = apriori( df_onehot, min_support=0.4, use_colnames=True )\n",
    "\n",
    "                        # df_oneohot: 入力データ（one-hotベクトル形式で与える必要あり）\n",
    "                        # min_support=0.4: 最小の支持度（全体の中での同時購入率）を0.4として設定（出力されるルールが多すぎてしまうため）\n",
    "                        # use_colnames=True: 出力結果に、番号ではなく実際のカラム名（製品名）を出力する"
   ]
  },
  {
   "cell_type": "markdown",
   "metadata": {},
   "source": [
    "### 結果出力"
   ]
  },
  {
   "cell_type": "code",
   "execution_count": null,
   "metadata": {
    "scrolled": true
   },
   "outputs": [],
   "source": [
    "### 指定した支持度以上の商品組み合わせを出力 ###\n",
    "display ( frequent_itemsets )"
   ]
  },
  {
   "cell_type": "code",
   "execution_count": null,
   "metadata": {},
   "outputs": [],
   "source": [
    "### 支持度の大きい順に並び替え（ソート） ###\n",
    "display ( frequent_itemsets.sort_values(['support'], ascending=False) )"
   ]
  },
  {
   "cell_type": "markdown",
   "metadata": {},
   "source": [
    "## モデルの評価"
   ]
  },
  {
   "cell_type": "markdown",
   "metadata": {},
   "source": [
    "### 各ルールの信頼度・リフト値出力"
   ]
  },
  {
   "cell_type": "markdown",
   "metadata": {},
   "source": [
    "#### 確信度（Confidence）上位ランキング"
   ]
  },
  {
   "cell_type": "code",
   "execution_count": null,
   "metadata": {
    "scrolled": true
   },
   "outputs": [],
   "source": [
    "### 各ルールの信頼度/リフト値算出に必要なaprioriassociation_rulesクラスをインポート ### \n",
    "from mlxtend.frequent_patterns import association_rules\n",
    "\n",
    "rules1 = association_rules(frequent_itemsets, metric='confidence', min_threshold=0.7)\n",
    "                        # frequent_itemsets: 入力データ（アプリオリにより抽出された最小支持度以上の商品組み合わせ）\n",
    "                        # metric=\"confidence\": 出力の閾値を設定する指標\n",
    "                        # min_threshold=0.7:   閾値"
   ]
  },
  {
   "cell_type": "code",
   "execution_count": null,
   "metadata": {
    "scrolled": true
   },
   "outputs": [],
   "source": [
    "### 抽出されたルールの出力 ###\n",
    "display( rules1.sort_values(['confidence'], ascending=False) )"
   ]
  },
  {
   "cell_type": "markdown",
   "metadata": {},
   "source": [
    "#### リフト値上位ランキング"
   ]
  },
  {
   "cell_type": "code",
   "execution_count": null,
   "metadata": {
    "scrolled": true
   },
   "outputs": [],
   "source": [
    "rules2 = association_rules(frequent_itemsets, metric='lift', min_threshold=1.0)\n",
    "                        # frequent_itemsets: 入力データ（アプリオリにより抽出された最小支持度以上の商品組み合わせ）\n",
    "                        # metric=\"lift\":     出力の閾値を設定する指標\n",
    "                        # min_threshold=0.7: 閾値\n",
    "display( rules2.sort_values(['lift'], ascending=False) )"
   ]
  },
  {
   "cell_type": "code",
   "execution_count": null,
   "metadata": {
    "scrolled": true
   },
   "outputs": [],
   "source": [
    "## モデルの評価\n",
    "\n",
    "### 各ルールの信頼度・リフト値出力\n",
    "\n",
    "#### 確信度（Confidence）上位ランキング\n",
    "\n",
    "### 各ルールの信頼度/リフト値算出に必要なaprioriassociation_rulesクラスをインポート ### \n",
    "from mlxtend.frequent_patterns import association_rules\n",
    "\n",
    "rules1 = association_rules(frequent_itemsets, metric='confidence', min_threshold=0.7)\n",
    "                        # frequent_itemsets: 入力データ（アプリオリにより抽出された最小支持度以上の商品組み合わせ）\n",
    "                        # metric=\"confidence\": 出力の閾値を設定する指標\n",
    "                        # min_threshold=0.7:   閾値\n",
    "\n",
    "### 抽出されたルールの出力 ###\n",
    "display( rules1.sort_values(['confidence'], ascending=False) )\n",
    "\n",
    "#### リフト値上位ランキング\n",
    "\n",
    "rules2 = association_rules(frequent_itemsets, metric='lift', min_threshold=1.0)\n",
    "                        # frequent_itemsets: 入力データ（アプリオリにより抽出された最小支持度以上の商品組み合わせ）\n",
    "                        # metric=\"lift\":     出力の閾値を設定する指標\n",
    "                        # min_threshold=0.7: 閾値\n",
    "display( rules2.sort_values(['lift'], ascending=False) )"
   ]
  }
 ],
 "metadata": {
  "kernelspec": {
   "display_name": "Python 3 (ipykernel)",
   "language": "python",
   "name": "python3"
  },
  "language_info": {
   "codemirror_mode": {
    "name": "ipython",
    "version": 3
   },
   "file_extension": ".py",
   "mimetype": "text/x-python",
   "name": "python",
   "nbconvert_exporter": "python",
   "pygments_lexer": "ipython3",
   "version": "3.8.16"
  },
  "toc": {
   "base_numbering": 1,
   "nav_menu": {},
   "number_sections": true,
   "sideBar": true,
   "skip_h1_title": false,
   "title_cell": "Table of Contents",
   "title_sidebar": "Contents",
   "toc_cell": false,
   "toc_position": {},
   "toc_section_display": true,
   "toc_window_display": false
  }
 },
 "nbformat": 4,
 "nbformat_minor": 4
}

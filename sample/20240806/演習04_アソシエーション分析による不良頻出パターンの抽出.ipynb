{
 "cells": [
  {
   "cell_type": "markdown",
   "metadata": {},
   "source": [
    "# データ・パッケージの読込"
   ]
  },
  {
   "cell_type": "markdown",
   "metadata": {},
   "source": [
    "## パッケージ読み込み"
   ]
  },
  {
   "cell_type": "code",
   "execution_count": null,
   "metadata": {},
   "outputs": [],
   "source": [
    "### 必要なパッケージ（ライブラリ）の読み込み ###\n",
    "import pandas as pd             # データフレーム型変数を取り扱えるパッケージ\"pandas\"を読込み（以降\"pd\"と略記）\n",
    "import matplotlib.pyplot as plt # グラフ描画のパッケージ\"matplotlib\"を読込み（以降\"plt\"と略記）\n",
    "import seaborn as sns           # 上記matplotlibをベースにした高機能可視化モジュール\"saeborn\"を読込み（以降\"sns\"と略記）\n",
    "import numpy as np              # 数値演算のためのパッケージ\"numpy\"を読込み（以降\"np\"と略記）"
   ]
  },
  {
   "cell_type": "markdown",
   "metadata": {},
   "source": [
    "## 参考：描画設定\n",
    "※重なりなどの描画崩れや、文字化けなど、描画がうまくいかない場合"
   ]
  },
  {
   "cell_type": "code",
   "execution_count": null,
   "metadata": {},
   "outputs": [],
   "source": [
    "### 以下、描画の細かいデザイン設定 ###\n",
    "\n",
    "# 出力されるグラフ画像の解像度を上げる\n",
    "%config InlineBackend.figure_formats = {'png', 'retina'}\n",
    "\n",
    "# グラフのサイズ指定\n",
    "# plt.rcParams['figure.figsize'] = 10, 5\n",
    "\n",
    "# 文字化け対策にフォント指定（Win/Macなどの環境に依らず、横断的に設定）\n",
    "plt.rcParams['font.sans-serif'] = ['Hiragino Maru Gothic Pro', 'Yu Gothic', 'Meirio', 'Takao',\n",
    "                                   'IPAexGothic', 'IPAPGothic', 'VL PGothic', 'Noto Sans CJK JP']\n",
    "\n",
    "# フォントサイズ一括指定\n",
    "# plt.rcParams['font.size'] = 14"
   ]
  },
  {
   "cell_type": "markdown",
   "metadata": {},
   "source": [
    "## データ読込"
   ]
  },
  {
   "cell_type": "code",
   "execution_count": null,
   "metadata": {
    "scrolled": true
   },
   "outputs": [],
   "source": [
    "# 不良種別ごとの発生状況データを読み込み\n",
    "df = #各自入力"
   ]
  },
  {
   "cell_type": "markdown",
   "metadata": {},
   "source": [
    "# データの理解（観察）"
   ]
  },
  {
   "cell_type": "markdown",
   "metadata": {},
   "source": [
    "## データ概観把握"
   ]
  },
  {
   "cell_type": "code",
   "execution_count": null,
   "metadata": {
    "scrolled": true
   },
   "outputs": [],
   "source": [
    "### 要約統計量 ###\n",
    "#各自入力"
   ]
  },
  {
   "cell_type": "code",
   "execution_count": null,
   "metadata": {},
   "outputs": [],
   "source": [
    "### 欠測値確認 ###\n",
    "#各自入力"
   ]
  },
  {
   "cell_type": "markdown",
   "metadata": {},
   "source": [
    "## データ可視化（グラフ）"
   ]
  },
  {
   "cell_type": "markdown",
   "metadata": {},
   "source": [
    "### ヒストグラム"
   ]
  },
  {
   "cell_type": "code",
   "execution_count": null,
   "metadata": {},
   "outputs": [],
   "source": [
    "#各自入力"
   ]
  },
  {
   "cell_type": "markdown",
   "metadata": {},
   "source": [
    "### 箱ひげ図"
   ]
  },
  {
   "cell_type": "code",
   "execution_count": null,
   "metadata": {},
   "outputs": [],
   "source": [
    "#各自入力\n",
    "df.boxplot()"
   ]
  },
  {
   "cell_type": "markdown",
   "metadata": {},
   "source": [
    "### 散布図"
   ]
  },
  {
   "cell_type": "code",
   "execution_count": null,
   "metadata": {},
   "outputs": [],
   "source": [
    "#各自入力"
   ]
  },
  {
   "cell_type": "markdown",
   "metadata": {},
   "source": [
    "### 散布図行列"
   ]
  },
  {
   "cell_type": "code",
   "execution_count": null,
   "metadata": {},
   "outputs": [],
   "source": [
    "# 通常の散布図行列\n",
    "#各自入力"
   ]
  },
  {
   "cell_type": "code",
   "execution_count": null,
   "metadata": {},
   "outputs": [],
   "source": [
    "# 散布図行列（天候で色分け）\n",
    "#各自入力"
   ]
  },
  {
   "cell_type": "markdown",
   "metadata": {},
   "source": [
    "### 棒グラフ"
   ]
  },
  {
   "cell_type": "code",
   "execution_count": null,
   "metadata": {},
   "outputs": [],
   "source": [
    "# 棒グラフ\n",
    "\n",
    "# グラフのサイズ指定\n",
    "plt.rcParams['figure.figsize'] = 15, 5\n",
    "\n",
    "# グラフ描画\n",
    "df.plot.bar(x='日付')"
   ]
  },
  {
   "cell_type": "code",
   "execution_count": null,
   "metadata": {},
   "outputs": [],
   "source": [
    "# 積み上げ棒グラフ\n",
    "df.plot.bar(x='日付', stacked=True)"
   ]
  },
  {
   "cell_type": "markdown",
   "metadata": {},
   "source": [
    "### 面グラフ"
   ]
  },
  {
   "cell_type": "code",
   "execution_count": null,
   "metadata": {},
   "outputs": [],
   "source": [
    "# 面グラフ\n",
    "df.plot.area(x='日付')\n",
    "\n",
    "# 凡例の位置が邪魔なので、グラフ外側に表示\n",
    "plt.legend(bbox_to_anchor=(1.05, 1), loc='upper left', borderaxespad=0, fontsize=14)"
   ]
  },
  {
   "cell_type": "markdown",
   "metadata": {},
   "source": [
    "### 相関行列"
   ]
  },
  {
   "cell_type": "code",
   "execution_count": null,
   "metadata": {},
   "outputs": [],
   "source": [
    "### 相関行列による変数間の関係性確認 ###\n",
    "#各自入力\n",
    "\n",
    "# pandasのv2.0.0以降、数値以外のデータが入っているとエラーになるため、\n",
    "# 数値以外を含む場合、数値データのみに絞り込むオプション numeric_only=True を指定する\n",
    "# （今回のデータは数値のみなので、オプション無しでもエラーなく実行できる）"
   ]
  },
  {
   "cell_type": "code",
   "execution_count": null,
   "metadata": {},
   "outputs": [],
   "source": [
    "### 相関行列のお化粧（ヒートマップ） ###\n",
    "\n",
    "# 描画の設定\n",
    "colormap = plt.cm.RdBu_r                #カラーマップの設定 (RdBu:赤〜青 ⇔ RdBu_r:青〜赤)\n",
    "plt.rcParams['figure.figsize'] = 10, 5  # Figureサイズの指定\n",
    "\n",
    "# 相関行列の算出\n",
    "corr = df.corr() #数値以外も含まれている場合には、numeric_only=True を引数に指定\n",
    "\n",
    "# ヒートマップの描画\n",
    "sns.heatmap(corr,linewidths=0.1, linecolor='white', #相関行列df.corr()を引数としヒートマップ作成\t\n",
    "            vmax=1.0, vmin=-1.0, cmap=colormap,     #最大値、最小値、カラーマップの指定 \n",
    "            annot=True, fmt='.2f',                  #各セル内に表示する数値の設定\n",
    "            # mask=np.triu(corr) #相関行列の右上半分を隠したい場合はこのコメントを解除\n",
    "           )\n",
    "\n",
    "            # linewidths/linecolor: 格子線の太さ/色\n",
    "            # cmap:                 カラーマップの指定\n",
    "            # vmax/vmin:            最大値/最小値\n",
    "            # annot:                各要素への数値表示\n",
    "            # annot_kws={'fontsize':8}: 各要素内に表示する数値の文字サイズを指定\n",
    "            # fmt='.2f':            各要素内に表示する数値の小数点桁数を指定（'.2f'で小数第二位まで）\n",
    "            # mask:                 可視化から除外する対象\n"
   ]
  },
  {
   "cell_type": "markdown",
   "metadata": {},
   "source": [
    "## データの準備（加工）"
   ]
  },
  {
   "cell_type": "markdown",
   "metadata": {},
   "source": [
    "### 欠損値処理\n",
    "※今回は不要"
   ]
  },
  {
   "cell_type": "markdown",
   "metadata": {},
   "source": [
    "### One-Hotベクトル表現への変換"
   ]
  },
  {
   "cell_type": "code",
   "execution_count": null,
   "metadata": {
    "scrolled": true
   },
   "outputs": [],
   "source": [
    "df"
   ]
  },
  {
   "cell_type": "code",
   "execution_count": null,
   "metadata": {},
   "outputs": [],
   "source": [
    "# 2以上は全て \"1\" に変換\n",
    "df.loc[:,'塗装不良':'バリ'] = np.where(df.loc[:,'塗装不良':'バリ']>=1, 1, 0)"
   ]
  },
  {
   "cell_type": "code",
   "execution_count": null,
   "metadata": {
    "scrolled": true
   },
   "outputs": [],
   "source": [
    "# 「天候」列もone-hot形式に変換\n",
    "df_onehot = pd.get_dummies(df, columns=['天候'])\n",
    "\n",
    "# 「日付」列は除外\n",
    "df_onehot = df_onehot.drop(columns=['日付'])\n",
    "\n",
    "df_onehot"
   ]
  },
  {
   "cell_type": "markdown",
   "metadata": {},
   "source": [
    "## モデルの構築"
   ]
  },
  {
   "cell_type": "markdown",
   "metadata": {},
   "source": [
    "### 必要なパッケージなどのインポート"
   ]
  },
  {
   "cell_type": "code",
   "execution_count": null,
   "metadata": {},
   "outputs": [],
   "source": [
    "### アソシエーション分析に必要なaprioriクラスをインポート ### \n",
    "from mlxtend.frequent_patterns import apriori"
   ]
  },
  {
   "cell_type": "markdown",
   "metadata": {},
   "source": [
    "### モデル構築"
   ]
  },
  {
   "cell_type": "code",
   "execution_count": null,
   "metadata": {
    "scrolled": true
   },
   "outputs": [],
   "source": [
    "### アソシエーション分析モデル構築（アプリオリ実行）###\n",
    "frequent_itemsets = apriori( df_onehot, min_support=0.1, use_colnames=True )\n",
    "\n",
    "                        # df_oneohot: 入力データ（one-hotベクトル形式で与える必要あり）\n",
    "                        # min_support=0.4: 最小の支持度（全体の中での同時購入率）を0.4として設定（出力されるルールが多すぎてしまうため）\n",
    "                        # use_colnames=True: 出力結果に、番号ではなく実際のカラム名（製品名）を出力する"
   ]
  },
  {
   "cell_type": "markdown",
   "metadata": {},
   "source": [
    "### 結果出力"
   ]
  },
  {
   "cell_type": "code",
   "execution_count": null,
   "metadata": {
    "scrolled": true
   },
   "outputs": [],
   "source": [
    "### 指定した支持度以上の商品組み合わせを出力 ###\n",
    "display ( frequent_itemsets )"
   ]
  },
  {
   "cell_type": "code",
   "execution_count": null,
   "metadata": {
    "scrolled": true
   },
   "outputs": [],
   "source": [
    "### 支持度の大きい順に並び替え（ソート） ###\n",
    "display ( frequent_itemsets.sort_values(['support'], ascending=False) )"
   ]
  },
  {
   "cell_type": "markdown",
   "metadata": {},
   "source": [
    "## モデルの評価"
   ]
  },
  {
   "cell_type": "markdown",
   "metadata": {},
   "source": [
    "### 各ルールの信頼度・リフト値出力"
   ]
  },
  {
   "cell_type": "markdown",
   "metadata": {},
   "source": [
    "#### 確信度（Confidence）上位ランキング"
   ]
  },
  {
   "cell_type": "code",
   "execution_count": null,
   "metadata": {
    "scrolled": true
   },
   "outputs": [],
   "source": [
    "### 各ルールの信頼度/リフト値算出に必要なaprioriassociation_rulesクラスをインポート ### \n",
    "from mlxtend.frequent_patterns import association_rules\n",
    "\n",
    "rules1 = association_rules(frequent_itemsets, metric='confidence', min_threshold=0.3)\n",
    "                        # frequent_itemsets: 入力データ（アプリオリにより抽出された最小支持度以上の商品組み合わせ）\n",
    "                        # metric=\"confidence\": 出力の閾値を設定する指標\n",
    "                        # min_threshold=0.7:   閾値"
   ]
  },
  {
   "cell_type": "code",
   "execution_count": null,
   "metadata": {},
   "outputs": [],
   "source": [
    "### 抽出されたルールの出力 ###\n",
    "display( rules1.sort_values(['confidence'], ascending=False) )"
   ]
  },
  {
   "cell_type": "markdown",
   "metadata": {},
   "source": [
    "#### リフト値上位ランキング"
   ]
  },
  {
   "cell_type": "code",
   "execution_count": null,
   "metadata": {
    "scrolled": true
   },
   "outputs": [],
   "source": [
    "rules2 = association_rules(frequent_itemsets, metric='lift', min_threshold=1.1)\n",
    "                        # frequent_itemsets: 入力データ（アプリオリにより抽出された最小支持度以上の商品組み合わせ）\n",
    "                        # metric=\"lift\":     出力の閾値を設定する指標\n",
    "                        # min_threshold=0.7: 閾値\n",
    "display( rules2.sort_values(['lift'], ascending=False).head(50) )"
   ]
  },
  {
   "cell_type": "code",
   "execution_count": null,
   "metadata": {},
   "outputs": [],
   "source": []
  }
 ],
 "metadata": {
  "kernelspec": {
   "display_name": "Python 3 (ipykernel)",
   "language": "python",
   "name": "python3"
  },
  "language_info": {
   "codemirror_mode": {
    "name": "ipython",
    "version": 3
   },
   "file_extension": ".py",
   "mimetype": "text/x-python",
   "name": "python",
   "nbconvert_exporter": "python",
   "pygments_lexer": "ipython3",
   "version": "3.8.16"
  },
  "toc": {
   "base_numbering": 1,
   "nav_menu": {},
   "number_sections": true,
   "sideBar": true,
   "skip_h1_title": false,
   "title_cell": "Table of Contents",
   "title_sidebar": "Contents",
   "toc_cell": false,
   "toc_position": {},
   "toc_section_display": true,
   "toc_window_display": false
  },
  "varInspector": {
   "cols": {
    "lenName": 16,
    "lenType": 16,
    "lenVar": 40
   },
   "kernels_config": {
    "python": {
     "delete_cmd_postfix": "",
     "delete_cmd_prefix": "del ",
     "library": "var_list.py",
     "varRefreshCmd": "print(var_dic_list())"
    },
    "r": {
     "delete_cmd_postfix": ") ",
     "delete_cmd_prefix": "rm(",
     "library": "var_list.r",
     "varRefreshCmd": "cat(var_dic_list()) "
    }
   },
   "types_to_exclude": [
    "module",
    "function",
    "builtin_function_or_method",
    "instance",
    "_Feature"
   ],
   "window_display": false
  }
 },
 "nbformat": 4,
 "nbformat_minor": 4
}

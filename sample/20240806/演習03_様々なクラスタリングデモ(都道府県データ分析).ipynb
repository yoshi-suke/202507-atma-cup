{
 "cells": [
  {
   "cell_type": "markdown",
   "metadata": {},
   "source": [
    "# データ・パッケージの読込"
   ]
  },
  {
   "cell_type": "markdown",
   "metadata": {},
   "source": [
    "## パッケージ読み込み"
   ]
  },
  {
   "cell_type": "code",
   "execution_count": null,
   "metadata": {},
   "outputs": [],
   "source": [
    "### 必要なパッケージ（ライブラリ）の読み込み ###\n",
    "import pandas as pd             # データフレーム型変数を取り扱えるパッケージ\"pandas\"を読込み（以降\"pd\"と略記）\n",
    "import matplotlib.pyplot as plt # グラフ描画のパッケージ\"matplotlib\"を読込み（以降\"plt\"と略記）\n",
    "import seaborn as sns           # 上記matplotlibをベースにした高機能可視化モジュール\"saeborn\"を読込み（以降\"sns\"と略記）\n",
    "import numpy as np              # 数値演算のためのパッケージ\"numpy\"を読込み（以降\"np\"と略記）"
   ]
  },
  {
   "cell_type": "markdown",
   "metadata": {},
   "source": [
    "## 参考：描画設定\n",
    "※重なりなどの描画崩れや、文字化けなど、描画がうまくいかない場合"
   ]
  },
  {
   "cell_type": "code",
   "execution_count": null,
   "metadata": {},
   "outputs": [],
   "source": [
    "### 以下、描画の細かいデザイン設定 ###\n",
    "\n",
    "# 出力されるグラフ画像の解像度を上げる\n",
    "%config InlineBackend.figure_formats = {'png', 'retina'}\n",
    "\n",
    "# グラフのサイズ指定\n",
    "# plt.rcParams['figure.figsize'] = 10, 5\n",
    "\n",
    "# 文字化け対策にフォント指定（Win/Macなどの環境に依らず、横断的に設定）\n",
    "plt.rcParams['font.sans-serif'] = ['Hiragino Maru Gothic Pro', 'Yu Gothic', 'Meirio', 'Takao',\n",
    "                                   'IPAexGothic', 'IPAPGothic', 'VL PGothic', 'Noto Sans CJK JP']\n",
    "\n",
    "# フォントサイズ一括指定\n",
    "# plt.rcParams['font.size'] = 14"
   ]
  },
  {
   "cell_type": "markdown",
   "metadata": {},
   "source": [
    "## データ読み込み"
   ]
  },
  {
   "cell_type": "code",
   "execution_count": null,
   "metadata": {
    "ExecuteTime": {
     "end_time": "2019-12-17T07:05:38.292433Z",
     "start_time": "2019-12-17T07:05:38.241933Z"
    }
   },
   "outputs": [],
   "source": [
    "# データの読み込み\n",
    "# 演習03_都道府県住民データ(2013年).xlsx\n",
    "df = #各自入力"
   ]
  },
  {
   "cell_type": "code",
   "execution_count": null,
   "metadata": {},
   "outputs": [],
   "source": [
    "df"
   ]
  },
  {
   "cell_type": "markdown",
   "metadata": {},
   "source": [
    "## データの理解（観察）"
   ]
  },
  {
   "cell_type": "markdown",
   "metadata": {},
   "source": [
    "### 欠損値の確認"
   ]
  },
  {
   "cell_type": "code",
   "execution_count": null,
   "metadata": {
    "ExecuteTime": {
     "end_time": "2019-12-17T04:23:50.820306Z",
     "start_time": "2019-12-17T04:23:50.814127Z"
    }
   },
   "outputs": [],
   "source": [
    "### 欠損値の確認 ###\n",
    "df.isnull().sum()"
   ]
  },
  {
   "cell_type": "markdown",
   "metadata": {},
   "source": [
    "### 散布図行列"
   ]
  },
  {
   "cell_type": "code",
   "execution_count": null,
   "metadata": {
    "ExecuteTime": {
     "end_time": "2019-12-17T04:23:21.671147Z",
     "start_time": "2019-12-17T04:23:16.352804Z"
    },
    "scrolled": true
   },
   "outputs": [],
   "source": [
    "# 散布図行列による傾向確認\n",
    "sns.pairplot(df) \n",
    "#sns.set(font='Yu Mincho') #日本語表示うまくいかない場合の予備"
   ]
  },
  {
   "cell_type": "markdown",
   "metadata": {},
   "source": [
    "### 相関行列の確認"
   ]
  },
  {
   "cell_type": "code",
   "execution_count": null,
   "metadata": {
    "ExecuteTime": {
     "end_time": "2019-12-17T04:24:08.391098Z",
     "start_time": "2019-12-17T04:24:08.379019Z"
    }
   },
   "outputs": [],
   "source": [
    "### 相関行列による変数間の関係性確認 ###\n",
    "df.corr(numeric_only=True)  # 相関行列の算出"
   ]
  },
  {
   "cell_type": "code",
   "execution_count": null,
   "metadata": {
    "ExecuteTime": {
     "end_time": "2019-12-17T04:24:10.683396Z",
     "start_time": "2019-12-17T04:24:10.350079Z"
    }
   },
   "outputs": [],
   "source": [
    "### 相関行列のお化粧（ヒートマップ） ###\n",
    "\n",
    "# 描画の設定\n",
    "colormap = plt.cm.RdBu_r                #カラーマップの設定 (RdBu:赤〜青 ⇔ RdBu_r:青〜赤)\n",
    "plt.rcParams['figure.figsize'] = 10, 5  # Figureサイズの指定\n",
    "\n",
    "# 相関行列の算出\n",
    "corr = df.corr() #数値以外も含まれている場合には、numeric_only=True を引数に指定\n",
    "\n",
    "# ヒートマップの描画\n",
    "sns.heatmap(corr,linewidths=0.1, linecolor='white', #相関行列df.corr()を引数としヒートマップ作成\t\n",
    "            vmax=1.0, vmin=-1.0, cmap=colormap,     #最大値、最小値、カラーマップの指定 \n",
    "            annot=True, fmt='.2f',                  #各セル内に表示する数値の設定\n",
    "            # mask=np.triu(corr) #相関行列の右上半分を隠したい場合はこのコメントを解除\n",
    "           )\n",
    "\n",
    "            # linewidths/linecolor: 格子線の太さ/色\n",
    "            # cmap:                 カラーマップの指定\n",
    "            # vmax/vmin:            最大値/最小値\n",
    "            # annot:                各要素への数値表示\n",
    "            # annot_kws={'fontsize':8}: 各要素内に表示する数値の文字サイズを指定\n",
    "            # fmt='.2f':            各要素内に表示する数値の小数点桁数を指定（'.2f'で小数第二位まで）\n",
    "            # mask:                 可視化から除外する対象\n"
   ]
  },
  {
   "cell_type": "markdown",
   "metadata": {},
   "source": [
    "# k-means法 / k-means++法"
   ]
  },
  {
   "cell_type": "markdown",
   "metadata": {},
   "source": [
    "## モデルの構築"
   ]
  },
  {
   "cell_type": "markdown",
   "metadata": {},
   "source": [
    "### 説明変数のセット"
   ]
  },
  {
   "cell_type": "code",
   "execution_count": null,
   "metadata": {
    "ExecuteTime": {
     "end_time": "2019-12-17T06:45:50.581531Z",
     "start_time": "2019-12-17T06:45:50.575584Z"
    }
   },
   "outputs": [],
   "source": [
    "# 説明変数のセット\n",
    "X = df.drop(columns=['都道府県'])"
   ]
  },
  {
   "cell_type": "markdown",
   "metadata": {},
   "source": [
    "### データの標準化"
   ]
  },
  {
   "cell_type": "code",
   "execution_count": null,
   "metadata": {
    "ExecuteTime": {
     "end_time": "2019-12-17T06:45:59.998757Z",
     "start_time": "2019-12-17T06:45:59.995438Z"
    }
   },
   "outputs": [],
   "source": [
    "from sklearn import preprocessing      # 機械学習パッケージscikit-learnから、データ前処理モジュールの読込"
   ]
  },
  {
   "cell_type": "code",
   "execution_count": null,
   "metadata": {
    "ExecuteTime": {
     "end_time": "2019-12-17T06:47:09.397406Z",
     "start_time": "2019-12-17T06:47:09.392362Z"
    }
   },
   "outputs": [],
   "source": [
    "### 標準化 ###\n",
    "# 説明変数の標準化（Zスコア）\n",
    "X = preprocessing.scale(X)"
   ]
  },
  {
   "cell_type": "markdown",
   "metadata": {},
   "source": [
    "### k-meansクラスタリングモデルの構築"
   ]
  },
  {
   "cell_type": "code",
   "execution_count": null,
   "metadata": {
    "ExecuteTime": {
     "end_time": "2019-12-17T06:44:49.938287Z",
     "start_time": "2019-12-17T06:44:49.899094Z"
    }
   },
   "outputs": [],
   "source": [
    "from sklearn.cluster import KMeans # 機械学習パッケージに含まれたKMeansモジュール\"KMeans\"を読込\n",
    "\n",
    "# クラスタ数の設定\n",
    "n = 5\n",
    "\n",
    "# クラスタリング\n",
    "model = KMeans( n_clusters=n, random_state=0, init='k-means++')  #クラスタリングの実行準備\n",
    "                                                # オプションの説明：\n",
    "                                                #   n_clustersでクラスタ数指定\n",
    "                                                #   random_state=0でモデルの再現性を保持（乱数のシードを固定）\n",
    "                                                #   init='random'で初期値の置き方をランダムに。'k-means++'指定でk-means++法による最適な初期値配置\n",
    "model.fit(X) #Xを説明変数としてクラスタリング実行"
   ]
  },
  {
   "cell_type": "markdown",
   "metadata": {},
   "source": [
    "### 元データへのクラスタ番号紐付け"
   ]
  },
  {
   "cell_type": "code",
   "execution_count": null,
   "metadata": {
    "ExecuteTime": {
     "end_time": "2019-12-17T06:44:52.930434Z",
     "start_time": "2019-12-17T06:44:52.923813Z"
    }
   },
   "outputs": [],
   "source": [
    "### 元のdataframeにクラスタ番号を追加 ###\n",
    "df['cluster']=model.labels_"
   ]
  },
  {
   "cell_type": "code",
   "execution_count": null,
   "metadata": {
    "ExecuteTime": {
     "end_time": "2019-12-17T06:44:53.501144Z",
     "start_time": "2019-12-17T06:44:53.482188Z"
    },
    "scrolled": true
   },
   "outputs": [],
   "source": [
    "df #紐付け結果確認"
   ]
  },
  {
   "cell_type": "markdown",
   "metadata": {},
   "source": [
    "## モデルの評価"
   ]
  },
  {
   "cell_type": "markdown",
   "metadata": {},
   "source": [
    "### クラスタリング結果の可視化"
   ]
  },
  {
   "cell_type": "code",
   "execution_count": null,
   "metadata": {
    "ExecuteTime": {
     "end_time": "2019-12-17T05:52:33.572210Z",
     "start_time": "2019-12-17T05:52:22.894890Z"
    },
    "scrolled": true
   },
   "outputs": [],
   "source": [
    "### 散布図行列でクラスタごとに色分けして可視化 ###\n",
    "sns.pairplot( df, hue='cluster')"
   ]
  },
  {
   "cell_type": "markdown",
   "metadata": {},
   "source": [
    "### クラスタリング結果の可視化"
   ]
  },
  {
   "cell_type": "code",
   "execution_count": null,
   "metadata": {
    "ExecuteTime": {
     "end_time": "2019-12-17T06:45:07.398457Z",
     "start_time": "2019-12-17T06:45:06.836114Z"
    }
   },
   "outputs": [],
   "source": [
    "### 特定の2変数で、クラスタごとに色分けして可視化＋クラスタ重心の可視化 ###\n",
    "\n",
    "#  特定の2変数を選択\n",
    "dfx = df['世帯の年収']\n",
    "dfy = df['所要資金額']\n",
    "\n",
    "#　特定の2変数でクラスタごとに色分け可視化\n",
    "sns.scatterplot( dfx, dfy, hue=df['cluster'], palette=sns.color_palette(n_colors=n)  )\n",
    "    #hue: 色分け対象\n",
    "    #palette: 色パターン\n",
    "    #クラスタごとにマーカー形状も変えたい場合は、style=df['cluster'] をオプションに加える\n",
    "\n",
    "# # クラスタ重心 (mode.cluster_centers_) の可視化 ※model.cluster_centers_[:,0]で0番目の説明変数の重心座標\n",
    "# sns.scatterplot( model.cluster_centers_[:,1], model.cluster_centers_[:,2], marker=\"*\", s=300, color=\"purple\" ) \n",
    "\n",
    "# 散布図上に、自動車メーカーの名前をプロット\n",
    "for i, company in enumerate(df['都道府県']):\n",
    "    plt.annotate(company, (dfx.values[i], dfy.values[i]) )"
   ]
  },
  {
   "cell_type": "code",
   "execution_count": null,
   "metadata": {
    "ExecuteTime": {
     "end_time": "2019-12-17T06:45:23.732843Z",
     "start_time": "2019-12-17T06:45:23.712684Z"
    },
    "scrolled": true
   },
   "outputs": [],
   "source": [
    "### 特定の3変数で、クラスタごとに色分けして可視化（3次元プロット）」 ###\n",
    "\n",
    "from mpl_toolkits.mplot3d.axes3d import Axes3D  #3次元プロットするためのモジュール\n",
    "\n",
    "#  特定の3変数を選択\n",
    "dfx = df['世帯の年収']\n",
    "dfy = df['所要資金額']\n",
    "dfz = df['住宅面積']\n",
    "\n",
    "# グラフを手動で回転させるための設定\n",
    "%matplotlib notebook\n",
    "\n",
    "# 3次元グラフの枠を作る\n",
    "fig = plt.figure()    #枠作成\n",
    "ax = Axes3D(fig)      #3次元の軸を用意\n",
    "\n",
    "# データをプロット\n",
    "colors = {0:'blue', 1:'Orange', 2:'green', 3:'red', 4:'purple', 5:'pink', 6:'black'}\n",
    "ax.scatter( dfx, dfy, dfz, s=50, c=df['cluster'].apply(lambda x: colors[x]) )\n",
    "  # c=df['cluster']でクラスターごとに色を変更\n",
    "  # s=50でプロットサイズ指定\n",
    "  # alpha=1 をオプションに入れると透過性無し\n",
    "    \n",
    "# 軸ラベルの表示\n",
    "ax.set_xlabel( dfx.name )\n",
    "ax.set_ylabel( dfy.name )\n",
    "ax.set_zlabel( dfz.name )\n",
    "\n",
    "#fig.colorbar(p) # カラーバーを表示\n",
    " \n",
    "plt.show()"
   ]
  },
  {
   "cell_type": "code",
   "execution_count": null,
   "metadata": {
    "ExecuteTime": {
     "end_time": "2019-12-17T05:26:26.059871Z",
     "start_time": "2019-12-17T05:26:26.037142Z"
    }
   },
   "outputs": [],
   "source": [
    "# グラフをインライン表示に戻す（3次元プロット後は、必ず実行しておくこと！）\n",
    "# ※\"%matplotlib notebook\"の表示設定のままだと、3Dグラフ以外はうまく表示されないので元に戻す\n",
    "\n",
    "%matplotlib inline\n"
   ]
  },
  {
   "cell_type": "markdown",
   "metadata": {},
   "source": [
    "### 最適なクラスタ数の確認（Elbow法）"
   ]
  },
  {
   "cell_type": "code",
   "execution_count": null,
   "metadata": {
    "ExecuteTime": {
     "end_time": "2019-12-17T05:50:00.869327Z",
     "start_time": "2019-12-17T05:50:00.396583Z"
    }
   },
   "outputs": [],
   "source": [
    "SSE = []\n",
    "\n",
    "# クラスタ数1~10まで振ってクラスタ内誤差平方和 (SSE) を計算\n",
    "\n",
    "for i in range(1,11):                # 最後の11は含まれない start ≦ i ＜ stop なので要注意\n",
    "    km = KMeans(n_clusters=i,\n",
    "                init='k-means++',     # 初期値の置き方：k-means++ or random or 任意の数値配列\n",
    "                n_init=10,            # 初期値選択において、異なる乱数のシードで初期の重心を選ぶ処理の実行回数。(デフォルト値: 10)\n",
    "                max_iter=300,         # 繰り返し回数の最大値 (デフォルト値: 300)\n",
    "                random_state=0        # 乱数シードの固定（再現性を担保）\n",
    "               )\n",
    "    km.fit(X)                         # クラスタリングの計算を実行\n",
    "    SSE.append(km.inertia_)   # km.fitするとkm.inertia_ (クラスタ内誤差平方和:SSE) が得られる\n",
    "\n",
    "# 得られた結果の可視化\n",
    "plt.plot(range(1,11), SSE, marker='o')\n",
    "plt.xlabel('Number of clusters')\n",
    "plt.ylabel('SSE')\n",
    "plt.show()"
   ]
  },
  {
   "cell_type": "markdown",
   "metadata": {},
   "source": [
    "### (参考)シルエット図によるクラスタ評価"
   ]
  },
  {
   "cell_type": "code",
   "execution_count": null,
   "metadata": {
    "ExecuteTime": {
     "end_time": "2019-12-17T05:52:54.203581Z",
     "start_time": "2019-12-17T05:52:53.957637Z"
    }
   },
   "outputs": [],
   "source": [
    "\n",
    "from sklearn.metrics import silhouette_samples\n",
    "from matplotlib import cm\n",
    "\n",
    "y_km = model.fit_predict(X)\n",
    "cluster_labels = np.unique(y_km)       # y_kmの要素の中で重複を無くす\n",
    "n_clusters=cluster_labels.shape[0]     # 配列の長さ=クラスタ数\n",
    "\n",
    "# シルエット係数を計算\n",
    "silhouette_vals = silhouette_samples(X,y_km,metric='euclidean')  # サンプルデータ, クラスター番号、ユークリッド距離でシルエット係数計算\n",
    "y_ax_lower, y_ax_upper= 0,0\n",
    "yticks = []\n",
    "\n",
    "for i,c in enumerate(cluster_labels):\n",
    "        c_silhouette_vals = silhouette_vals[y_km==c]      # cluster_labelsには 0,1,2 が格納\n",
    "        c_silhouette_vals.sort()\n",
    "        y_ax_upper += len(c_silhouette_vals)              # サンプルの個数をクラスターごとに足し上げてy軸の最大値を決定\n",
    "        color = cm.jet(float(i)/n_clusters)               # 色の値を作る\n",
    "        plt.barh(range(y_ax_lower,y_ax_upper),            # 水平の棒グラフのを描画（底辺の範囲を指定）\n",
    "                         c_silhouette_vals,               # 棒の幅（1サンプルを表す）\n",
    "                         height=1.0,                      # 棒の高さ\n",
    "                         edgecolor='none',                # 棒の端の色\n",
    "                         color=color)                     # 棒の色\n",
    "        yticks.append((y_ax_lower+y_ax_upper)/2)          # クラスタラベルの表示位置を追加\n",
    "        y_ax_lower += len(c_silhouette_vals)              # 底辺の値に棒の幅を追加\n",
    "\n",
    "silhouette_avg = np.mean(silhouette_vals)                 # シルエット係数の平均値\n",
    "plt.axvline(silhouette_avg,color=\"red\",linestyle=\"--\")    # 係数の平均値に破線を引く \n",
    "plt.yticks(yticks,cluster_labels + 1)                     # クラスタレベルを表示\n",
    "plt.ylabel('Cluster')\n",
    "plt.xlabel('silhouette coefficient')\n",
    "plt.show()"
   ]
  },
  {
   "cell_type": "markdown",
   "metadata": {},
   "source": [
    "# x-meansクラスタリングモデルの構築"
   ]
  },
  {
   "cell_type": "markdown",
   "metadata": {},
   "source": [
    "## 高度なクラスタリング手法のパッケージインストール"
   ]
  },
  {
   "cell_type": "code",
   "execution_count": null,
   "metadata": {
    "ExecuteTime": {
     "end_time": "2019-12-14T08:30:46.464835Z",
     "start_time": "2019-12-14T08:30:46.076451Z"
    }
   },
   "outputs": [],
   "source": [
    "###  Anaconda Promptでのpyclusteringのパッケージインストール ###\n",
    "# 初回のみ実行（※Macの場合はターミナル上からでOK）\n",
    "\n",
    "# 下記コマンドをコピペして使用\n",
    "# conda install -c conda-forge pyclustering\n",
    "\n",
    "# ※どうしても上記でエラーが出てうまくいかない場合は、 pip install pyclustering を用いる\n",
    "#.  ただし、conda install と pip install は相性が悪い部分もあり、公式でも非推奨"
   ]
  },
  {
   "cell_type": "markdown",
   "metadata": {},
   "source": [
    "## モデルの構築"
   ]
  },
  {
   "cell_type": "code",
   "execution_count": null,
   "metadata": {
    "ExecuteTime": {
     "end_time": "2019-12-17T06:20:56.447868Z",
     "start_time": "2019-12-17T06:20:56.428214Z"
    }
   },
   "outputs": [],
   "source": [
    "import pyclustering\n",
    "from pyclustering.cluster import xmeans  # pyclustringパッケージに含まれたxmeansモジュールを読込\n",
    "\n",
    "# 説明変数のセット\n",
    "X = df.drop(columns=['都道府県']).values  # pyclusteringの仕様で、dataframet型ではなくarray型でデータを渡す必要があるため型変換\n",
    "\n",
    "# 初期状態をセット\n",
    "initial_centers = xmeans.kmeans_plusplus_initializer(data=X, amount_centers=2).initialize()\n",
    "\n",
    "# クラスタリング\n",
    "xm = xmeans.xmeans(data=X, initial_centers=initial_centers)\n",
    "xm.process()\n",
    "\n",
    "# クラスタリング結果の取得\n",
    "clusters = xm.get_clusters()"
   ]
  },
  {
   "cell_type": "markdown",
   "metadata": {},
   "source": [
    "## モデルの評価"
   ]
  },
  {
   "cell_type": "markdown",
   "metadata": {},
   "source": [
    "### クラスタ数"
   ]
  },
  {
   "cell_type": "code",
   "execution_count": null,
   "metadata": {
    "ExecuteTime": {
     "end_time": "2019-12-17T06:29:06.129193Z",
     "start_time": "2019-12-17T06:29:06.120335Z"
    }
   },
   "outputs": [],
   "source": [
    "# 分割クラスタ数の出力\n",
    "print(len(clusters))"
   ]
  },
  {
   "cell_type": "markdown",
   "metadata": {},
   "source": [
    "### グラフ出力"
   ]
  },
  {
   "cell_type": "code",
   "execution_count": null,
   "metadata": {
    "ExecuteTime": {
     "end_time": "2019-12-17T06:29:07.112411Z",
     "start_time": "2019-12-17T06:29:06.835755Z"
    }
   },
   "outputs": [],
   "source": [
    "# 2次元グラフ可視化\n",
    "pyclustering.utils.draw_clusters(data=X[:,:2], clusters=clusters)"
   ]
  },
  {
   "cell_type": "code",
   "execution_count": null,
   "metadata": {
    "ExecuteTime": {
     "end_time": "2019-12-17T06:29:09.199052Z",
     "start_time": "2019-12-17T06:29:08.873721Z"
    }
   },
   "outputs": [],
   "source": [
    "# 3次元グラフ可視化\n",
    "pyclustering.utils.draw_clusters(data=X[:,:3], clusters=clusters)"
   ]
  },
  {
   "cell_type": "markdown",
   "metadata": {},
   "source": [
    "### （参考）ボロノイ図"
   ]
  },
  {
   "cell_type": "code",
   "execution_count": null,
   "metadata": {
    "ExecuteTime": {
     "end_time": "2019-12-17T06:29:35.801149Z",
     "start_time": "2019-12-17T06:29:35.619509Z"
    }
   },
   "outputs": [],
   "source": [
    "import scipy\n",
    "from scipy.spatial import voronoi_plot_2d, Voronoi\n",
    "\n",
    "%matplotlib inline\n",
    "\n",
    "plt.style.use('ggplot')\n",
    "\n",
    "_ = plt.scatter(x=X[:, 0], y=X[:, 1])"
   ]
  },
  {
   "cell_type": "code",
   "execution_count": null,
   "metadata": {
    "ExecuteTime": {
     "end_time": "2019-12-17T06:30:18.398315Z",
     "start_time": "2019-12-17T06:30:18.220435Z"
    }
   },
   "outputs": [],
   "source": [
    "vor = Voronoi(points=X[:,:2])\n",
    "_ = voronoi_plot_2d(vor=vor)"
   ]
  },
  {
   "cell_type": "markdown",
   "metadata": {},
   "source": [
    "# DBSCAN"
   ]
  },
  {
   "cell_type": "markdown",
   "metadata": {},
   "source": [
    "## モデル構築"
   ]
  },
  {
   "cell_type": "markdown",
   "metadata": {},
   "source": [
    "### 説明変数のセット"
   ]
  },
  {
   "cell_type": "code",
   "execution_count": null,
   "metadata": {
    "ExecuteTime": {
     "end_time": "2019-12-17T06:49:08.960717Z",
     "start_time": "2019-12-17T06:49:08.955144Z"
    }
   },
   "outputs": [],
   "source": [
    "# 説明変数のセット\n",
    "X = df.drop(columns=['都道府県'])"
   ]
  },
  {
   "cell_type": "markdown",
   "metadata": {},
   "source": [
    "### データの標準化"
   ]
  },
  {
   "cell_type": "code",
   "execution_count": null,
   "metadata": {
    "ExecuteTime": {
     "end_time": "2019-12-17T06:49:11.669566Z",
     "start_time": "2019-12-17T06:49:11.666205Z"
    }
   },
   "outputs": [],
   "source": [
    "from sklearn import preprocessing      # 機械学習パッケージscikit-learnから、データ前処理モジュールの読込"
   ]
  },
  {
   "cell_type": "code",
   "execution_count": null,
   "metadata": {
    "ExecuteTime": {
     "end_time": "2019-12-17T06:49:12.309441Z",
     "start_time": "2019-12-17T06:49:12.305128Z"
    }
   },
   "outputs": [],
   "source": [
    "### 標準化 ###\n",
    "# 説明変数の標準化（Zスコア）\n",
    "X = preprocessing.scale(X)"
   ]
  },
  {
   "cell_type": "code",
   "execution_count": null,
   "metadata": {
    "ExecuteTime": {
     "end_time": "2019-12-17T06:49:18.729843Z",
     "start_time": "2019-12-17T06:49:18.716619Z"
    }
   },
   "outputs": [],
   "source": [
    "from sklearn.cluster import DBSCAN # DBSCANモジュールのインポート\n",
    "\n",
    "# 説明変数のセット\n",
    "X = df.drop(columns=['都道府県'])\n",
    "\n",
    "# モデル構築準備\n",
    "model = DBSCAN(eps=0.5, min_samples=5, metric='euclidean')\n",
    "        # 各種ハイパーパラメータ\n",
    "        #   eps: 隣接点と見なす2点間の最大距離\n",
    "        #   min_samples: ボーダー点の最小個数\n",
    "        #   metric: 距離の計算方法\n",
    "\n",
    "# モデル構築\n",
    "model.fit_predict(X)"
   ]
  },
  {
   "cell_type": "markdown",
   "metadata": {},
   "source": [
    "### 元データへのクラスタ番号紐付け"
   ]
  },
  {
   "cell_type": "code",
   "execution_count": null,
   "metadata": {
    "ExecuteTime": {
     "end_time": "2019-12-17T06:49:21.402066Z",
     "start_time": "2019-12-17T06:49:21.398306Z"
    }
   },
   "outputs": [],
   "source": [
    "### 元のdataframeにクラスタ番号を追加 ###\n",
    "df['cluster']=model.labels_"
   ]
  },
  {
   "cell_type": "code",
   "execution_count": null,
   "metadata": {
    "ExecuteTime": {
     "end_time": "2019-12-17T06:49:22.344319Z",
     "start_time": "2019-12-17T06:49:22.322939Z"
    },
    "scrolled": true
   },
   "outputs": [],
   "source": [
    "df #紐付け結果確認"
   ]
  },
  {
   "cell_type": "markdown",
   "metadata": {},
   "source": [
    "## モデルの評価"
   ]
  },
  {
   "cell_type": "markdown",
   "metadata": {},
   "source": [
    "### クラスタリング結果の可視化"
   ]
  },
  {
   "cell_type": "code",
   "execution_count": null,
   "metadata": {
    "ExecuteTime": {
     "end_time": "2019-12-17T05:52:33.572210Z",
     "start_time": "2019-12-17T05:52:22.894890Z"
    },
    "scrolled": true
   },
   "outputs": [],
   "source": [
    "### 散布図行列でクラスタごとに色分けして可視化 ###\n",
    "sns.pairplot( df, hue='cluster')"
   ]
  },
  {
   "cell_type": "markdown",
   "metadata": {},
   "source": [
    "### クラスタリング結果の可視化"
   ]
  },
  {
   "cell_type": "code",
   "execution_count": null,
   "metadata": {
    "ExecuteTime": {
     "end_time": "2019-12-17T05:52:34.596696Z",
     "start_time": "2019-12-17T05:52:33.995669Z"
    }
   },
   "outputs": [],
   "source": [
    "### 特定の2変数で、クラスタごとに色分けして可視化＋クラスタ重心の可視化 ###\n",
    "\n",
    "#  特定の2変数を選択\n",
    "dfx = df['世帯の年収']\n",
    "dfy = df['所要資金額']\n",
    "\n",
    "#　特定の2変数でクラスタごとに色分け可視化\n",
    "sns.scatterplot( dfx, dfy, hue=df['cluster'], palette=sns.color_palette(n_colors=n)  )\n",
    "    #hue: 色分け対象\n",
    "    #palette: 色パターン\n",
    "    #クラスタごとにマーカー形状も変えたい場合は、style=df['cluster'] をオプションに加える\n",
    "\n",
    "# # クラスタ重心 (mode.cluster_centers_) の可視化 ※model.cluster_centers_[:,0]で0番目の説明変数の重心座標\n",
    "# sns.scatterplot( model.cluster_centers_[:,1], model.cluster_centers_[:,2], marker=\"*\", s=300, color=\"purple\" ) \n",
    "\n",
    "# 散布図上に、自動車メーカーの名前をプロット\n",
    "for i, company in enumerate(df['都道府県']):\n",
    "    plt.annotate(company, (dfx.values[i], dfy.values[i]) )"
   ]
  },
  {
   "cell_type": "code",
   "execution_count": null,
   "metadata": {
    "ExecuteTime": {
     "end_time": "2019-12-17T05:26:13.108751Z",
     "start_time": "2019-12-17T05:26:13.042884Z"
    },
    "scrolled": true
   },
   "outputs": [],
   "source": [
    "### 特定の3変数で、クラスタごとに色分けして可視化（3次元プロット）」 ###\n",
    "\n",
    "from mpl_toolkits.mplot3d.axes3d import Axes3D  #3次元プロットするためのモジュール\n",
    "\n",
    "#  特定の3変数を選択\n",
    "dfx = df['世帯の年収']\n",
    "dfy = df['所要資金額']\n",
    "dfz = df['住宅面積']\n",
    "\n",
    "# グラフを手動で回転させるための設定\n",
    "%matplotlib notebook\n",
    "\n",
    "# 3次元グラフの枠を作る\n",
    "fig = plt.figure()    #枠作成\n",
    "ax = Axes3D(fig)      #3次元の軸を用意\n",
    "\n",
    "# データをプロット\n",
    "colors = {0:'blue', 1:'Orange', 2:'green', 3:'red', 4:'purple', 5:'pink', 6:'black'}\n",
    "ax.scatter( dfx, dfy, dfz, s=50, c=df['cluster'].apply(lambda x: colors[x]) )\n",
    "  # c=df['cluster']でクラスターごとに色を変更\n",
    "  # s=50でプロットサイズ指定\n",
    "  # alpha=1 をオプションに入れると透過性無し\n",
    "    \n",
    "# 軸ラベルの表示\n",
    "ax.set_xlabel( dfx.name )\n",
    "ax.set_ylabel( dfy.name )\n",
    "ax.set_zlabel( dfz.name )\n",
    "\n",
    "#fig.colorbar(p) # カラーバーを表示\n",
    " \n",
    "plt.show()"
   ]
  },
  {
   "cell_type": "code",
   "execution_count": null,
   "metadata": {
    "ExecuteTime": {
     "end_time": "2019-12-17T05:26:26.059871Z",
     "start_time": "2019-12-17T05:26:26.037142Z"
    }
   },
   "outputs": [],
   "source": [
    "# グラフをインライン表示に戻す（3次元プロット後は、必ず実行しておくこと！）\n",
    "# ※\"%matplotlib notebook\"の表示設定のままだと、3Dグラフ以外はうまく表示されないので元に戻す\n",
    "\n",
    "%matplotlib inline\n"
   ]
  },
  {
   "cell_type": "markdown",
   "metadata": {},
   "source": [
    "# 混合ガウスモデル (GMM)"
   ]
  },
  {
   "cell_type": "markdown",
   "metadata": {},
   "source": [
    "## モデルの構築"
   ]
  },
  {
   "cell_type": "markdown",
   "metadata": {},
   "source": [
    "### 説明変数のセット"
   ]
  },
  {
   "cell_type": "code",
   "execution_count": null,
   "metadata": {
    "ExecuteTime": {
     "end_time": "2019-12-17T07:05:57.354778Z",
     "start_time": "2019-12-17T07:05:57.350520Z"
    }
   },
   "outputs": [],
   "source": [
    "# 説明変数のセット\n",
    "X = df.drop(columns=['都道府県'])"
   ]
  },
  {
   "cell_type": "markdown",
   "metadata": {},
   "source": [
    "### データの標準化\n",
    "※GMMの場合は、標準化は必ずしも不要"
   ]
  },
  {
   "cell_type": "code",
   "execution_count": null,
   "metadata": {
    "ExecuteTime": {
     "end_time": "2019-12-17T07:05:58.783010Z",
     "start_time": "2019-12-17T07:05:58.777402Z"
    }
   },
   "outputs": [],
   "source": [
    "# from sklearn import preprocessing      # 機械学習パッケージscikit-learnから、データ前処理モジュールの読込"
   ]
  },
  {
   "cell_type": "code",
   "execution_count": null,
   "metadata": {
    "ExecuteTime": {
     "end_time": "2019-12-17T07:05:59.366914Z",
     "start_time": "2019-12-17T07:05:59.362164Z"
    }
   },
   "outputs": [],
   "source": [
    "# ### 標準化 ###\n",
    "# # 説明変数の標準化（Zスコア）\n",
    "# X = preprocessing.scale(X)"
   ]
  },
  {
   "cell_type": "markdown",
   "metadata": {},
   "source": [
    "### モデルの構築"
   ]
  },
  {
   "cell_type": "code",
   "execution_count": null,
   "metadata": {
    "ExecuteTime": {
     "end_time": "2019-12-17T07:08:46.692256Z",
     "start_time": "2019-12-17T07:08:46.658281Z"
    }
   },
   "outputs": [],
   "source": [
    "from sklearn.mixture import GaussianMixture # 機械学習パッケージに含まれたKMeansモジュール\"GaussianMixture\"を読込\n",
    "\n",
    "# クラスタ数の設定\n",
    "n = 3\n",
    "\n",
    "# クラスタリング\n",
    "model = GaussianMixture(n_components=n)\n",
    "\n",
    "model.fit(X) #Xを説明変数としてクラスタリング実行"
   ]
  },
  {
   "cell_type": "markdown",
   "metadata": {},
   "source": [
    "### ハードクラスタリング結果のクラスタ番号紐付け\n",
    "※確率最大値のクラスタ番号を採用した結果"
   ]
  },
  {
   "cell_type": "code",
   "execution_count": null,
   "metadata": {
    "ExecuteTime": {
     "end_time": "2019-12-17T07:07:30.870773Z",
     "start_time": "2019-12-17T07:07:30.864600Z"
    }
   },
   "outputs": [],
   "source": [
    "### 元のdataframeにクラスタ番号を追加 ###\n",
    "df['cluster'] =  model.predict(X)"
   ]
  },
  {
   "cell_type": "code",
   "execution_count": null,
   "metadata": {
    "ExecuteTime": {
     "end_time": "2019-12-17T07:07:33.016622Z",
     "start_time": "2019-12-17T07:07:32.965296Z"
    },
    "scrolled": true
   },
   "outputs": [],
   "source": [
    "df #紐付け結果確認"
   ]
  },
  {
   "cell_type": "markdown",
   "metadata": {},
   "source": [
    "## モデルの評価"
   ]
  },
  {
   "cell_type": "markdown",
   "metadata": {},
   "source": [
    "### クラスタリング結果の可視化"
   ]
  },
  {
   "cell_type": "code",
   "execution_count": null,
   "metadata": {
    "ExecuteTime": {
     "end_time": "2019-12-17T07:07:55.544388Z",
     "start_time": "2019-12-17T07:07:43.976159Z"
    },
    "scrolled": true
   },
   "outputs": [],
   "source": [
    "### 散布図行列でクラスタごとに色分けして可視化 ###\n",
    "sns.pairplot( df, hue='cluster')"
   ]
  },
  {
   "cell_type": "markdown",
   "metadata": {},
   "source": [
    "### クラスタリング結果の可視化"
   ]
  },
  {
   "cell_type": "code",
   "execution_count": null,
   "metadata": {
    "ExecuteTime": {
     "end_time": "2019-12-17T07:07:56.113215Z",
     "start_time": "2019-12-17T07:07:55.678389Z"
    }
   },
   "outputs": [],
   "source": [
    "### 特定の2変数で、クラスタごとに色分けして可視化＋クラスタ重心の可視化 ###\n",
    "\n",
    "#  特定の2変数を選択\n",
    "dfx = df['世帯の年収']\n",
    "dfy = df['所要資金額']\n",
    "\n",
    "#　特定の2変数でクラスタごとに色分け可視化\n",
    "sns.scatterplot( dfx, dfy, hue=df['cluster'], palette=sns.color_palette(n_colors=n)  )\n",
    "    #hue: 色分け対象\n",
    "    #palette: 色パターン\n",
    "    #クラスタごとにマーカー形状も変えたい場合は、style=df['cluster'] をオプションに加える\n",
    "\n",
    "# # クラスタ重心 (mode.cluster_centers_) の可視化 ※model.cluster_centers_[:,0]で0番目の説明変数の重心座標\n",
    "# sns.scatterplot( model.cluster_centers_[:,1], model.cluster_centers_[:,2], marker=\"*\", s=300, color=\"purple\" ) \n",
    "\n",
    "# 散布図上に、自動車メーカーの名前をプロット\n",
    "for i, company in enumerate(df['都道府県']):\n",
    "    plt.annotate(company, (dfx.values[i], dfy.values[i]) )"
   ]
  },
  {
   "cell_type": "code",
   "execution_count": null,
   "metadata": {
    "ExecuteTime": {
     "end_time": "2019-12-17T06:45:23.732843Z",
     "start_time": "2019-12-17T06:45:23.712684Z"
    },
    "scrolled": true
   },
   "outputs": [],
   "source": [
    "### 特定の3変数で、クラスタごとに色分けして可視化（3次元プロット）」 ###\n",
    "\n",
    "from mpl_toolkits.mplot3d.axes3d import Axes3D  #3次元プロットするためのモジュール\n",
    "\n",
    "#  特定の3変数を選択\n",
    "dfx = df['世帯の年収']\n",
    "dfy = df['所要資金額']\n",
    "dfz = df['住宅面積']\n",
    "\n",
    "# グラフを手動で回転させるための設定\n",
    "%matplotlib notebook\n",
    "\n",
    "# 3次元グラフの枠を作る\n",
    "fig = plt.figure()    #枠作成\n",
    "ax = Axes3D(fig)      #3次元の軸を用意\n",
    "\n",
    "# データをプロット\n",
    "colors = {0:'blue', 1:'Orange', 2:'green', 3:'red', 4:'purple', 5:'pink', 6:'black'}\n",
    "ax.scatter( dfx, dfy, dfz, s=50, c=df['cluster'].apply(lambda x: colors[x]) )\n",
    "  # c=df['cluster']でクラスターごとに色を変更\n",
    "  # s=50でプロットサイズ指定\n",
    "  # alpha=1 をオプションに入れると透過性無し\n",
    "    \n",
    "# 軸ラベルの表示\n",
    "ax.set_xlabel( dfx.name )\n",
    "ax.set_ylabel( dfy.name )\n",
    "ax.set_zlabel( dfz.name )\n",
    "\n",
    "#fig.colorbar(p) # カラーバーを表示\n",
    " \n",
    "plt.show()"
   ]
  },
  {
   "cell_type": "markdown",
   "metadata": {},
   "source": [
    "### ソフトクラスタリング結果\n",
    "※各クラスタへの所属確率を出力"
   ]
  },
  {
   "cell_type": "code",
   "execution_count": null,
   "metadata": {
    "scrolled": true
   },
   "outputs": [],
   "source": [
    "### 構築したGMMから、各クラスタへの所属確率を抽出 ###\n",
    "cluster_prob = model.predict_proba(X)\n",
    "print(cluster_prob)"
   ]
  },
  {
   "cell_type": "code",
   "execution_count": null,
   "metadata": {},
   "outputs": [],
   "source": [
    "#  特定の2変数を選択して、可視化\n",
    "dfx = df['世帯の年収']\n",
    "dfy = df['所要資金額']\n",
    "plt.scatter(dfx, dfy, c=[target_to_color(t) for t in model.predict_proba(X)])"
   ]
  },
  {
   "cell_type": "markdown",
   "metadata": {},
   "source": [
    "# 凝集型階層的クラスタリング"
   ]
  },
  {
   "cell_type": "markdown",
   "metadata": {},
   "source": [
    "# モデルの構築"
   ]
  },
  {
   "cell_type": "markdown",
   "metadata": {},
   "source": [
    "### 説明変数のセット"
   ]
  },
  {
   "cell_type": "code",
   "execution_count": null,
   "metadata": {
    "ExecuteTime": {
     "end_time": "2019-12-17T06:49:08.960717Z",
     "start_time": "2019-12-17T06:49:08.955144Z"
    }
   },
   "outputs": [],
   "source": [
    "# 説明変数のセット\n",
    "X = df.drop(columns=['都道府県'])"
   ]
  },
  {
   "cell_type": "markdown",
   "metadata": {},
   "source": [
    "### データの標準化"
   ]
  },
  {
   "cell_type": "code",
   "execution_count": null,
   "metadata": {
    "ExecuteTime": {
     "end_time": "2019-12-17T06:49:11.669566Z",
     "start_time": "2019-12-17T06:49:11.666205Z"
    }
   },
   "outputs": [],
   "source": [
    "from sklearn import preprocessing      # 機械学習パッケージscikit-learnから、データ前処理モジュールの読込"
   ]
  },
  {
   "cell_type": "code",
   "execution_count": null,
   "metadata": {
    "ExecuteTime": {
     "end_time": "2019-12-17T06:49:12.309441Z",
     "start_time": "2019-12-17T06:49:12.305128Z"
    }
   },
   "outputs": [],
   "source": [
    "### 標準化 ###\n",
    "# 説明変数の標準化（Zスコア）\n",
    "X = preprocessing.scale(X)"
   ]
  },
  {
   "cell_type": "markdown",
   "metadata": {},
   "source": [
    "### クラスタリング"
   ]
  },
  {
   "cell_type": "code",
   "execution_count": null,
   "metadata": {
    "ExecuteTime": {
     "end_time": "2019-12-17T07:57:58.423191Z",
     "start_time": "2019-12-17T07:57:57.768550Z"
    }
   },
   "outputs": [],
   "source": [
    "from scipy.cluster.hierarchy import dendrogram, linkage\n",
    "\n",
    "# クラスタリング\n",
    "linkage_result = linkage( X, method='ward', metric='euclidean')\n",
    "                # metric: 距離の計量方法（euclidean: ユークリッド距離）\n",
    "                # method: 手法 (\"average\", \"centroid\", \"complete\", \"median\", \"single\", \"ward\", \"weighted\")\n",
    "\n",
    "# デンドログラムの描画\n",
    "dendrogram( linkage_result, labels=df['都道府県'].values )\n",
    "\n",
    "plt.rcParams['figure.figsize'] = 20,5  # グラフサイズを大きく\n",
    "plt.tick_params(labelsize=18)          # フォントサイズを大きく\n",
    "plt.show()"
   ]
  },
  {
   "cell_type": "markdown",
   "metadata": {},
   "source": [
    "# 各種クラスタリング手法の比較"
   ]
  },
  {
   "cell_type": "code",
   "execution_count": null,
   "metadata": {
    "ExecuteTime": {
     "end_time": "2019-12-17T06:03:15.785599Z",
     "start_time": "2019-12-17T06:03:05.298903Z"
    }
   },
   "outputs": [],
   "source": [
    "# 参考サイト：Comparing different clustering algorithms on toy datasets — scikit-learn 0.22 documentation\n",
    "# - https://scikit-learn.org/stable/auto_examples/cluster/plot_cluster_comparison.html\n",
    "        \n",
    "print(__doc__)\n",
    "\n",
    "import time\n",
    "import warnings\n",
    "\n",
    "import numpy as np\n",
    "import matplotlib.pyplot as plt\n",
    "\n",
    "from sklearn import cluster, datasets, mixture\n",
    "from sklearn.neighbors import kneighbors_graph\n",
    "from sklearn.preprocessing import StandardScaler\n",
    "from itertools import cycle, islice\n",
    "\n",
    "import pyclustering                        # 高度なクラスタリング手法のpyclusteringパッケージをインポート\n",
    "from pyclustering.cluster import xmeans    # pyclustering.cluster配下の xmeans手法をインポート\n",
    "                                           #（この1行が無いと毎回 \"pyclustering.cluster.xmeans\" と呼び出す必要がある）\n",
    "\n",
    "np.random.seed(0)\n",
    "\n",
    "# ============\n",
    "# Generate datasets. We choose the size big enough to see the scalability\n",
    "# of the algorithms, but not too big to avoid too long running times\n",
    "# ============\n",
    "n_samples = 1500\n",
    "noisy_circles = datasets.make_circles(n_samples=n_samples, factor=.5,\n",
    "                                      noise=.05)\n",
    "noisy_moons = datasets.make_moons(n_samples=n_samples, noise=.05)\n",
    "blobs = datasets.make_blobs(n_samples=n_samples, random_state=8)\n",
    "no_structure = np.random.rand(n_samples, 2), None\n",
    "\n",
    "# Anisotropicly distributed data\n",
    "random_state = 170\n",
    "X, y = datasets.make_blobs(n_samples=n_samples, random_state=random_state)\n",
    "transformation = [[0.6, -0.6], [-0.4, 0.8]]\n",
    "X_aniso = np.dot(X, transformation)\n",
    "aniso = (X_aniso, y)\n",
    "\n",
    "# blobs with varied variances\n",
    "varied = datasets.make_blobs(n_samples=n_samples,\n",
    "                             cluster_std=[1.0, 2.5, 0.5],\n",
    "                             random_state=random_state)\n",
    "\n",
    "# ============\n",
    "# Set up cluster parameters\n",
    "# ============\n",
    "plt.figure(figsize=(9 * 2 + 3, 12.5))\n",
    "plt.subplots_adjust(left=.02, right=.98, bottom=.001, top=.96, wspace=.05,\n",
    "                    hspace=.01)\n",
    "\n",
    "plot_num = 1\n",
    "\n",
    "default_base = {'quantile': .3,\n",
    "                'eps': .3,\n",
    "                'damping': .9,\n",
    "                'preference': -200,\n",
    "                'n_neighbors': 10,\n",
    "                'n_clusters': 3,\n",
    "                'min_samples': 20,\n",
    "                'xi': 0.05,\n",
    "                'min_cluster_size': 0.1}\n",
    "\n",
    "datasets = [\n",
    "    (blobs, {}),\n",
    "    (varied, {'eps': .18, 'n_neighbors': 2,\n",
    "          'min_samples': 5, 'xi': 0.035, 'min_cluster_size': .2}),\n",
    "    (aniso, {'eps': .15, 'n_neighbors': 2,\n",
    "         'min_samples': 20, 'xi': 0.1, 'min_cluster_size': .2}),\n",
    "    (noisy_moons, {'damping': .75, 'preference': -220, 'n_clusters': 2}),\n",
    "    (noisy_circles, {'damping': .77, 'preference': -240,\n",
    "                 'quantile': .2, 'n_clusters': 2,\n",
    "                 'min_samples': 20, 'xi': 0.25}),\n",
    "    (no_structure, {})]\n",
    "\n",
    "for i_dataset, (dataset, algo_params) in enumerate(datasets):\n",
    "    # update parameters with dataset-specific values\n",
    "    params = default_base.copy()\n",
    "    params.update(algo_params)\n",
    "\n",
    "    X, y = dataset\n",
    "\n",
    "    # normalize dataset for easier parameter selection\n",
    "    X = StandardScaler().fit_transform(X)\n",
    "\n",
    "    # estimate bandwidth for mean shift\n",
    "    bandwidth = cluster.estimate_bandwidth(X, quantile=params['quantile'])\n",
    "\n",
    "    # connectivity matrix for structured Ward\n",
    "    connectivity = kneighbors_graph(\n",
    "        X, n_neighbors=params['n_neighbors'], include_self=False)\n",
    "    # make connectivity symmetric\n",
    "    connectivity = 0.5 * (connectivity + connectivity.T)\n",
    "\n",
    "    # ============\n",
    "    # Create cluster objects\n",
    "    # ============\n",
    "    ms = cluster.MeanShift(bandwidth=bandwidth, bin_seeding=True)\n",
    "    two_means = cluster.MiniBatchKMeans(n_clusters=params['n_clusters'])\n",
    "    ward = cluster.AgglomerativeClustering(\n",
    "        n_clusters=params['n_clusters'], linkage='ward',\n",
    "        connectivity=connectivity)\n",
    "    spectral = cluster.SpectralClustering(\n",
    "        n_clusters=params['n_clusters'], eigen_solver='arpack',\n",
    "        affinity=\"nearest_neighbors\")\n",
    "    dbscan = cluster.DBSCAN(eps=params['eps'])\n",
    "#     optics = cluster.OPTICS(min_samples=params['min_samples'],\n",
    "#                             xi=params['xi'],\n",
    "#                             min_cluster_size=params['min_cluster_size'])\n",
    "#     affinity_propagation = cluster.AffinityPropagation(\n",
    "#         damping=params['damping'], preference=params['preference'])\n",
    "    average_linkage = cluster.AgglomerativeClustering(\n",
    "        linkage=\"average\", affinity=\"cityblock\",\n",
    "        n_clusters=params['n_clusters'], connectivity=connectivity)\n",
    "#     birch = cluster.Birch(n_clusters=params['n_clusters'])\n",
    "    gmm = mixture.GaussianMixture(\n",
    "        n_components=params['n_clusters'], covariance_type='full')\n",
    "\n",
    "    clustering_algorithms = (\n",
    "        ('KMeans (MiniBatch)', two_means),\n",
    "#         ('AffinityPropagation', affinity_propagation),\n",
    "        ('GaussianMixture', gmm),\n",
    "        ('DBSCAN', dbscan),\n",
    "        ('MeanShift', ms),\n",
    "        ('SpectralClustering', spectral),\n",
    "        ('Ward', ward),\n",
    "        ('AgglomerativeClustering', average_linkage)\n",
    "#         ('OPTICS', optics),\n",
    "#         ('Birch', birch),\n",
    "    )\n",
    "\n",
    "    for name, algorithm in clustering_algorithms:\n",
    "        t0 = time.time()\n",
    "\n",
    "        # catch warnings related to kneighbors_graph\n",
    "        with warnings.catch_warnings():\n",
    "            warnings.filterwarnings(\n",
    "                \"ignore\",\n",
    "                message=\"the number of connected components of the \" +\n",
    "                \"connectivity matrix is [0-9]{1,2}\" +\n",
    "                \" > 1. Completing it to avoid stopping the tree early.\",\n",
    "                category=UserWarning)\n",
    "            warnings.filterwarnings(\n",
    "                \"ignore\",\n",
    "                message=\"Graph is not fully connected, spectral embedding\" +\n",
    "                \" may not work as expected.\",\n",
    "                category=UserWarning)\n",
    "            algorithm.fit(X)\n",
    "\n",
    "        t1 = time.time()\n",
    "        if hasattr(algorithm, 'labels_'):\n",
    "            y_pred = algorithm.labels_.astype(np.int)\n",
    "        else:\n",
    "            y_pred = algorithm.predict(X)\n",
    "\n",
    "        plt.subplot(len(datasets), len(clustering_algorithms), plot_num)\n",
    "        if i_dataset == 0:\n",
    "            plt.title(name, size=18)\n",
    "\n",
    "        colors = np.array(list(islice(cycle(['#377eb8', '#ff7f00', '#4daf4a',\n",
    "                                             '#f781bf', '#a65628', '#984ea3',\n",
    "                                             '#999999', '#e41a1c', '#dede00']),\n",
    "                                      int(max(y_pred) + 1))))\n",
    "        # add black color for outliers (if any)\n",
    "        colors = np.append(colors, [\"#000000\"])\n",
    "        plt.scatter(X[:, 0], X[:, 1], s=10, color=colors[y_pred])\n",
    "\n",
    "        plt.xlim(-2.5, 2.5)\n",
    "        plt.ylim(-2.5, 2.5)\n",
    "        plt.xticks(())\n",
    "        plt.yticks(())\n",
    "        plt.text(.99, .01, ('%.2fs' % (t1 - t0)).lstrip('0'),\n",
    "                 transform=plt.gca().transAxes, size=15,\n",
    "                 horizontalalignment='right')\n",
    "        plot_num += 1\n",
    "\n",
    "plt.show()"
   ]
  }
 ],
 "metadata": {
  "kernelspec": {
   "display_name": "Python 3 (ipykernel)",
   "language": "python",
   "name": "python3"
  },
  "language_info": {
   "codemirror_mode": {
    "name": "ipython",
    "version": 3
   },
   "file_extension": ".py",
   "mimetype": "text/x-python",
   "name": "python",
   "nbconvert_exporter": "python",
   "pygments_lexer": "ipython3",
   "version": "3.8.16"
  },
  "toc": {
   "base_numbering": 1,
   "nav_menu": {},
   "number_sections": true,
   "sideBar": true,
   "skip_h1_title": false,
   "title_cell": "Table of Contents",
   "title_sidebar": "Contents",
   "toc_cell": false,
   "toc_position": {},
   "toc_section_display": true,
   "toc_window_display": false
  },
  "varInspector": {
   "cols": {
    "lenName": 16,
    "lenType": 16,
    "lenVar": 40
   },
   "kernels_config": {
    "python": {
     "delete_cmd_postfix": "",
     "delete_cmd_prefix": "del ",
     "library": "var_list.py",
     "varRefreshCmd": "print(var_dic_list())"
    },
    "r": {
     "delete_cmd_postfix": ") ",
     "delete_cmd_prefix": "rm(",
     "library": "var_list.r",
     "varRefreshCmd": "cat(var_dic_list()) "
    }
   },
   "types_to_exclude": [
    "module",
    "function",
    "builtin_function_or_method",
    "instance",
    "_Feature"
   ],
   "window_display": false
  }
 },
 "nbformat": 4,
 "nbformat_minor": 4
}
